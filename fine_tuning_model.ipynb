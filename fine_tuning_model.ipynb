{
 "cells": [
  {
   "cell_type": "markdown",
   "metadata": {},
   "source": [
    "# Spam/Jailbreak Classification"
   ]
  },
  {
   "cell_type": "markdown",
   "metadata": {},
   "source": [
    "**Fine-Tuning a Base BERT Model**"
   ]
  },
  {
   "cell_type": "markdown",
   "metadata": {},
   "source": [
    "---"
   ]
  },
  {
   "cell_type": "markdown",
   "metadata": {},
   "source": [
    "## Dependencies"
   ]
  },
  {
   "cell_type": "markdown",
   "metadata": {},
   "source": [
    "### Modules"
   ]
  },
  {
   "cell_type": "code",
   "execution_count": null,
   "metadata": {
    "trusted": true
   },
   "outputs": [],
   "source": [
    "%pip install fastai"
   ]
  },
  {
   "cell_type": "code",
   "execution_count": null,
   "metadata": {
    "trusted": true
   },
   "outputs": [],
   "source": [
    "%pip install torch"
   ]
  },
  {
   "cell_type": "code",
   "execution_count": null,
   "metadata": {
    "trusted": true
   },
   "outputs": [],
   "source": [
    "%pip install transformers"
   ]
  },
  {
   "cell_type": "code",
   "execution_count": null,
   "metadata": {
    "trusted": true
   },
   "outputs": [],
   "source": [
    "%pip install datasets"
   ]
  },
  {
   "cell_type": "code",
   "execution_count": null,
   "metadata": {
    "trusted": true
   },
   "outputs": [],
   "source": [
    "%pip install tokenizers"
   ]
  },
  {
   "cell_type": "code",
   "execution_count": null,
   "metadata": {
    "trusted": true
   },
   "outputs": [],
   "source": [
    "%pip install scikit-learn"
   ]
  },
  {
   "cell_type": "code",
   "execution_count": null,
   "metadata": {
    "trusted": true
   },
   "outputs": [],
   "source": [
    "%pip install matplotlib"
   ]
  },
  {
   "cell_type": "code",
   "execution_count": null,
   "metadata": {
    "trusted": true
   },
   "outputs": [],
   "source": [
    "%pip install spacy"
   ]
  },
  {
   "cell_type": "code",
   "execution_count": null,
   "metadata": {
    "trusted": true
   },
   "outputs": [],
   "source": [
    "%pip install evaluate"
   ]
  },
  {
   "cell_type": "code",
   "execution_count": null,
   "metadata": {
    "trusted": true
   },
   "outputs": [],
   "source": [
    "%pip install accelerate"
   ]
  },
  {
   "cell_type": "markdown",
   "metadata": {},
   "source": [
    "### Imports"
   ]
  },
  {
   "cell_type": "code",
   "execution_count": 1,
   "metadata": {
    "execution": {
     "iopub.execute_input": "2025-08-08T15:46:48.871666Z",
     "iopub.status.busy": "2025-08-08T15:46:48.871381Z",
     "iopub.status.idle": "2025-08-08T15:46:48.876939Z",
     "shell.execute_reply": "2025-08-08T15:46:48.876152Z",
     "shell.execute_reply.started": "2025-08-08T15:46:48.871643Z"
    },
    "trusted": true
   },
   "outputs": [
    {
     "name": "stderr",
     "output_type": "stream",
     "text": [
      "/Users/admin/Desktop/Spam-Jailbreak-Classification/.venv/lib/python3.12/site-packages/tqdm/auto.py:21: TqdmWarning: IProgress not found. Please update jupyter and ipywidgets. See https://ipywidgets.readthedocs.io/en/stable/user_install.html\n",
      "  from .autonotebook import tqdm as notebook_tqdm\n"
     ]
    }
   ],
   "source": [
    "import pandas as pd\n",
    "import numpy as np\n",
    "from sklearn.model_selection import train_test_split\n",
    "from fastai.text.all import *\n",
    "from transformers import AutoTokenizer, AutoModelForSequenceClassification, TrainingArguments, Trainer, DataCollatorWithPadding, pipeline\n",
    "from datasets import Dataset, DatasetDict\n",
    "import numpy as np\n",
    "import evaluate\n",
    "import os\n",
    "from sklearn.metrics import precision_recall_fscore_support"
   ]
  },
  {
   "cell_type": "markdown",
   "metadata": {},
   "source": [
    "---"
   ]
  },
  {
   "cell_type": "markdown",
   "metadata": {},
   "source": [
    "## Data"
   ]
  },
  {
   "cell_type": "markdown",
   "metadata": {},
   "source": [
    "190K+ Spam | Ham Email Dataset for Classification: https://www.kaggle.com/datasets/meruvulikith/190k-spam-ham-email-dataset-for-classification\n",
    "\n",
    "Emails for spam or ham classification (Trec 2007): https://www.kaggle.com/datasets/bayes2003/emails-for-spam-or-ham-classification-trec-2007?select=email_text.csv"
   ]
  },
  {
   "cell_type": "markdown",
   "metadata": {},
   "source": [
    "### Filtering"
   ]
  },
  {
   "cell_type": "code",
   "execution_count": 4,
   "metadata": {
    "execution": {
     "iopub.execute_input": "2025-08-08T11:42:40.850884Z",
     "iopub.status.busy": "2025-08-08T11:42:40.850304Z",
     "iopub.status.idle": "2025-08-08T11:42:40.855281Z",
     "shell.execute_reply": "2025-08-08T11:42:40.854524Z",
     "shell.execute_reply.started": "2025-08-08T11:42:40.850853Z"
    },
    "trusted": true
   },
   "outputs": [
    {
     "name": "stdout",
     "output_type": "stream",
     "text": [
      "Directory 'data' created successfully.\n"
     ]
    }
   ],
   "source": [
    "directory = \"data\"\n",
    "try:\n",
    "    os.mkdir(directory)\n",
    "    print(f\"Directory '{directory}' created successfully.\")\n",
    "except FileExistsError:\n",
    "    print(f\"Directory '{directory}' already exists.\")"
   ]
  },
  {
   "cell_type": "markdown",
   "metadata": {},
   "source": [
    "Download 2 datasets into \"data\" folder"
   ]
  },
  {
   "cell_type": "code",
   "execution_count": 5,
   "metadata": {
    "execution": {
     "iopub.execute_input": "2025-08-08T11:43:33.844683Z",
     "iopub.status.busy": "2025-08-08T11:43:33.843924Z",
     "iopub.status.idle": "2025-08-08T11:43:43.080028Z",
     "shell.execute_reply": "2025-08-08T11:43:43.079462Z",
     "shell.execute_reply.started": "2025-08-08T11:43:33.844651Z"
    },
    "trusted": true
   },
   "outputs": [],
   "source": [
    "# df_a = pd.read_csv(\"data/email_text.csv\")\n",
    "# df_b = pd.read_csv(\"data/spam_Emails_data.csv\")\n",
    "\n",
    "#kaggle \n",
    "df_a = pd.read_csv(\"/kaggle/input/emails-for-spam-or-ham-classification-trec-2007/email_text.csv\")\n",
    "df_b = pd.read_csv(\"/kaggle/input/190k-spam-ham-email-dataset-for-classification/spam_Emails_data.csv\")"
   ]
  },
  {
   "cell_type": "code",
   "execution_count": 8,
   "metadata": {
    "execution": {
     "iopub.execute_input": "2025-08-08T11:20:46.350404Z",
     "iopub.status.busy": "2025-08-08T11:20:46.348849Z",
     "iopub.status.idle": "2025-08-08T11:20:46.362311Z",
     "shell.execute_reply": "2025-08-08T11:20:46.361049Z",
     "shell.execute_reply.started": "2025-08-08T11:20:46.350368Z"
    },
    "trusted": true
   },
   "outputs": [
    {
     "data": {
      "text/html": [
       "<div>\n",
       "<style scoped>\n",
       "    .dataframe tbody tr th:only-of-type {\n",
       "        vertical-align: middle;\n",
       "    }\n",
       "\n",
       "    .dataframe tbody tr th {\n",
       "        vertical-align: top;\n",
       "    }\n",
       "\n",
       "    .dataframe thead th {\n",
       "        text-align: right;\n",
       "    }\n",
       "</style>\n",
       "<table border=\"1\" class=\"dataframe\">\n",
       "  <thead>\n",
       "    <tr style=\"text-align: right;\">\n",
       "      <th></th>\n",
       "      <th>label</th>\n",
       "      <th>text</th>\n",
       "    </tr>\n",
       "  </thead>\n",
       "  <tbody>\n",
       "    <tr>\n",
       "      <th>0</th>\n",
       "      <td>1</td>\n",
       "      <td>do you feel the pressure to perform and not rising to the occasion try v ia gr a your anxiety will be a thing of the past and you will be back to your old self</td>\n",
       "    </tr>\n",
       "    <tr>\n",
       "      <th>1</th>\n",
       "      <td>0</td>\n",
       "      <td>hi i've just updated from the gulus and i check on other mirrors it seems there is a little typo in debian readme file example http gulus usherbrooke ca debian readme ftp ftp fr debian org debian readme testing or lenny access this release through dists testing the current tested development snapshot is named etch packages which have been tested in unstable and passed automated tests propogate to this release etch should be replace by lenny like in the readme html yan morin consultant en logiciel libre yan morin savoirfairelinux com escapenumber escapenumber escapenumber to unsubscribe ema...</td>\n",
       "    </tr>\n",
       "    <tr>\n",
       "      <th>2</th>\n",
       "      <td>1</td>\n",
       "      <td>mega authenticv i a g r a discount pricec i a l i s discount pricedo not miss it click here http www moujsjkhchum com</td>\n",
       "    </tr>\n",
       "    <tr>\n",
       "      <th>3</th>\n",
       "      <td>1</td>\n",
       "      <td>hey billy it was really fun going out the other night and talking while we were out you said that you felt insecure about your manhood i noticed in the toilets you were quite small in that area but not to worry that website that i was telling you about is my secret weapon to an extra escapenumber inches trust me girls love bigger ones i've had escapenumber times as many chicks since i used these pills a year ago the package i used was the escapenumber month supply one and its worth every cent and more the website is http ctmay com ring me on the weekend and we will go out and drink again a...</td>\n",
       "    </tr>\n",
       "    <tr>\n",
       "      <th>4</th>\n",
       "      <td>1</td>\n",
       "      <td>system of the home it will have the capabilities to be linked far as i know and what i am doing within it as a part of it so with respect to the affects of technology on society we have science ad agencies are cashin g in on its' commerciality and photographs and paint on electronic canvases it still seems like silence white out black out lights out it didn't happen although far from p erfect especially in that it precludes a vast explanation for this i can' t understand how people can rely so avant gardes of the art world additionally writers and lawyers yet to re ach its full potential i...</td>\n",
       "    </tr>\n",
       "    <tr>\n",
       "      <th>...</th>\n",
       "      <td>...</td>\n",
       "      <td>...</td>\n",
       "    </tr>\n",
       "    <tr>\n",
       "      <th>53663</th>\n",
       "      <td>1</td>\n",
       "      <td>versuchen sie unser produkt und sie werden fuhlen was unsere kunden bestatigen preise die keine konkurrenz kennen kein peinlicher arztbesuch erforderlicht kein langes warten auslieferung innerhalb von escapenumber escapenumber tagen diskrete verpackung und zahlung kostenlose arztliche telefon beratung bequem und diskret online bestellen visa verifizierter onlineshop keine versteckte kosten nur fur kurze zeit vier pillen umsonst erhalten http osxqpu setcare hk escapenumber</td>\n",
       "    </tr>\n",
       "    <tr>\n",
       "      <th>53664</th>\n",
       "      <td>1</td>\n",
       "      <td>while we may have high expectations of our associates we also give them high rewards imagine being part of a stable organization with a sterling reputation a place where the sydney car centre is an integral part of all that we do with our car centre personality you'll not just succeed you'll thrive and with our strong commitment to promoting from within you'll definitely enjoy your rise to the top today the sydney car centre is looking for an industrious regional assistant to fasten the process of the delivery of customer payments to the suppliers the position offered is a part time job an...</td>\n",
       "    </tr>\n",
       "    <tr>\n",
       "      <th>53665</th>\n",
       "      <td>0</td>\n",
       "      <td>for those who are interested i just cook a little tcltkhelp function to ease access to the tcl tk documentation under windows this is on the wiki discussion of the tkcommands help page at http wiki r project org rwiki doku php id rdoc tcltk tkcommands best philippe grosjean ° prof philippe grosjean numerical ecology of aquatic systems mons hainaut university belgium duncan murdoch wrote on escapenumber escapenumber escapenumber escapenumber escapenumber am mike meredith wrote i think it would help if the tcl tk manuals were added to the rgui help menu why google when they are on your hard ...</td>\n",
       "    </tr>\n",
       "    <tr>\n",
       "      <th>53666</th>\n",
       "      <td>0</td>\n",
       "      <td>hello as i wrote i call sqlfetch channel t studie and this function generates in the background the concrete query how can i view log the concrete query regards bernhard original message from duprez cédric mailto cedric duprez ifn fr sent friday july escapenumber escapenumber escapenumber escapenumber am to bernhard wellhöfer cc r help stat math ethz ch subject re r rodbc problem hello the problem seems to be in the query syntax can you show us the query you are trying to perform regards cedric message d'origine de r help bounces stat math ethz ch mailto r help bounces stat math ethz ch de...</td>\n",
       "    </tr>\n",
       "    <tr>\n",
       "      <th>53667</th>\n",
       "      <td>1</td>\n",
       "      <td>well are implicated when does not the stage where the be seen in minute began that terminus with some yeahs ago even if he thundered hysterically ends but at starving wages before then plunged into high the spirit mallow smiled to form an even he blew smoke i can prove to the stars that never learn to his shoulders his sudden conviction any personal malevolent demon gorov shrugged his the necessary do in city council or not seem i couldn't he ponyets winced at all concerned to the directions to ruin and for korellian and that seat was now confusion with such as much law out upon an honorab...</td>\n",
       "    </tr>\n",
       "  </tbody>\n",
       "</table>\n",
       "<p>53668 rows × 2 columns</p>\n",
       "</div>"
      ],
      "text/plain": [
       "       label  \\\n",
       "0          1   \n",
       "1          0   \n",
       "2          1   \n",
       "3          1   \n",
       "4          1   \n",
       "...      ...   \n",
       "53663      1   \n",
       "53664      1   \n",
       "53665      0   \n",
       "53666      0   \n",
       "53667      1   \n",
       "\n",
       "                                                                                                                                                                                                                                                                                                                                                                                                                                                                                                                                                                                                                          text  \n",
       "0                                                                                                                                                                                                                                                                                                                                                                                                                                                             do you feel the pressure to perform and not rising to the occasion try v ia gr a your anxiety will be a thing of the past and you will be back to your old self   \n",
       "1      hi i've just updated from the gulus and i check on other mirrors it seems there is a little typo in debian readme file example http gulus usherbrooke ca debian readme ftp ftp fr debian org debian readme testing or lenny access this release through dists testing the current tested development snapshot is named etch packages which have been tested in unstable and passed automated tests propogate to this release etch should be replace by lenny like in the readme html yan morin consultant en logiciel libre yan morin savoirfairelinux com escapenumber escapenumber escapenumber to unsubscribe ema...  \n",
       "2                                                                                                                                                                                                                                                                                                                                                                                                                                                                                                        mega authenticv i a g r a discount pricec i a l i s discount pricedo not miss it click here http www moujsjkhchum com  \n",
       "3      hey billy it was really fun going out the other night and talking while we were out you said that you felt insecure about your manhood i noticed in the toilets you were quite small in that area but not to worry that website that i was telling you about is my secret weapon to an extra escapenumber inches trust me girls love bigger ones i've had escapenumber times as many chicks since i used these pills a year ago the package i used was the escapenumber month supply one and its worth every cent and more the website is http ctmay com ring me on the weekend and we will go out and drink again a...  \n",
       "4      system of the home it will have the capabilities to be linked far as i know and what i am doing within it as a part of it so with respect to the affects of technology on society we have science ad agencies are cashin g in on its' commerciality and photographs and paint on electronic canvases it still seems like silence white out black out lights out it didn't happen although far from p erfect especially in that it precludes a vast explanation for this i can' t understand how people can rely so avant gardes of the art world additionally writers and lawyers yet to re ach its full potential i...  \n",
       "...                                                                                                                                                                                                                                                                                                                                                                                                                                                                                                                                                                                                                        ...  \n",
       "53663                                                                                                                             versuchen sie unser produkt und sie werden fuhlen was unsere kunden bestatigen preise die keine konkurrenz kennen kein peinlicher arztbesuch erforderlicht kein langes warten auslieferung innerhalb von escapenumber escapenumber tagen diskrete verpackung und zahlung kostenlose arztliche telefon beratung bequem und diskret online bestellen visa verifizierter onlineshop keine versteckte kosten nur fur kurze zeit vier pillen umsonst erhalten http osxqpu setcare hk escapenumber  \n",
       "53664  while we may have high expectations of our associates we also give them high rewards imagine being part of a stable organization with a sterling reputation a place where the sydney car centre is an integral part of all that we do with our car centre personality you'll not just succeed you'll thrive and with our strong commitment to promoting from within you'll definitely enjoy your rise to the top today the sydney car centre is looking for an industrious regional assistant to fasten the process of the delivery of customer payments to the suppliers the position offered is a part time job an...  \n",
       "53665  for those who are interested i just cook a little tcltkhelp function to ease access to the tcl tk documentation under windows this is on the wiki discussion of the tkcommands help page at http wiki r project org rwiki doku php id rdoc tcltk tkcommands best philippe grosjean ° prof philippe grosjean numerical ecology of aquatic systems mons hainaut university belgium duncan murdoch wrote on escapenumber escapenumber escapenumber escapenumber escapenumber am mike meredith wrote i think it would help if the tcl tk manuals were added to the rgui help menu why google when they are on your hard ...  \n",
       "53666  hello as i wrote i call sqlfetch channel t studie and this function generates in the background the concrete query how can i view log the concrete query regards bernhard original message from duprez cédric mailto cedric duprez ifn fr sent friday july escapenumber escapenumber escapenumber escapenumber am to bernhard wellhöfer cc r help stat math ethz ch subject re r rodbc problem hello the problem seems to be in the query syntax can you show us the query you are trying to perform regards cedric message d'origine de r help bounces stat math ethz ch mailto r help bounces stat math ethz ch de...  \n",
       "53667  well are implicated when does not the stage where the be seen in minute began that terminus with some yeahs ago even if he thundered hysterically ends but at starving wages before then plunged into high the spirit mallow smiled to form an even he blew smoke i can prove to the stars that never learn to his shoulders his sudden conviction any personal malevolent demon gorov shrugged his the necessary do in city council or not seem i couldn't he ponyets winced at all concerned to the directions to ruin and for korellian and that seat was now confusion with such as much law out upon an honorab...  \n",
       "\n",
       "[53668 rows x 2 columns]"
      ]
     },
     "execution_count": 8,
     "metadata": {},
     "output_type": "execute_result"
    }
   ],
   "source": [
    "df_a"
   ]
  },
  {
   "cell_type": "code",
   "execution_count": 6,
   "metadata": {
    "execution": {
     "iopub.execute_input": "2025-08-08T11:44:38.282392Z",
     "iopub.status.busy": "2025-08-08T11:44:38.282120Z",
     "iopub.status.idle": "2025-08-08T11:44:38.309299Z",
     "shell.execute_reply": "2025-08-08T11:44:38.308486Z",
     "shell.execute_reply.started": "2025-08-08T11:44:38.282374Z"
    },
    "trusted": true
   },
   "outputs": [],
   "source": [
    "df_b['label'] = df_b['label'].map({\"Spam\": 1, \"Ham\": 0})"
   ]
  },
  {
   "cell_type": "code",
   "execution_count": 7,
   "metadata": {
    "execution": {
     "iopub.execute_input": "2025-08-08T11:44:38.384099Z",
     "iopub.status.busy": "2025-08-08T11:44:38.383584Z",
     "iopub.status.idle": "2025-08-08T11:44:38.394028Z",
     "shell.execute_reply": "2025-08-08T11:44:38.393259Z",
     "shell.execute_reply.started": "2025-08-08T11:44:38.384076Z"
    },
    "trusted": true
   },
   "outputs": [
    {
     "data": {
      "text/plain": [
       "array([1, 0])"
      ]
     },
     "execution_count": 7,
     "metadata": {},
     "output_type": "execute_result"
    }
   ],
   "source": [
    "df_b['label'].unique()"
   ]
  },
  {
   "cell_type": "code",
   "execution_count": 8,
   "metadata": {
    "execution": {
     "iopub.execute_input": "2025-08-08T11:44:38.571845Z",
     "iopub.status.busy": "2025-08-08T11:44:38.571109Z",
     "iopub.status.idle": "2025-08-08T11:44:38.617254Z",
     "shell.execute_reply": "2025-08-08T11:44:38.616595Z",
     "shell.execute_reply.started": "2025-08-08T11:44:38.571818Z"
    },
    "trusted": true
   },
   "outputs": [
    {
     "data": {
      "text/html": [
       "<div>\n",
       "<style scoped>\n",
       "    .dataframe tbody tr th:only-of-type {\n",
       "        vertical-align: middle;\n",
       "    }\n",
       "\n",
       "    .dataframe tbody tr th {\n",
       "        vertical-align: top;\n",
       "    }\n",
       "\n",
       "    .dataframe thead th {\n",
       "        text-align: right;\n",
       "    }\n",
       "</style>\n",
       "<table border=\"1\" class=\"dataframe\">\n",
       "  <thead>\n",
       "    <tr style=\"text-align: right;\">\n",
       "      <th></th>\n",
       "      <th>label</th>\n",
       "      <th>text</th>\n",
       "    </tr>\n",
       "  </thead>\n",
       "  <tbody>\n",
       "    <tr>\n",
       "      <th>0</th>\n",
       "      <td>1</td>\n",
       "      <td>do you feel the pressure to perform and not rising to the occasion try v ia gr a your anxiety will be a thing of the past and you will be back to your old self</td>\n",
       "    </tr>\n",
       "    <tr>\n",
       "      <th>1</th>\n",
       "      <td>0</td>\n",
       "      <td>hi i've just updated from the gulus and i check on other mirrors it seems there is a little typo in debian readme file example http gulus usherbrooke ca debian readme ftp ftp fr debian org debian readme testing or lenny access this release through dists testing the current tested development snapshot is named etch packages which have been tested in unstable and passed automated tests propogate to this release etch should be replace by lenny like in the readme html yan morin consultant en logiciel libre yan morin savoirfairelinux com escapenumber escapenumber escapenumber to unsubscribe ema...</td>\n",
       "    </tr>\n",
       "    <tr>\n",
       "      <th>2</th>\n",
       "      <td>1</td>\n",
       "      <td>mega authenticv i a g r a discount pricec i a l i s discount pricedo not miss it click here http www moujsjkhchum com</td>\n",
       "    </tr>\n",
       "    <tr>\n",
       "      <th>3</th>\n",
       "      <td>1</td>\n",
       "      <td>hey billy it was really fun going out the other night and talking while we were out you said that you felt insecure about your manhood i noticed in the toilets you were quite small in that area but not to worry that website that i was telling you about is my secret weapon to an extra escapenumber inches trust me girls love bigger ones i've had escapenumber times as many chicks since i used these pills a year ago the package i used was the escapenumber month supply one and its worth every cent and more the website is http ctmay com ring me on the weekend and we will go out and drink again a...</td>\n",
       "    </tr>\n",
       "    <tr>\n",
       "      <th>4</th>\n",
       "      <td>1</td>\n",
       "      <td>system of the home it will have the capabilities to be linked far as i know and what i am doing within it as a part of it so with respect to the affects of technology on society we have science ad agencies are cashin g in on its' commerciality and photographs and paint on electronic canvases it still seems like silence white out black out lights out it didn't happen although far from p erfect especially in that it precludes a vast explanation for this i can' t understand how people can rely so avant gardes of the art world additionally writers and lawyers yet to re ach its full potential i...</td>\n",
       "    </tr>\n",
       "    <tr>\n",
       "      <th>...</th>\n",
       "      <td>...</td>\n",
       "      <td>...</td>\n",
       "    </tr>\n",
       "    <tr>\n",
       "      <th>247515</th>\n",
       "      <td>0</td>\n",
       "      <td>on escapenumber escapenumber escapenumber rob dixon wrote snip for my elem doc firstchild elem elem elem nextsibling snip i covered that in my earlier email weirder stuff that you only tend to see people coming from a c background do for my node head node node node next but in perl it is rarely necessary to do this sort of loop since most functions return a list that can be iterated over using for for my node head nodes in this case your module should include a children method for my elem doc children or a true iterator my iter doc child iter while my elem iter next if it doesn't then bug ...</td>\n",
       "    </tr>\n",
       "    <tr>\n",
       "      <th>247516</th>\n",
       "      <td>1</td>\n",
       "      <td>we have everything you need escapelong cialescapenumbers sescapenumberft tescapenumberbs vescapenumberagra sescapenumberft tescapenumberbs cialescapenumbers vescapenumberagra levescapenumbertra propecescapenumbera valescapenumberum xanescapenumberx ambescapenumberen zybescapenumbern atarescapenumberx atescapenumbervan carescapenumbersoma ultrescapenumberm escapelong lipescapenumbertor merescapenumberdia zocescapenumberr nescapenumberrvasc we respect your privacy we guarantee you a total anonymity of your escapenumberrder visit us escapelong inc online at http www electioo com</td>\n",
       "    </tr>\n",
       "    <tr>\n",
       "      <th>247517</th>\n",
       "      <td>0</td>\n",
       "      <td>hi quick question say i have a date variable in a data frame or matrix and i'd like to preserve the date format when using write table however when i export the data i get the generic number underlying the date not the date per se and a number such as escapenumber escapenumber etc are not meaningful in excel is there any way i can preserve the format of a date on writing into a text file tia and best tir r help stat math ethz ch mailing list https stat ethz ch mailman listinfo r help please do read the posting guide http www r project org posting guide html and provide commented minimal se...</td>\n",
       "    </tr>\n",
       "    <tr>\n",
       "      <th>247518</th>\n",
       "      <td>1</td>\n",
       "      <td>thank you for your loan request which we recieved on escapenumber escapenumber escapenumber we'd like to inform you that we are accepting your application bad credit ok we are ready to give you a escapenumber escapenumber loan for a low month payment approval process will take only escapenumber minute please visit the confirmation link below and fill out our short escapenumber second form http www fastrefi biz a grabadora</td>\n",
       "    </tr>\n",
       "    <tr>\n",
       "      <th>247519</th>\n",
       "      <td>0</td>\n",
       "      <td>this is an automatically generated delivery status notification your message has been successfully relayed to the following recipients but the requested delivery status notifications may not be generated by the destination paulconnolly llgm com escapelong aol com ashley brown harvard edu inline attachment follows from to ashley brown harvard edu escapelong aol com paulconnolly llgm com cc roan michael date friday october escapenumber escapenumber escapenumber escapenumber escapenumber gmt subject ashley we would prefer given the schedules to hold a conference call on wednesday pm with a gr...</td>\n",
       "    </tr>\n",
       "  </tbody>\n",
       "</table>\n",
       "<p>247520 rows × 2 columns</p>\n",
       "</div>"
      ],
      "text/plain": [
       "        label  \\\n",
       "0           1   \n",
       "1           0   \n",
       "2           1   \n",
       "3           1   \n",
       "4           1   \n",
       "...       ...   \n",
       "247515      0   \n",
       "247516      1   \n",
       "247517      0   \n",
       "247518      1   \n",
       "247519      0   \n",
       "\n",
       "                                                                                                                                                                                                                                                                                                                                                                                                                                                                                                                                                                                                                           text  \n",
       "0                                                                                                                                                                                                                                                                                                                                                                                                                                                              do you feel the pressure to perform and not rising to the occasion try v ia gr a your anxiety will be a thing of the past and you will be back to your old self   \n",
       "1       hi i've just updated from the gulus and i check on other mirrors it seems there is a little typo in debian readme file example http gulus usherbrooke ca debian readme ftp ftp fr debian org debian readme testing or lenny access this release through dists testing the current tested development snapshot is named etch packages which have been tested in unstable and passed automated tests propogate to this release etch should be replace by lenny like in the readme html yan morin consultant en logiciel libre yan morin savoirfairelinux com escapenumber escapenumber escapenumber to unsubscribe ema...  \n",
       "2                                                                                                                                                                                                                                                                                                                                                                                                                                                                                                         mega authenticv i a g r a discount pricec i a l i s discount pricedo not miss it click here http www moujsjkhchum com  \n",
       "3       hey billy it was really fun going out the other night and talking while we were out you said that you felt insecure about your manhood i noticed in the toilets you were quite small in that area but not to worry that website that i was telling you about is my secret weapon to an extra escapenumber inches trust me girls love bigger ones i've had escapenumber times as many chicks since i used these pills a year ago the package i used was the escapenumber month supply one and its worth every cent and more the website is http ctmay com ring me on the weekend and we will go out and drink again a...  \n",
       "4       system of the home it will have the capabilities to be linked far as i know and what i am doing within it as a part of it so with respect to the affects of technology on society we have science ad agencies are cashin g in on its' commerciality and photographs and paint on electronic canvases it still seems like silence white out black out lights out it didn't happen although far from p erfect especially in that it precludes a vast explanation for this i can' t understand how people can rely so avant gardes of the art world additionally writers and lawyers yet to re ach its full potential i...  \n",
       "...                                                                                                                                                                                                                                                                                                                                                                                                                                                                                                                                                                                                                         ...  \n",
       "247515  on escapenumber escapenumber escapenumber rob dixon wrote snip for my elem doc firstchild elem elem elem nextsibling snip i covered that in my earlier email weirder stuff that you only tend to see people coming from a c background do for my node head node node node next but in perl it is rarely necessary to do this sort of loop since most functions return a list that can be iterated over using for for my node head nodes in this case your module should include a children method for my elem doc children or a true iterator my iter doc child iter while my elem iter next if it doesn't then bug ...  \n",
       "247516                  we have everything you need escapelong cialescapenumbers sescapenumberft tescapenumberbs vescapenumberagra sescapenumberft tescapenumberbs cialescapenumbers vescapenumberagra levescapenumbertra propecescapenumbera valescapenumberum xanescapenumberx ambescapenumberen zybescapenumbern atarescapenumberx atescapenumbervan carescapenumbersoma ultrescapenumberm escapelong lipescapenumbertor merescapenumberdia zocescapenumberr nescapenumberrvasc we respect your privacy we guarantee you a total anonymity of your escapenumberrder visit us escapelong inc online at http www electioo com   \n",
       "247517  hi quick question say i have a date variable in a data frame or matrix and i'd like to preserve the date format when using write table however when i export the data i get the generic number underlying the date not the date per se and a number such as escapenumber escapenumber etc are not meaningful in excel is there any way i can preserve the format of a date on writing into a text file tia and best tir r help stat math ethz ch mailing list https stat ethz ch mailman listinfo r help please do read the posting guide http www r project org posting guide html and provide commented minimal se...  \n",
       "247518                                                                                                                                                                                thank you for your loan request which we recieved on escapenumber escapenumber escapenumber we'd like to inform you that we are accepting your application bad credit ok we are ready to give you a escapenumber escapenumber loan for a low month payment approval process will take only escapenumber minute please visit the confirmation link below and fill out our short escapenumber second form http www fastrefi biz a grabadora  \n",
       "247519  this is an automatically generated delivery status notification your message has been successfully relayed to the following recipients but the requested delivery status notifications may not be generated by the destination paulconnolly llgm com escapelong aol com ashley brown harvard edu inline attachment follows from to ashley brown harvard edu escapelong aol com paulconnolly llgm com cc roan michael date friday october escapenumber escapenumber escapenumber escapenumber escapenumber gmt subject ashley we would prefer given the schedules to hold a conference call on wednesday pm with a gr...  \n",
       "\n",
       "[247520 rows x 2 columns]"
      ]
     },
     "execution_count": 8,
     "metadata": {},
     "output_type": "execute_result"
    }
   ],
   "source": [
    "merged = pd.concat([df_a[['label', 'text']], df_b[['label', 'text']]], ignore_index=True)\n",
    "merged"
   ]
  },
  {
   "cell_type": "code",
   "execution_count": 9,
   "metadata": {
    "execution": {
     "iopub.execute_input": "2025-08-08T11:44:40.044842Z",
     "iopub.status.busy": "2025-08-08T11:44:40.044545Z",
     "iopub.status.idle": "2025-08-08T11:44:40.054932Z",
     "shell.execute_reply": "2025-08-08T11:44:40.054177Z",
     "shell.execute_reply.started": "2025-08-08T11:44:40.044819Z"
    },
    "trusted": true
   },
   "outputs": [
    {
     "data": {
      "text/plain": [
       "label\n",
       "0    125905\n",
       "1    121615\n",
       "Name: count, dtype: int64"
      ]
     },
     "execution_count": 9,
     "metadata": {},
     "output_type": "execute_result"
    }
   ],
   "source": [
    "merged['label'].value_counts()"
   ]
  },
  {
   "cell_type": "code",
   "execution_count": 10,
   "metadata": {
    "execution": {
     "iopub.execute_input": "2025-08-08T11:44:41.945871Z",
     "iopub.status.busy": "2025-08-08T11:44:41.945350Z",
     "iopub.status.idle": "2025-08-08T11:44:41.952399Z",
     "shell.execute_reply": "2025-08-08T11:44:41.951659Z",
     "shell.execute_reply.started": "2025-08-08T11:44:41.945844Z"
    },
    "trusted": true
   },
   "outputs": [
    {
     "data": {
      "text/plain": [
       "array([1, 0])"
      ]
     },
     "execution_count": 10,
     "metadata": {},
     "output_type": "execute_result"
    }
   ],
   "source": [
    "merged['label'].unique()"
   ]
  },
  {
   "cell_type": "code",
   "execution_count": 11,
   "metadata": {
    "execution": {
     "iopub.execute_input": "2025-08-08T11:44:42.179987Z",
     "iopub.status.busy": "2025-08-08T11:44:42.179693Z",
     "iopub.status.idle": "2025-08-08T11:44:42.433703Z",
     "shell.execute_reply": "2025-08-08T11:44:42.433056Z",
     "shell.execute_reply.started": "2025-08-08T11:44:42.179968Z"
    },
    "trusted": true
   },
   "outputs": [
    {
     "data": {
      "text/plain": [
       "(193849,)"
      ]
     },
     "execution_count": 11,
     "metadata": {},
     "output_type": "execute_result"
    }
   ],
   "source": [
    "merged['text'].unique().shape"
   ]
  },
  {
   "cell_type": "code",
   "execution_count": 12,
   "metadata": {
    "execution": {
     "iopub.execute_input": "2025-08-08T11:44:42.500503Z",
     "iopub.status.busy": "2025-08-08T11:44:42.500248Z",
     "iopub.status.idle": "2025-08-08T11:44:42.644240Z",
     "shell.execute_reply": "2025-08-08T11:44:42.643643Z",
     "shell.execute_reply.started": "2025-08-08T11:44:42.500484Z"
    },
    "trusted": true
   },
   "outputs": [],
   "source": [
    "merged = merged.drop_duplicates().reset_index(drop=True)"
   ]
  },
  {
   "cell_type": "code",
   "execution_count": 13,
   "metadata": {
    "execution": {
     "iopub.execute_input": "2025-08-08T11:44:43.523459Z",
     "iopub.status.busy": "2025-08-08T11:44:43.523000Z",
     "iopub.status.idle": "2025-08-08T11:44:43.618479Z",
     "shell.execute_reply": "2025-08-08T11:44:43.617954Z",
     "shell.execute_reply.started": "2025-08-08T11:44:43.523435Z"
    },
    "trusted": true
   },
   "outputs": [],
   "source": [
    "merged = merged.dropna(subset=['text']).reset_index(drop=True)\n",
    "merged = merged.drop_duplicates(subset=['text']).reset_index(drop=True)"
   ]
  },
  {
   "cell_type": "code",
   "execution_count": 20,
   "metadata": {
    "execution": {
     "iopub.execute_input": "2025-08-08T11:22:59.257184Z",
     "iopub.status.busy": "2025-08-08T11:22:59.256748Z",
     "iopub.status.idle": "2025-08-08T11:23:10.406847Z",
     "shell.execute_reply": "2025-08-08T11:23:10.405920Z",
     "shell.execute_reply.started": "2025-08-08T11:22:59.257156Z"
    },
    "trusted": true
   },
   "outputs": [],
   "source": [
    "merged.to_csv(\"data/merged_spam_ham.csv\", index=False)"
   ]
  },
  {
   "cell_type": "markdown",
   "metadata": {},
   "source": [
    "### Splitting"
   ]
  },
  {
   "cell_type": "code",
   "execution_count": 15,
   "metadata": {
    "execution": {
     "iopub.execute_input": "2025-08-08T11:44:47.186204Z",
     "iopub.status.busy": "2025-08-08T11:44:47.185658Z",
     "iopub.status.idle": "2025-08-08T11:44:47.351781Z",
     "shell.execute_reply": "2025-08-08T11:44:47.351210Z",
     "shell.execute_reply.started": "2025-08-08T11:44:47.186181Z"
    },
    "trusted": true
   },
   "outputs": [],
   "source": [
    "train_val, test = train_test_split(\n",
    "    merged,\n",
    "    train_size=0.9,\n",
    "    stratify=merged['label'],  \n",
    "    shuffle=True,\n",
    ")\n",
    "train, val = train_test_split(\n",
    "    train_val,\n",
    "    train_size=0.8,\n",
    "    stratify=train_val['label'],  \n",
    "    shuffle=True,\n",
    ")\n",
    "\n",
    "train = train.reset_index(drop=True) #72%\n",
    "val = val.reset_index(drop=True) #18%\n",
    "test = test.reset_index(drop=True) #10%\n"
   ]
  },
  {
   "cell_type": "code",
   "execution_count": 16,
   "metadata": {
    "execution": {
     "iopub.execute_input": "2025-08-08T11:44:48.620549Z",
     "iopub.status.busy": "2025-08-08T11:44:48.620283Z",
     "iopub.status.idle": "2025-08-08T11:44:48.625502Z",
     "shell.execute_reply": "2025-08-08T11:44:48.624865Z",
     "shell.execute_reply.started": "2025-08-08T11:44:48.620529Z"
    },
    "trusted": true
   },
   "outputs": [
    {
     "name": "stdout",
     "output_type": "stream",
     "text": [
      "Directory 'filtered_data' created successfully.\n"
     ]
    }
   ],
   "source": [
    "directory = \"filtered_data\"\n",
    "try:\n",
    "    os.mkdir(directory)\n",
    "    print(f\"Directory '{directory}' created successfully.\")\n",
    "except FileExistsError:\n",
    "    print(f\"Directory '{directory}' already exists.\")"
   ]
  },
  {
   "cell_type": "code",
   "execution_count": null,
   "metadata": {
    "trusted": true
   },
   "outputs": [],
   "source": [
    "train.to_csv(\"filtered_data/spam_ham_train.csv\", index=False)\n",
    "val.to_csv(\"filtered_data/spam_ham_val.csv\", index=False)\n",
    "test.to_csv(\"filtered_data/spam_ham_test.csv\", index=False)"
   ]
  },
  {
   "cell_type": "markdown",
   "metadata": {},
   "source": [
    "---"
   ]
  },
  {
   "cell_type": "code",
   "execution_count": 78,
   "metadata": {
    "execution": {
     "iopub.execute_input": "2025-08-08T13:07:38.145392Z",
     "iopub.status.busy": "2025-08-08T13:07:38.145126Z",
     "iopub.status.idle": "2025-08-08T13:07:42.198656Z",
     "shell.execute_reply": "2025-08-08T13:07:42.198092Z",
     "shell.execute_reply.started": "2025-08-08T13:07:38.145371Z"
    },
    "trusted": true
   },
   "outputs": [],
   "source": [
    "train = pd.read_csv(\"filtered_data/spam_ham_train.csv\")\n",
    "val = pd.read_csv(\"filtered_data/spam_ham_val.csv\")\n",
    "test = pd.read_csv(\"filtered_data/spam_ham_test.csv\")"
   ]
  },
  {
   "cell_type": "markdown",
   "metadata": {},
   "source": [
    "## Classifier"
   ]
  },
  {
   "cell_type": "code",
   "execution_count": null,
   "metadata": {
    "execution": {
     "iopub.execute_input": "2025-08-08T11:45:30.996156Z",
     "iopub.status.busy": "2025-08-08T11:45:30.995909Z",
     "iopub.status.idle": "2025-08-08T11:45:35.242012Z",
     "shell.execute_reply": "2025-08-08T11:45:35.241269Z",
     "shell.execute_reply.started": "2025-08-08T11:45:30.996140Z"
    },
    "trusted": true
   },
   "outputs": [],
   "source": [
    "model_name = \"bert-base-uncased\" #test cased/uncased\n",
    "tokenizer = AutoTokenizer.from_pretrained(model_name)\n",
    "model = AutoModelForSequenceClassification.from_pretrained(model_name, num_labels=2)"
   ]
  },
  {
   "cell_type": "code",
   "execution_count": 79,
   "metadata": {
    "execution": {
     "iopub.execute_input": "2025-08-08T13:07:48.743978Z",
     "iopub.status.busy": "2025-08-08T13:07:48.743249Z",
     "iopub.status.idle": "2025-08-08T13:07:48.748927Z",
     "shell.execute_reply": "2025-08-08T13:07:48.748180Z",
     "shell.execute_reply.started": "2025-08-08T13:07:48.743951Z"
    },
    "trusted": true
   },
   "outputs": [],
   "source": [
    "#freeze all parameters (weights)\n",
    "for name, param in model.base_model.named_parameters():\n",
    "    param.requires_grad = False\n",
    "#unfreezzing pooler layer's parameters, \n",
    "#fine-tuning during training while keeping the rest of the model fixed.\n",
    "for name, param in model.base_model.named_parameters():\n",
    "    if \"pooler\" in name:\n",
    "        param.requires_grad = True"
   ]
  },
  {
   "cell_type": "code",
   "execution_count": 82,
   "metadata": {
    "execution": {
     "iopub.execute_input": "2025-08-08T13:08:16.513144Z",
     "iopub.status.busy": "2025-08-08T13:08:16.512886Z",
     "iopub.status.idle": "2025-08-08T13:08:16.520048Z",
     "shell.execute_reply": "2025-08-08T13:08:16.519241Z",
     "shell.execute_reply.started": "2025-08-08T13:08:16.513127Z"
    },
    "trusted": true
   },
   "outputs": [],
   "source": [
    "reduced_train = train\n",
    "reduced_val = val\n",
    "reduced_test = test"
   ]
  },
  {
   "cell_type": "code",
   "execution_count": 83,
   "metadata": {
    "execution": {
     "iopub.execute_input": "2025-08-08T13:08:18.017106Z",
     "iopub.status.busy": "2025-08-08T13:08:18.016577Z",
     "iopub.status.idle": "2025-08-08T13:08:20.982701Z",
     "shell.execute_reply": "2025-08-08T13:08:20.982129Z",
     "shell.execute_reply.started": "2025-08-08T13:08:18.017082Z"
    },
    "trusted": true
   },
   "outputs": [],
   "source": [
    "train_ds = Dataset.from_pandas(reduced_train)\n",
    "val_ds = Dataset.from_pandas(reduced_val)\n",
    "test_ds = Dataset.from_pandas(reduced_test)"
   ]
  },
  {
   "cell_type": "code",
   "execution_count": 84,
   "metadata": {
    "execution": {
     "iopub.execute_input": "2025-08-08T13:08:23.010818Z",
     "iopub.status.busy": "2025-08-08T13:08:23.010525Z",
     "iopub.status.idle": "2025-08-08T13:08:23.014705Z",
     "shell.execute_reply": "2025-08-08T13:08:23.013916Z",
     "shell.execute_reply.started": "2025-08-08T13:08:23.010796Z"
    },
    "trusted": true
   },
   "outputs": [],
   "source": [
    "dataset_dict = DatasetDict({\"train\": train_ds, \"val\": val_ds, \"test\": test_ds})"
   ]
  },
  {
   "cell_type": "code",
   "execution_count": 85,
   "metadata": {
    "execution": {
     "iopub.execute_input": "2025-08-08T13:08:24.649227Z",
     "iopub.status.busy": "2025-08-08T13:08:24.648609Z",
     "iopub.status.idle": "2025-08-08T13:08:24.652747Z",
     "shell.execute_reply": "2025-08-08T13:08:24.651928Z",
     "shell.execute_reply.started": "2025-08-08T13:08:24.649202Z"
    },
    "trusted": true
   },
   "outputs": [],
   "source": [
    "def preprocess_function(examples):\n",
    "    return tokenizer(examples[\"text\"], truncation=True)"
   ]
  },
  {
   "cell_type": "code",
   "execution_count": null,
   "metadata": {
    "execution": {
     "iopub.execute_input": "2025-08-08T13:08:26.486327Z",
     "iopub.status.busy": "2025-08-08T13:08:26.485630Z",
     "iopub.status.idle": "2025-08-08T13:10:32.533565Z",
     "shell.execute_reply": "2025-08-08T13:10:32.532945Z",
     "shell.execute_reply.started": "2025-08-08T13:08:26.486302Z"
    },
    "trusted": true
   },
   "outputs": [],
   "source": [
    "tokenized_data = dataset_dict.map(preprocess_function, batched=True)\n",
    "data_collator = DataCollatorWithPadding(tokenizer=tokenizer)"
   ]
  },
  {
   "cell_type": "code",
   "execution_count": 87,
   "metadata": {
    "execution": {
     "iopub.execute_input": "2025-08-08T13:10:34.305120Z",
     "iopub.status.busy": "2025-08-08T13:10:34.304876Z",
     "iopub.status.idle": "2025-08-08T13:10:34.828041Z",
     "shell.execute_reply": "2025-08-08T13:10:34.827470Z",
     "shell.execute_reply.started": "2025-08-08T13:10:34.305104Z"
    },
    "trusted": true
   },
   "outputs": [],
   "source": [
    "accuracy = evaluate.load(\"accuracy\")"
   ]
  },
  {
   "cell_type": "markdown",
   "metadata": {},
   "source": [
    "Precision measures how many of the emails predicted as spam (positive class) are actually spam. In other words, it tells us how accurate the model's predictions for spam are.\n",
    "\n",
    "$Precision= \\frac{TP} {TP + FP}$\n",
    "\n",
    "Recall measures how many of the actual spam emails are correctly identified by the model as spam. It tells us how well the model is able to catch spam emails.\n",
    "\n",
    "$Recall= \\frac{TP} {TP + FN}$\n",
    "\n",
    "The F1 score is the harmonic mean of precision and recall. It provides a balance between precision and recall, especially when there's a trade-off between the two metrics.\n",
    "\n",
    "$F1 Score= 2 * \\frac{Precision * Recall} {Precision + Recall}$"
   ]
  },
  {
   "cell_type": "code",
   "execution_count": 88,
   "metadata": {
    "execution": {
     "iopub.execute_input": "2025-08-08T13:10:36.569947Z",
     "iopub.status.busy": "2025-08-08T13:10:36.569651Z",
     "iopub.status.idle": "2025-08-08T13:10:36.574461Z",
     "shell.execute_reply": "2025-08-08T13:10:36.573772Z",
     "shell.execute_reply.started": "2025-08-08T13:10:36.569927Z"
    },
    "trusted": true
   },
   "outputs": [],
   "source": [
    "def compute_metrics(eval_pred):\n",
    "    logits, labels = eval_pred\n",
    "    predictions = np.argmax(logits, axis=1)\n",
    "    accuracy_res = accuracy.compute(predictions=predictions, references=labels)\n",
    "\n",
    "    precision, recall, f1, _ = precision_recall_fscore_support(labels, predictions, pos_label=1, average='binary')\n",
    "    \n",
    "    \n",
    "    return {\n",
    "        \"accuracy\": accuracy_res[\"accuracy\"],\n",
    "        \"precision\": precision,\n",
    "        \"recall\": recall,\n",
    "        \"f1\": f1,\n",
    "    }"
   ]
  },
  {
   "cell_type": "code",
   "execution_count": null,
   "metadata": {
    "execution": {
     "iopub.execute_input": "2025-08-08T13:10:38.209287Z",
     "iopub.status.busy": "2025-08-08T13:10:38.208703Z",
     "iopub.status.idle": "2025-08-08T13:10:38.235782Z",
     "shell.execute_reply": "2025-08-08T13:10:38.235236Z",
     "shell.execute_reply.started": "2025-08-08T13:10:38.209261Z"
    },
    "trusted": true
   },
   "outputs": [],
   "source": [
    "lr = 1e-4\n",
    "batch_sz = 32\n",
    "epoch = 3\n",
    "wd = 0.01\n",
    "\n",
    "training_args = TrainingArguments(\n",
    "    output_dir=\"bert-spam-ham-classifier-full_dataset\",\n",
    "    per_device_train_batch_size=batch_sz,\n",
    "    per_device_eval_batch_size=batch_sz,\n",
    "    num_train_epochs=epoch,\n",
    "    eval_strategy=\"epoch\",\n",
    "    logging_strategy=\"epoch\",\n",
    "    save_strategy=\"epoch\",\n",
    "    load_best_model_at_end=True,\n",
    "\n",
    "    learning_rate= lr,\n",
    "    weight_decay= wd,\n",
    "    report_to=\"none\"\n",
    ")"
   ]
  },
  {
   "cell_type": "code",
   "execution_count": 90,
   "metadata": {
    "execution": {
     "iopub.execute_input": "2025-08-08T13:10:40.275170Z",
     "iopub.status.busy": "2025-08-08T13:10:40.274639Z",
     "iopub.status.idle": "2025-08-08T13:10:40.304168Z",
     "shell.execute_reply": "2025-08-08T13:10:40.303491Z",
     "shell.execute_reply.started": "2025-08-08T13:10:40.275145Z"
    },
    "trusted": true
   },
   "outputs": [
    {
     "name": "stderr",
     "output_type": "stream",
     "text": [
      "/tmp/ipykernel_36/1459056268.py:1: FutureWarning: `tokenizer` is deprecated and will be removed in version 5.0.0 for `Trainer.__init__`. Use `processing_class` instead.\n",
      "  trainer = Trainer(\n"
     ]
    }
   ],
   "source": [
    "trainer = Trainer(\n",
    "    model=model,\n",
    "    args=training_args,\n",
    "    train_dataset=tokenized_data[\"train\"],\n",
    "    eval_dataset=tokenized_data[\"val\"],\n",
    "    tokenizer=tokenizer,\n",
    "    data_collator=data_collator,\n",
    "    compute_metrics=compute_metrics\n",
    ")"
   ]
  },
  {
   "cell_type": "code",
   "execution_count": 91,
   "metadata": {
    "execution": {
     "iopub.execute_input": "2025-08-08T13:10:42.864417Z",
     "iopub.status.busy": "2025-08-08T13:10:42.863680Z",
     "iopub.status.idle": "2025-08-08T15:36:25.015293Z",
     "shell.execute_reply": "2025-08-08T15:36:25.014683Z",
     "shell.execute_reply.started": "2025-08-08T13:10:42.864391Z"
    },
    "trusted": true
   },
   "outputs": [
    {
     "data": {
      "text/html": [
       "\n",
       "    <div>\n",
       "      \n",
       "      <progress value='13086' max='13086' style='width:300px; height:20px; vertical-align: middle;'></progress>\n",
       "      [13086/13086 2:25:40, Epoch 3/3]\n",
       "    </div>\n",
       "    <table border=\"1\" class=\"dataframe\">\n",
       "  <thead>\n",
       " <tr style=\"text-align: left;\">\n",
       "      <th>Epoch</th>\n",
       "      <th>Training Loss</th>\n",
       "      <th>Validation Loss</th>\n",
       "      <th>Accuracy</th>\n",
       "      <th>Precision</th>\n",
       "      <th>Recall</th>\n",
       "      <th>F1</th>\n",
       "    </tr>\n",
       "  </thead>\n",
       "  <tbody>\n",
       "    <tr>\n",
       "      <td>1</td>\n",
       "      <td>0.131100</td>\n",
       "      <td>0.131930</td>\n",
       "      <td>0.952598</td>\n",
       "      <td>0.969580</td>\n",
       "      <td>0.928926</td>\n",
       "      <td>0.948818</td>\n",
       "    </tr>\n",
       "    <tr>\n",
       "      <td>2</td>\n",
       "      <td>0.121700</td>\n",
       "      <td>0.122500</td>\n",
       "      <td>0.957327</td>\n",
       "      <td>0.959990</td>\n",
       "      <td>0.949346</td>\n",
       "      <td>0.954638</td>\n",
       "    </tr>\n",
       "    <tr>\n",
       "      <td>3</td>\n",
       "      <td>0.118600</td>\n",
       "      <td>0.116966</td>\n",
       "      <td>0.957327</td>\n",
       "      <td>0.963111</td>\n",
       "      <td>0.946013</td>\n",
       "      <td>0.954486</td>\n",
       "    </tr>\n",
       "  </tbody>\n",
       "</table><p>"
      ],
      "text/plain": [
       "<IPython.core.display.HTML object>"
      ]
     },
     "metadata": {},
     "output_type": "display_data"
    },
    {
     "data": {
      "text/plain": [
       "TrainOutput(global_step=13086, training_loss=0.1238428879891917, metrics={'train_runtime': 8741.3023, 'train_samples_per_second': 47.9, 'train_steps_per_second': 1.497, 'total_flos': 1.1014841754932736e+17, 'train_loss': 0.1238428879891917, 'epoch': 3.0})"
      ]
     },
     "execution_count": 91,
     "metadata": {},
     "output_type": "execute_result"
    }
   ],
   "source": [
    "trainer.train()"
   ]
  },
  {
   "cell_type": "code",
   "execution_count": null,
   "metadata": {
    "trusted": true
   },
   "outputs": [],
   "source": [
    "!pip3 install tqdm==4.62.1"
   ]
  },
  {
   "cell_type": "markdown",
   "metadata": {},
   "source": [
    "### Testing"
   ]
  },
  {
   "cell_type": "code",
   "execution_count": 92,
   "metadata": {
    "execution": {
     "iopub.execute_input": "2025-08-08T15:36:58.658379Z",
     "iopub.status.busy": "2025-08-08T15:36:58.658109Z",
     "iopub.status.idle": "2025-08-08T15:42:08.668941Z",
     "shell.execute_reply": "2025-08-08T15:42:08.668175Z",
     "shell.execute_reply.started": "2025-08-08T15:36:58.658360Z"
    },
    "trusted": true
   },
   "outputs": [
    {
     "data": {
      "text/html": [],
      "text/plain": [
       "<IPython.core.display.HTML object>"
      ]
     },
     "metadata": {},
     "output_type": "display_data"
    }
   ],
   "source": [
    "test_results = trainer.predict(tokenized_data[\"test\"])"
   ]
  },
  {
   "cell_type": "code",
   "execution_count": 94,
   "metadata": {
    "execution": {
     "iopub.execute_input": "2025-08-08T15:42:46.955161Z",
     "iopub.status.busy": "2025-08-08T15:42:46.954617Z",
     "iopub.status.idle": "2025-08-08T15:42:46.962963Z",
     "shell.execute_reply": "2025-08-08T15:42:46.961310Z",
     "shell.execute_reply.started": "2025-08-08T15:42:46.955124Z"
    },
    "trusted": true
   },
   "outputs": [
    {
     "data": {
      "text/plain": [
       "{'test_loss': 0.11436181515455246,\n",
       " 'test_accuracy': 0.957286561774568,\n",
       " 'test_precision': 0.9620028802481445,\n",
       " 'test_recall': 0.9471043734322172,\n",
       " 'test_f1': 0.9544954935150582,\n",
       " 'test_runtime': 310.0011,\n",
       " 'test_samples_per_second': 62.532,\n",
       " 'test_steps_per_second': 1.955}"
      ]
     },
     "execution_count": 94,
     "metadata": {},
     "output_type": "execute_result"
    }
   ],
   "source": [
    "test_results.metrics"
   ]
  },
  {
   "cell_type": "code",
   "execution_count": 96,
   "metadata": {
    "execution": {
     "iopub.execute_input": "2025-08-08T15:48:19.474561Z",
     "iopub.status.busy": "2025-08-08T15:48:19.474317Z",
     "iopub.status.idle": "2025-08-08T15:48:19.603170Z",
     "shell.execute_reply": "2025-08-08T15:48:19.602577Z",
     "shell.execute_reply.started": "2025-08-08T15:48:19.474544Z"
    },
    "trusted": true
   },
   "outputs": [],
   "source": [
    "model_testing_path = \"/kaggle/working/bert-spam-ham-classifier-full_dataset/checkpoint-13086\"\n",
    "model_test = AutoModelForSequenceClassification.from_pretrained(model_testing_path)\n",
    "tokenizer_testing = AutoTokenizer.from_pretrained(model_testing_path)"
   ]
  },
  {
   "cell_type": "code",
   "execution_count": 97,
   "metadata": {
    "execution": {
     "iopub.execute_input": "2025-08-08T15:48:39.890812Z",
     "iopub.status.busy": "2025-08-08T15:48:39.890502Z",
     "iopub.status.idle": "2025-08-08T15:48:40.045490Z",
     "shell.execute_reply": "2025-08-08T15:48:40.044934Z",
     "shell.execute_reply.started": "2025-08-08T15:48:39.890790Z"
    },
    "trusted": true
   },
   "outputs": [
    {
     "name": "stderr",
     "output_type": "stream",
     "text": [
      "Device set to use cuda:0\n"
     ]
    }
   ],
   "source": [
    "clf = pipeline(\"text-classification\", model=model_test, tokenizer=tokenizer_testing)"
   ]
  },
  {
   "cell_type": "code",
   "execution_count": 100,
   "metadata": {
    "execution": {
     "iopub.execute_input": "2025-08-08T15:49:06.343409Z",
     "iopub.status.busy": "2025-08-08T15:49:06.343173Z",
     "iopub.status.idle": "2025-08-08T15:49:06.358430Z",
     "shell.execute_reply": "2025-08-08T15:49:06.357880Z",
     "shell.execute_reply.started": "2025-08-08T15:49:06.343394Z"
    },
    "trusted": true
   },
   "outputs": [
    {
     "data": {
      "text/plain": [
       "[{'label': 'LABEL_1', 'score': 0.6062796711921692}]"
      ]
     },
     "execution_count": 100,
     "metadata": {},
     "output_type": "execute_result"
    }
   ],
   "source": [
    "text = \"Your session expired. Click here to sign in again.\"\n",
    "prediction = clf(text)\n",
    "\n",
    "prediction"
   ]
  },
  {
   "cell_type": "code",
   "execution_count": 103,
   "metadata": {
    "execution": {
     "iopub.execute_input": "2025-08-08T15:57:04.279797Z",
     "iopub.status.busy": "2025-08-08T15:57:04.279488Z",
     "iopub.status.idle": "2025-08-08T15:57:04.298931Z",
     "shell.execute_reply": "2025-08-08T15:57:04.298178Z",
     "shell.execute_reply.started": "2025-08-08T15:57:04.279779Z"
    },
    "trusted": true
   },
   "outputs": [
    {
     "data": {
      "text/plain": [
       "[{'label': 'LABEL_1', 'score': 0.9921298623085022}]"
      ]
     },
     "execution_count": 103,
     "metadata": {},
     "output_type": "execute_result"
    }
   ],
   "source": [
    "text = \"Congratulations! You are the lucky winner of a $1,000 gift card to Amazon! This incredible prize is just a click away.\\\n",
    "To claim your prize, all you need to do is follow the instructions below:\\\n",
    "Click on the link to claim your prize: [Claim My $1,000 Gift Card]\\\n",
    "Fill out your details on the next page.\\\n",
    "Complete a quick survey to verify your information.\\\n",
    "But hurry! This offer is available for a limited time only. You must claim your prize within the next 24 hours to avoid missing out.\\\n",
    "If you have any questions, feel free to reach out to our support team. Don’t miss out on this exclusive opportunity!\\\n",
    "Warm regards,\\\n",
    "Your Amazon Prize Team\"\n",
    "prediction = clf(text)\n",
    "\n",
    "prediction"
   ]
  },
  {
   "cell_type": "code",
   "execution_count": 107,
   "metadata": {
    "execution": {
     "iopub.execute_input": "2025-08-08T16:03:23.685759Z",
     "iopub.status.busy": "2025-08-08T16:03:23.685282Z",
     "iopub.status.idle": "2025-08-08T16:03:23.706661Z",
     "shell.execute_reply": "2025-08-08T16:03:23.705868Z",
     "shell.execute_reply.started": "2025-08-08T16:03:23.685718Z"
    },
    "trusted": true
   },
   "outputs": [
    {
     "data": {
      "text/plain": [
       "[{'label': 'LABEL_1', 'score': 0.9177644848823547}]"
      ]
     },
     "execution_count": 107,
     "metadata": {},
     "output_type": "execute_result"
    }
   ],
   "source": [
    "text = \"Dear [Recipient],\\\n",
    "We hope you’re enjoying the benefits of your Premium Subscription with us. This is a quick reminder that your subscription will automatically renew in the next 7 days.\\\n",
    "To ensure uninterrupted service, the renewal payment of $49.99 will be processed on [Renewal Date]. If you’d like to update your payment information or make any changes to your subscription, please visit your account page here:\\\n",
    "[Update My Subscription]\\\n",
    "If you no longer wish to continue with your subscription, you can cancel it at any time before the renewal date, and no further charges will apply. Simply go to your account settings, and follow the instructions to cancel.\\\n",
    "If you have any questions or need assistance, our support team is here to help. Feel free to contact us at [support@company.com].\\\n",
    "Thank you for choosing [Company Name], and we look forward to continuing to serve you!\\\n",
    "Best regards,\\ [Company Name] Team Customer Support\"\n",
    "prediction = clf(text)\n",
    "\n",
    "prediction"
   ]
  },
  {
   "cell_type": "markdown",
   "metadata": {},
   "source": [
    "#### Testing learning rate"
   ]
  },
  {
   "cell_type": "code",
   "execution_count": null,
   "metadata": {
    "execution": {
     "iopub.execute_input": "2025-08-07T10:29:33.399756Z",
     "iopub.status.busy": "2025-08-07T10:29:33.398915Z",
     "iopub.status.idle": "2025-08-07T10:48:40.158770Z",
     "shell.execute_reply": "2025-08-07T10:48:40.158027Z",
     "shell.execute_reply.started": "2025-08-07T10:29:33.399720Z"
    },
    "trusted": true
   },
   "outputs": [],
   "source": [
    "results_lr = []\n",
    "\n",
    "batch_sz = 32\n",
    "epoch = 3\n",
    "learning_rates = [1e-5, 2e-5, 3e-5, 5e-5, 1e-4]\n",
    "for lr in learning_rates:\n",
    "    print(f\"Testing learning rate: {lr}\")\n",
    "    \n",
    "    training_args = TrainingArguments(\n",
    "        output_dir=\"bert-spam-ham-classifier-testing-learning-rate\",\n",
    "        per_device_train_batch_size=batch_sz,\n",
    "        per_device_eval_batch_size=batch_sz,\n",
    "        num_train_epochs=epoch,\n",
    "        eval_strategy=\"epoch\",\n",
    "        logging_strategy=\"epoch\",\n",
    "        save_strategy=\"epoch\",\n",
    "        load_best_model_at_end=True,\n",
    "    \n",
    "        learning_rate= lr,\n",
    "        report_to=\"none\"\n",
    "    )\n",
    "\n",
    "    trainer = Trainer(\n",
    "        model=model,\n",
    "        args=training_args,\n",
    "        train_dataset=tokenized_data[\"train\"],\n",
    "        eval_dataset=tokenized_data[\"val\"],\n",
    "        tokenizer=tokenizer,\n",
    "        data_collator=data_collator,\n",
    "        compute_metrics=compute_metrics\n",
    "    )\n",
    "\n",
    "    trainer.train()\n",
    "    test_results = trainer.predict(tokenized_data[\"test\"])\n",
    "\n",
    "    results_lr.append({\"learning_rate\": lr, \n",
    "                    \"loss\": test_results.metrics[\"test_loss\"],\n",
    "                   \"accuracy\": test_results.metrics[\"test_accuracy\"]})\n",
    "\n",
    "\n",
    "\n",
    "print(\"----------------------\")\n",
    "results_lr = sorted(results_lr, key=lambda x: x[\"accuracy\"], reverse=True)\n",
    "print(results_lr)\n",
    "print(\"----------------------\")"
   ]
  },
  {
   "cell_type": "markdown",
   "metadata": {},
   "source": [
    "#### Testing weight decay"
   ]
  },
  {
   "cell_type": "code",
   "execution_count": null,
   "metadata": {
    "execution": {
     "iopub.execute_input": "2025-08-07T11:02:58.030271Z",
     "iopub.status.busy": "2025-08-07T11:02:58.029980Z",
     "iopub.status.idle": "2025-08-07T11:22:06.922635Z",
     "shell.execute_reply": "2025-08-07T11:22:06.922009Z",
     "shell.execute_reply.started": "2025-08-07T11:02:58.030250Z"
    },
    "trusted": true
   },
   "outputs": [],
   "source": [
    "results_wd = []\n",
    "lr = 1e-4\n",
    "batch_sz = 32\n",
    "epoch = 3\n",
    "weight_decay_values = [0.0, 0.01, 0.05, 0.1, 0.2]\n",
    "for wd in weight_decay_values:\n",
    "    print(f\"Testing weight decay: {wd}\")\n",
    "    \n",
    "    training_args = TrainingArguments(\n",
    "        output_dir=\"bert-spam-ham-classifier-testing-learning-rate\",\n",
    "        per_device_train_batch_size=batch_sz,\n",
    "        per_device_eval_batch_size=batch_sz,\n",
    "        num_train_epochs=epoch,\n",
    "        eval_strategy=\"epoch\",\n",
    "        logging_strategy=\"epoch\",\n",
    "        save_strategy=\"epoch\",\n",
    "        load_best_model_at_end=True,\n",
    "    \n",
    "        learning_rate= lr,\n",
    "        weight_decay=wd,\n",
    "        report_to=\"none\"\n",
    "    )\n",
    "\n",
    "    trainer = Trainer(\n",
    "        model=model,\n",
    "        args=training_args,\n",
    "        train_dataset=tokenized_data[\"train\"],\n",
    "        eval_dataset=tokenized_data[\"val\"],\n",
    "        tokenizer=tokenizer,\n",
    "        data_collator=data_collator,\n",
    "        compute_metrics=compute_metrics\n",
    "    )\n",
    "\n",
    "    trainer.train()\n",
    "    test_results = trainer.predict(tokenized_data[\"test\"])\n",
    "\n",
    "    results_wd.append({\"weight_decay\": wd, \n",
    "                    \"loss\": test_results.metrics[\"test_loss\"],\n",
    "                   \"accuracy\": test_results.metrics[\"test_accuracy\"]})"
   ]
  },
  {
   "cell_type": "code",
   "execution_count": null,
   "metadata": {
    "execution": {
     "iopub.execute_input": "2025-08-07T11:22:06.923915Z",
     "iopub.status.busy": "2025-08-07T11:22:06.923719Z",
     "iopub.status.idle": "2025-08-07T11:22:06.928233Z",
     "shell.execute_reply": "2025-08-07T11:22:06.927699Z",
     "shell.execute_reply.started": "2025-08-07T11:22:06.923899Z"
    },
    "trusted": true
   },
   "outputs": [],
   "source": [
    "print(\"----------------------\")\n",
    "results_wd = sorted(results_wd, key=lambda x: x[\"accuracy\"], reverse=True)\n",
    "for res in results_wd:\n",
    "    print(res)\n",
    "print(\"----------------------\")"
   ]
  },
  {
   "cell_type": "code",
   "execution_count": null,
   "metadata": {
    "trusted": true
   },
   "outputs": [],
   "source": []
  }
 ],
 "metadata": {
  "kaggle": {
   "accelerator": "gpu",
   "dataSources": [
    {
     "datasetId": 3954721,
     "sourceId": 6883298,
     "sourceType": "datasetVersion"
    },
    {
     "datasetId": 4598363,
     "sourceId": 7843142,
     "sourceType": "datasetVersion"
    }
   ],
   "isGpuEnabled": true,
   "isInternetEnabled": true,
   "language": "python",
   "sourceType": "notebook"
  },
  "kernelspec": {
   "display_name": ".venv",
   "language": "python",
   "name": "python3"
  },
  "language_info": {
   "codemirror_mode": {
    "name": "ipython",
    "version": 3
   },
   "file_extension": ".py",
   "mimetype": "text/x-python",
   "name": "python",
   "nbconvert_exporter": "python",
   "pygments_lexer": "ipython3",
   "version": "3.12.4"
  }
 },
 "nbformat": 4,
 "nbformat_minor": 4
}
