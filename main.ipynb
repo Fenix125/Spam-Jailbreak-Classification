{
 "cells": [
  {
   "cell_type": "markdown",
   "id": "aafe08c1",
   "metadata": {},
   "source": [
    "# Spam/Jailbreak Classification"
   ]
  },
  {
   "cell_type": "markdown",
   "id": "2cc6f56d",
   "metadata": {},
   "source": [
    "---"
   ]
  },
  {
   "cell_type": "markdown",
   "id": "34285d6a",
   "metadata": {},
   "source": [
    "## Dependencies"
   ]
  },
  {
   "cell_type": "markdown",
   "id": "05f6c012",
   "metadata": {},
   "source": [
    "### Modules"
   ]
  },
  {
   "cell_type": "code",
   "execution_count": null,
   "id": "625b99bf",
   "metadata": {
    "trusted": true
   },
   "outputs": [],
   "source": [
    "%pip install fastai"
   ]
  },
  {
   "cell_type": "code",
   "execution_count": null,
   "id": "14fd29c4",
   "metadata": {
    "trusted": true
   },
   "outputs": [],
   "source": [
    "%pip install torch"
   ]
  },
  {
   "cell_type": "code",
   "execution_count": null,
   "id": "a8175e02",
   "metadata": {
    "trusted": true
   },
   "outputs": [],
   "source": [
    "%pip install transformers"
   ]
  },
  {
   "cell_type": "code",
   "execution_count": null,
   "id": "6d77f79d",
   "metadata": {
    "trusted": true
   },
   "outputs": [],
   "source": [
    "%pip install datasets"
   ]
  },
  {
   "cell_type": "code",
   "execution_count": null,
   "id": "58094829",
   "metadata": {
    "trusted": true
   },
   "outputs": [],
   "source": [
    "%pip install tokenizers"
   ]
  },
  {
   "cell_type": "code",
   "execution_count": null,
   "id": "dbaad766",
   "metadata": {
    "trusted": true
   },
   "outputs": [],
   "source": [
    "%pip install scikit-learn"
   ]
  },
  {
   "cell_type": "code",
   "execution_count": null,
   "id": "fe56c459",
   "metadata": {
    "trusted": true
   },
   "outputs": [],
   "source": [
    "%pip install matplotlib"
   ]
  },
  {
   "cell_type": "code",
   "execution_count": null,
   "id": "e0c32b0d",
   "metadata": {
    "trusted": true
   },
   "outputs": [],
   "source": [
    "%pip install spacy"
   ]
  },
  {
   "cell_type": "code",
   "execution_count": null,
   "id": "c13f77be",
   "metadata": {
    "trusted": true
   },
   "outputs": [],
   "source": [
    "%pip install evaluate"
   ]
  },
  {
   "cell_type": "code",
   "execution_count": null,
   "id": "42c6b210",
   "metadata": {
    "trusted": true
   },
   "outputs": [],
   "source": [
    "%pip install accelerate"
   ]
  },
  {
   "cell_type": "markdown",
   "id": "420228d9",
   "metadata": {},
   "source": [
    "### Imports"
   ]
  },
  {
   "cell_type": "code",
   "execution_count": null,
   "id": "28831d0c",
   "metadata": {
    "execution": {
     "iopub.execute_input": "2025-08-07T09:46:35.452188Z",
     "iopub.status.busy": "2025-08-07T09:46:35.451560Z",
     "iopub.status.idle": "2025-08-07T09:47:07.111628Z",
     "shell.execute_reply": "2025-08-07T09:47:07.111020Z",
     "shell.execute_reply.started": "2025-08-07T09:46:35.452153Z"
    },
    "trusted": true
   },
   "outputs": [],
   "source": [
    "import pandas as pd\n",
    "import numpy as np\n",
    "from sklearn.model_selection import train_test_split\n",
    "from fastai.text.all import *\n",
    "from transformers import AutoTokenizer, AutoModelForSequenceClassification, TrainingArguments, Trainer, DataCollatorWithPadding\n",
    "from datasets import Dataset, DatasetDict\n",
    "import numpy as np\n",
    "import evaluate\n",
    "import os"
   ]
  },
  {
   "cell_type": "markdown",
   "id": "90ebf3ce",
   "metadata": {},
   "source": [
    "---"
   ]
  },
  {
   "cell_type": "markdown",
   "id": "e2f53494",
   "metadata": {},
   "source": [
    "## Data"
   ]
  },
  {
   "cell_type": "markdown",
   "id": "46ac66b2",
   "metadata": {},
   "source": [
    "190K+ Spam | Ham Email Dataset for Classification: https://www.kaggle.com/datasets/meruvulikith/190k-spam-ham-email-dataset-for-classification\n",
    "\n",
    "Emails for spam or ham classification (Trec 2007): https://www.kaggle.com/datasets/bayes2003/emails-for-spam-or-ham-classification-trec-2007?select=email_text.csv"
   ]
  },
  {
   "cell_type": "markdown",
   "id": "7ffc409f",
   "metadata": {},
   "source": [
    "### Filtering"
   ]
  },
  {
   "cell_type": "code",
   "execution_count": 3,
   "id": "8275e13b",
   "metadata": {
    "execution": {
     "iopub.execute_input": "2025-08-07T09:47:29.966000Z",
     "iopub.status.busy": "2025-08-07T09:47:29.964834Z",
     "iopub.status.idle": "2025-08-07T09:47:29.970515Z",
     "shell.execute_reply": "2025-08-07T09:47:29.969841Z",
     "shell.execute_reply.started": "2025-08-07T09:47:29.965965Z"
    },
    "trusted": true
   },
   "outputs": [
    {
     "name": "stdout",
     "output_type": "stream",
     "text": [
      "Directory 'data' created successfully.\n"
     ]
    }
   ],
   "source": [
    "directory = \"data\"\n",
    "try:\n",
    "    os.mkdir(directory)\n",
    "    print(f\"Directory '{directory}' created successfully.\")\n",
    "except FileExistsError:\n",
    "    print(f\"Directory '{directory}' already exists.\")"
   ]
  },
  {
   "cell_type": "markdown",
   "id": "f1fa8a8a",
   "metadata": {},
   "source": [
    "Download 2 datasets into \"data\" folder"
   ]
  },
  {
   "cell_type": "code",
   "execution_count": 7,
   "id": "2cb2d475",
   "metadata": {
    "execution": {
     "iopub.execute_input": "2025-08-07T09:51:45.554744Z",
     "iopub.status.busy": "2025-08-07T09:51:45.553889Z",
     "iopub.status.idle": "2025-08-07T09:51:50.574335Z",
     "shell.execute_reply": "2025-08-07T09:51:50.573566Z",
     "shell.execute_reply.started": "2025-08-07T09:51:45.554716Z"
    },
    "trusted": true
   },
   "outputs": [],
   "source": [
    "# df_a = pd.read_csv(\"data/email_text.csv\")\n",
    "# df_b = pd.read_csv(\"data/spam_Emails_data.csv\")\n",
    "\n",
    "#kaggle \n",
    "df_a = pd.read_csv(\"/kaggle/input/emails-for-spam-or-ham-classification-trec-2007/email_text.csv\")\n",
    "df_b = pd.read_csv(\"/kaggle/input/190k-spam-ham-email-dataset-for-classification/spam_Emails_data.csv\")"
   ]
  },
  {
   "cell_type": "code",
   "execution_count": 8,
   "id": "15d9be6a",
   "metadata": {
    "execution": {
     "iopub.execute_input": "2025-08-07T09:51:53.420862Z",
     "iopub.status.busy": "2025-08-07T09:51:53.420583Z",
     "iopub.status.idle": "2025-08-07T09:51:53.441829Z",
     "shell.execute_reply": "2025-08-07T09:51:53.441033Z",
     "shell.execute_reply.started": "2025-08-07T09:51:53.420841Z"
    },
    "trusted": true
   },
   "outputs": [],
   "source": [
    "df_b['label'] = df_b['label'].map({\"Spam\": 1, \"Ham\": 0})"
   ]
  },
  {
   "cell_type": "code",
   "execution_count": 9,
   "id": "ca778a39",
   "metadata": {
    "execution": {
     "iopub.execute_input": "2025-08-07T09:51:57.424756Z",
     "iopub.status.busy": "2025-08-07T09:51:57.424162Z",
     "iopub.status.idle": "2025-08-07T09:51:57.433761Z",
     "shell.execute_reply": "2025-08-07T09:51:57.433165Z",
     "shell.execute_reply.started": "2025-08-07T09:51:57.424730Z"
    },
    "trusted": true
   },
   "outputs": [
    {
     "data": {
      "text/plain": [
       "array([1, 0])"
      ]
     },
     "execution_count": 9,
     "metadata": {},
     "output_type": "execute_result"
    }
   ],
   "source": [
    "df_b['label'].unique()"
   ]
  },
  {
   "cell_type": "code",
   "execution_count": 10,
   "id": "ae897513",
   "metadata": {
    "execution": {
     "iopub.execute_input": "2025-08-07T09:51:58.910977Z",
     "iopub.status.busy": "2025-08-07T09:51:58.910062Z",
     "iopub.status.idle": "2025-08-07T09:51:58.950006Z",
     "shell.execute_reply": "2025-08-07T09:51:58.949347Z",
     "shell.execute_reply.started": "2025-08-07T09:51:58.910940Z"
    },
    "trusted": true
   },
   "outputs": [
    {
     "data": {
      "text/html": [
       "<div>\n",
       "<style scoped>\n",
       "    .dataframe tbody tr th:only-of-type {\n",
       "        vertical-align: middle;\n",
       "    }\n",
       "\n",
       "    .dataframe tbody tr th {\n",
       "        vertical-align: top;\n",
       "    }\n",
       "\n",
       "    .dataframe thead th {\n",
       "        text-align: right;\n",
       "    }\n",
       "</style>\n",
       "<table border=\"1\" class=\"dataframe\">\n",
       "  <thead>\n",
       "    <tr style=\"text-align: right;\">\n",
       "      <th></th>\n",
       "      <th>label</th>\n",
       "      <th>text</th>\n",
       "    </tr>\n",
       "  </thead>\n",
       "  <tbody>\n",
       "    <tr>\n",
       "      <th>0</th>\n",
       "      <td>1</td>\n",
       "      <td>do you feel the pressure to perform and not rising to the occasion try v ia gr a your anxiety will be a thing of the past and you will be back to your old self</td>\n",
       "    </tr>\n",
       "    <tr>\n",
       "      <th>1</th>\n",
       "      <td>0</td>\n",
       "      <td>hi i've just updated from the gulus and i check on other mirrors it seems there is a little typo in debian readme file example http gulus usherbrooke ca debian readme ftp ftp fr debian org debian readme testing or lenny access this release through dists testing the current tested development snapshot is named etch packages which have been tested in unstable and passed automated tests propogate to this release etch should be replace by lenny like in the readme html yan morin consultant en logiciel libre yan morin savoirfairelinux com escapenumber escapenumber escapenumber to unsubscribe ema...</td>\n",
       "    </tr>\n",
       "    <tr>\n",
       "      <th>2</th>\n",
       "      <td>1</td>\n",
       "      <td>mega authenticv i a g r a discount pricec i a l i s discount pricedo not miss it click here http www moujsjkhchum com</td>\n",
       "    </tr>\n",
       "    <tr>\n",
       "      <th>3</th>\n",
       "      <td>1</td>\n",
       "      <td>hey billy it was really fun going out the other night and talking while we were out you said that you felt insecure about your manhood i noticed in the toilets you were quite small in that area but not to worry that website that i was telling you about is my secret weapon to an extra escapenumber inches trust me girls love bigger ones i've had escapenumber times as many chicks since i used these pills a year ago the package i used was the escapenumber month supply one and its worth every cent and more the website is http ctmay com ring me on the weekend and we will go out and drink again a...</td>\n",
       "    </tr>\n",
       "    <tr>\n",
       "      <th>4</th>\n",
       "      <td>1</td>\n",
       "      <td>system of the home it will have the capabilities to be linked far as i know and what i am doing within it as a part of it so with respect to the affects of technology on society we have science ad agencies are cashin g in on its' commerciality and photographs and paint on electronic canvases it still seems like silence white out black out lights out it didn't happen although far from p erfect especially in that it precludes a vast explanation for this i can' t understand how people can rely so avant gardes of the art world additionally writers and lawyers yet to re ach its full potential i...</td>\n",
       "    </tr>\n",
       "    <tr>\n",
       "      <th>...</th>\n",
       "      <td>...</td>\n",
       "      <td>...</td>\n",
       "    </tr>\n",
       "    <tr>\n",
       "      <th>247515</th>\n",
       "      <td>0</td>\n",
       "      <td>on escapenumber escapenumber escapenumber rob dixon wrote snip for my elem doc firstchild elem elem elem nextsibling snip i covered that in my earlier email weirder stuff that you only tend to see people coming from a c background do for my node head node node node next but in perl it is rarely necessary to do this sort of loop since most functions return a list that can be iterated over using for for my node head nodes in this case your module should include a children method for my elem doc children or a true iterator my iter doc child iter while my elem iter next if it doesn't then bug ...</td>\n",
       "    </tr>\n",
       "    <tr>\n",
       "      <th>247516</th>\n",
       "      <td>1</td>\n",
       "      <td>we have everything you need escapelong cialescapenumbers sescapenumberft tescapenumberbs vescapenumberagra sescapenumberft tescapenumberbs cialescapenumbers vescapenumberagra levescapenumbertra propecescapenumbera valescapenumberum xanescapenumberx ambescapenumberen zybescapenumbern atarescapenumberx atescapenumbervan carescapenumbersoma ultrescapenumberm escapelong lipescapenumbertor merescapenumberdia zocescapenumberr nescapenumberrvasc we respect your privacy we guarantee you a total anonymity of your escapenumberrder visit us escapelong inc online at http www electioo com</td>\n",
       "    </tr>\n",
       "    <tr>\n",
       "      <th>247517</th>\n",
       "      <td>0</td>\n",
       "      <td>hi quick question say i have a date variable in a data frame or matrix and i'd like to preserve the date format when using write table however when i export the data i get the generic number underlying the date not the date per se and a number such as escapenumber escapenumber etc are not meaningful in excel is there any way i can preserve the format of a date on writing into a text file tia and best tir r help stat math ethz ch mailing list https stat ethz ch mailman listinfo r help please do read the posting guide http www r project org posting guide html and provide commented minimal se...</td>\n",
       "    </tr>\n",
       "    <tr>\n",
       "      <th>247518</th>\n",
       "      <td>1</td>\n",
       "      <td>thank you for your loan request which we recieved on escapenumber escapenumber escapenumber we'd like to inform you that we are accepting your application bad credit ok we are ready to give you a escapenumber escapenumber loan for a low month payment approval process will take only escapenumber minute please visit the confirmation link below and fill out our short escapenumber second form http www fastrefi biz a grabadora</td>\n",
       "    </tr>\n",
       "    <tr>\n",
       "      <th>247519</th>\n",
       "      <td>0</td>\n",
       "      <td>this is an automatically generated delivery status notification your message has been successfully relayed to the following recipients but the requested delivery status notifications may not be generated by the destination paulconnolly llgm com escapelong aol com ashley brown harvard edu inline attachment follows from to ashley brown harvard edu escapelong aol com paulconnolly llgm com cc roan michael date friday october escapenumber escapenumber escapenumber escapenumber escapenumber gmt subject ashley we would prefer given the schedules to hold a conference call on wednesday pm with a gr...</td>\n",
       "    </tr>\n",
       "  </tbody>\n",
       "</table>\n",
       "<p>247520 rows × 2 columns</p>\n",
       "</div>"
      ],
      "text/plain": [
       "        label  \\\n",
       "0           1   \n",
       "1           0   \n",
       "2           1   \n",
       "3           1   \n",
       "4           1   \n",
       "...       ...   \n",
       "247515      0   \n",
       "247516      1   \n",
       "247517      0   \n",
       "247518      1   \n",
       "247519      0   \n",
       "\n",
       "                                                                                                                                                                                                                                                                                                                                                                                                                                                                                                                                                                                                                           text  \n",
       "0                                                                                                                                                                                                                                                                                                                                                                                                                                                              do you feel the pressure to perform and not rising to the occasion try v ia gr a your anxiety will be a thing of the past and you will be back to your old self   \n",
       "1       hi i've just updated from the gulus and i check on other mirrors it seems there is a little typo in debian readme file example http gulus usherbrooke ca debian readme ftp ftp fr debian org debian readme testing or lenny access this release through dists testing the current tested development snapshot is named etch packages which have been tested in unstable and passed automated tests propogate to this release etch should be replace by lenny like in the readme html yan morin consultant en logiciel libre yan morin savoirfairelinux com escapenumber escapenumber escapenumber to unsubscribe ema...  \n",
       "2                                                                                                                                                                                                                                                                                                                                                                                                                                                                                                         mega authenticv i a g r a discount pricec i a l i s discount pricedo not miss it click here http www moujsjkhchum com  \n",
       "3       hey billy it was really fun going out the other night and talking while we were out you said that you felt insecure about your manhood i noticed in the toilets you were quite small in that area but not to worry that website that i was telling you about is my secret weapon to an extra escapenumber inches trust me girls love bigger ones i've had escapenumber times as many chicks since i used these pills a year ago the package i used was the escapenumber month supply one and its worth every cent and more the website is http ctmay com ring me on the weekend and we will go out and drink again a...  \n",
       "4       system of the home it will have the capabilities to be linked far as i know and what i am doing within it as a part of it so with respect to the affects of technology on society we have science ad agencies are cashin g in on its' commerciality and photographs and paint on electronic canvases it still seems like silence white out black out lights out it didn't happen although far from p erfect especially in that it precludes a vast explanation for this i can' t understand how people can rely so avant gardes of the art world additionally writers and lawyers yet to re ach its full potential i...  \n",
       "...                                                                                                                                                                                                                                                                                                                                                                                                                                                                                                                                                                                                                         ...  \n",
       "247515  on escapenumber escapenumber escapenumber rob dixon wrote snip for my elem doc firstchild elem elem elem nextsibling snip i covered that in my earlier email weirder stuff that you only tend to see people coming from a c background do for my node head node node node next but in perl it is rarely necessary to do this sort of loop since most functions return a list that can be iterated over using for for my node head nodes in this case your module should include a children method for my elem doc children or a true iterator my iter doc child iter while my elem iter next if it doesn't then bug ...  \n",
       "247516                  we have everything you need escapelong cialescapenumbers sescapenumberft tescapenumberbs vescapenumberagra sescapenumberft tescapenumberbs cialescapenumbers vescapenumberagra levescapenumbertra propecescapenumbera valescapenumberum xanescapenumberx ambescapenumberen zybescapenumbern atarescapenumberx atescapenumbervan carescapenumbersoma ultrescapenumberm escapelong lipescapenumbertor merescapenumberdia zocescapenumberr nescapenumberrvasc we respect your privacy we guarantee you a total anonymity of your escapenumberrder visit us escapelong inc online at http www electioo com   \n",
       "247517  hi quick question say i have a date variable in a data frame or matrix and i'd like to preserve the date format when using write table however when i export the data i get the generic number underlying the date not the date per se and a number such as escapenumber escapenumber etc are not meaningful in excel is there any way i can preserve the format of a date on writing into a text file tia and best tir r help stat math ethz ch mailing list https stat ethz ch mailman listinfo r help please do read the posting guide http www r project org posting guide html and provide commented minimal se...  \n",
       "247518                                                                                                                                                                                thank you for your loan request which we recieved on escapenumber escapenumber escapenumber we'd like to inform you that we are accepting your application bad credit ok we are ready to give you a escapenumber escapenumber loan for a low month payment approval process will take only escapenumber minute please visit the confirmation link below and fill out our short escapenumber second form http www fastrefi biz a grabadora  \n",
       "247519  this is an automatically generated delivery status notification your message has been successfully relayed to the following recipients but the requested delivery status notifications may not be generated by the destination paulconnolly llgm com escapelong aol com ashley brown harvard edu inline attachment follows from to ashley brown harvard edu escapelong aol com paulconnolly llgm com cc roan michael date friday october escapenumber escapenumber escapenumber escapenumber escapenumber gmt subject ashley we would prefer given the schedules to hold a conference call on wednesday pm with a gr...  \n",
       "\n",
       "[247520 rows x 2 columns]"
      ]
     },
     "execution_count": 10,
     "metadata": {},
     "output_type": "execute_result"
    }
   ],
   "source": [
    "merged = pd.concat([df_a[['label', 'text']], df_b[['label', 'text']]], ignore_index=True)\n",
    "merged"
   ]
  },
  {
   "cell_type": "code",
   "execution_count": 11,
   "id": "44f0920f",
   "metadata": {
    "execution": {
     "iopub.execute_input": "2025-08-07T09:52:02.575734Z",
     "iopub.status.busy": "2025-08-07T09:52:02.575470Z",
     "iopub.status.idle": "2025-08-07T09:52:02.581885Z",
     "shell.execute_reply": "2025-08-07T09:52:02.581193Z",
     "shell.execute_reply.started": "2025-08-07T09:52:02.575715Z"
    },
    "trusted": true
   },
   "outputs": [
    {
     "data": {
      "text/plain": [
       "array([1, 0])"
      ]
     },
     "execution_count": 11,
     "metadata": {},
     "output_type": "execute_result"
    }
   ],
   "source": [
    "merged['label'].unique()"
   ]
  },
  {
   "cell_type": "code",
   "execution_count": 12,
   "id": "970e172f",
   "metadata": {
    "execution": {
     "iopub.execute_input": "2025-08-07T09:52:03.707933Z",
     "iopub.status.busy": "2025-08-07T09:52:03.707678Z",
     "iopub.status.idle": "2025-08-07T09:52:03.949998Z",
     "shell.execute_reply": "2025-08-07T09:52:03.949284Z",
     "shell.execute_reply.started": "2025-08-07T09:52:03.707914Z"
    },
    "trusted": true
   },
   "outputs": [
    {
     "data": {
      "text/plain": [
       "(193849,)"
      ]
     },
     "execution_count": 12,
     "metadata": {},
     "output_type": "execute_result"
    }
   ],
   "source": [
    "merged['text'].unique().shape"
   ]
  },
  {
   "cell_type": "code",
   "execution_count": 13,
   "id": "838c7f67",
   "metadata": {
    "execution": {
     "iopub.execute_input": "2025-08-07T09:52:05.784019Z",
     "iopub.status.busy": "2025-08-07T09:52:05.783456Z",
     "iopub.status.idle": "2025-08-07T09:52:05.905900Z",
     "shell.execute_reply": "2025-08-07T09:52:05.905341Z",
     "shell.execute_reply.started": "2025-08-07T09:52:05.783996Z"
    },
    "trusted": true
   },
   "outputs": [],
   "source": [
    "merged = merged.drop_duplicates().reset_index(drop=True)"
   ]
  },
  {
   "cell_type": "code",
   "execution_count": 14,
   "id": "fa2cf3bd",
   "metadata": {
    "execution": {
     "iopub.execute_input": "2025-08-07T09:52:07.489726Z",
     "iopub.status.busy": "2025-08-07T09:52:07.489044Z",
     "iopub.status.idle": "2025-08-07T09:52:07.577985Z",
     "shell.execute_reply": "2025-08-07T09:52:07.577451Z",
     "shell.execute_reply.started": "2025-08-07T09:52:07.489702Z"
    },
    "trusted": true
   },
   "outputs": [],
   "source": [
    "merged = merged.dropna(subset=['text']).reset_index(drop=True)\n",
    "merged = merged.drop_duplicates(subset=['text']).reset_index(drop=True)"
   ]
  },
  {
   "cell_type": "code",
   "execution_count": 15,
   "id": "114f99a6",
   "metadata": {
    "execution": {
     "iopub.execute_input": "2025-08-07T09:52:09.305406Z",
     "iopub.status.busy": "2025-08-07T09:52:09.304723Z",
     "iopub.status.idle": "2025-08-07T09:52:18.363132Z",
     "shell.execute_reply": "2025-08-07T09:52:18.362206Z",
     "shell.execute_reply.started": "2025-08-07T09:52:09.305380Z"
    },
    "trusted": true
   },
   "outputs": [],
   "source": [
    "merged.to_csv(\"data/merged_spam_ham.csv\", index=False)"
   ]
  },
  {
   "cell_type": "markdown",
   "id": "9629f2e1",
   "metadata": {},
   "source": [
    "### Splitting"
   ]
  },
  {
   "cell_type": "code",
   "execution_count": 16,
   "id": "aaf78eb6",
   "metadata": {
    "execution": {
     "iopub.execute_input": "2025-08-07T09:52:32.122661Z",
     "iopub.status.busy": "2025-08-07T09:52:32.121946Z",
     "iopub.status.idle": "2025-08-07T09:52:32.274157Z",
     "shell.execute_reply": "2025-08-07T09:52:32.273421Z",
     "shell.execute_reply.started": "2025-08-07T09:52:32.122636Z"
    },
    "trusted": true
   },
   "outputs": [],
   "source": [
    "train_val, test = train_test_split(\n",
    "    merged,\n",
    "    train_size=0.9,\n",
    "    stratify=merged['label'],  \n",
    "    shuffle=True,\n",
    "    random_state=42\n",
    ")\n",
    "train, val = train_test_split(\n",
    "    train_val,\n",
    "    train_size=0.8,\n",
    "    stratify=train_val['label'],  \n",
    "    shuffle=True,\n",
    "    random_state=42\n",
    ")\n",
    "\n",
    "train = train.reset_index(drop=True) #72%\n",
    "val = val.reset_index(drop=True) #18%\n",
    "test = test.reset_index(drop=True) #10%\n"
   ]
  },
  {
   "cell_type": "code",
   "execution_count": 17,
   "id": "90523c69",
   "metadata": {
    "execution": {
     "iopub.execute_input": "2025-08-07T09:52:35.003325Z",
     "iopub.status.busy": "2025-08-07T09:52:35.002818Z",
     "iopub.status.idle": "2025-08-07T09:52:35.008112Z",
     "shell.execute_reply": "2025-08-07T09:52:35.007484Z",
     "shell.execute_reply.started": "2025-08-07T09:52:35.003276Z"
    },
    "trusted": true
   },
   "outputs": [
    {
     "name": "stdout",
     "output_type": "stream",
     "text": [
      "Directory 'filtered_data' created successfully.\n"
     ]
    }
   ],
   "source": [
    "directory = \"filtered_data\"\n",
    "try:\n",
    "    os.mkdir(directory)\n",
    "    print(f\"Directory '{directory}' created successfully.\")\n",
    "except FileExistsError:\n",
    "    print(f\"Directory '{directory}' already exists.\")"
   ]
  },
  {
   "cell_type": "code",
   "execution_count": 18,
   "id": "48fa1798",
   "metadata": {
    "execution": {
     "iopub.execute_input": "2025-08-07T09:52:37.305096Z",
     "iopub.status.busy": "2025-08-07T09:52:37.304824Z",
     "iopub.status.idle": "2025-08-07T09:52:46.458935Z",
     "shell.execute_reply": "2025-08-07T09:52:46.458400Z",
     "shell.execute_reply.started": "2025-08-07T09:52:37.305077Z"
    },
    "trusted": true
   },
   "outputs": [],
   "source": [
    "train.to_csv(\"filtered_data/spam_ham_train.csv\", index=False)\n",
    "val.to_csv(\"filtered_data/spam_ham_val.csv\", index=False)\n",
    "test.to_csv(\"filtered_data/spam_ham_test.csv\", index=False)"
   ]
  },
  {
   "cell_type": "markdown",
   "id": "bd550e11",
   "metadata": {},
   "source": [
    "---"
   ]
  },
  {
   "cell_type": "code",
   "execution_count": 19,
   "id": "aafc1a86",
   "metadata": {
    "execution": {
     "iopub.execute_input": "2025-08-07T09:52:53.486636Z",
     "iopub.status.busy": "2025-08-07T09:52:53.485896Z",
     "iopub.status.idle": "2025-08-07T09:52:57.461280Z",
     "shell.execute_reply": "2025-08-07T09:52:57.460719Z",
     "shell.execute_reply.started": "2025-08-07T09:52:53.486608Z"
    },
    "trusted": true
   },
   "outputs": [],
   "source": [
    "train = pd.read_csv(\"filtered_data/spam_ham_train.csv\")\n",
    "val = pd.read_csv(\"filtered_data/spam_ham_val.csv\")\n",
    "test = pd.read_csv(\"filtered_data/spam_ham_test.csv\")"
   ]
  },
  {
   "cell_type": "markdown",
   "id": "94fb18d0",
   "metadata": {},
   "source": [
    "## Classifier"
   ]
  },
  {
   "cell_type": "code",
   "execution_count": null,
   "id": "8447c5f3",
   "metadata": {
    "execution": {
     "iopub.execute_input": "2025-08-07T09:53:05.475123Z",
     "iopub.status.busy": "2025-08-07T09:53:05.474273Z",
     "iopub.status.idle": "2025-08-07T09:53:13.137965Z",
     "shell.execute_reply": "2025-08-07T09:53:13.137471Z",
     "shell.execute_reply.started": "2025-08-07T09:53:05.475089Z"
    },
    "trusted": true
   },
   "outputs": [],
   "source": [
    "model_name = \"bert-base-uncased\" #test cased/uncased\n",
    "tokenizer = AutoTokenizer.from_pretrained(model_name)\n",
    "model = AutoModelForSequenceClassification.from_pretrained(model_name, num_labels=2)"
   ]
  },
  {
   "cell_type": "code",
   "execution_count": 21,
   "id": "1e237773-dd52-48fe-8aa2-fc62dc3918af",
   "metadata": {
    "execution": {
     "iopub.execute_input": "2025-08-07T09:53:15.610176Z",
     "iopub.status.busy": "2025-08-07T09:53:15.609611Z",
     "iopub.status.idle": "2025-08-07T09:53:15.615143Z",
     "shell.execute_reply": "2025-08-07T09:53:15.614447Z",
     "shell.execute_reply.started": "2025-08-07T09:53:15.610154Z"
    },
    "trusted": true
   },
   "outputs": [],
   "source": [
    "for name, param in model.base_model.named_parameters():\n",
    "    param.requires_grad = False\n",
    "\n",
    "for name, param in model.base_model.named_parameters():\n",
    "    if \"pooler\" in name:\n",
    "        param.requires_grad = True"
   ]
  },
  {
   "cell_type": "code",
   "execution_count": 23,
   "id": "e1f56dd6-6dcd-431f-9baa-9288b7cc21be",
   "metadata": {
    "execution": {
     "iopub.execute_input": "2025-08-07T09:53:47.258599Z",
     "iopub.status.busy": "2025-08-07T09:53:47.257894Z",
     "iopub.status.idle": "2025-08-07T09:53:47.269763Z",
     "shell.execute_reply": "2025-08-07T09:53:47.269012Z",
     "shell.execute_reply.started": "2025-08-07T09:53:47.258574Z"
    },
    "trusted": true
   },
   "outputs": [],
   "source": [
    "reduced_train = train.sample(n=2000, random_state=42)\n",
    "reduced_val = val.sample(n=2000, random_state=42)\n",
    "reduced_test = test.sample(n=2000, random_state=42)"
   ]
  },
  {
   "cell_type": "code",
   "execution_count": 24,
   "id": "94742e46",
   "metadata": {
    "execution": {
     "iopub.execute_input": "2025-08-07T09:53:52.254645Z",
     "iopub.status.busy": "2025-08-07T09:53:52.254055Z",
     "iopub.status.idle": "2025-08-07T09:53:52.341695Z",
     "shell.execute_reply": "2025-08-07T09:53:52.341125Z",
     "shell.execute_reply.started": "2025-08-07T09:53:52.254620Z"
    },
    "trusted": true
   },
   "outputs": [],
   "source": [
    "train_ds = Dataset.from_pandas(reduced_train)\n",
    "val_ds = Dataset.from_pandas(reduced_val)\n",
    "test_ds = Dataset.from_pandas(reduced_test)"
   ]
  },
  {
   "cell_type": "code",
   "execution_count": 25,
   "id": "454bdc57",
   "metadata": {
    "execution": {
     "iopub.execute_input": "2025-08-07T09:53:54.212333Z",
     "iopub.status.busy": "2025-08-07T09:53:54.211841Z",
     "iopub.status.idle": "2025-08-07T09:53:54.215728Z",
     "shell.execute_reply": "2025-08-07T09:53:54.215041Z",
     "shell.execute_reply.started": "2025-08-07T09:53:54.212310Z"
    },
    "trusted": true
   },
   "outputs": [],
   "source": [
    "dataset_dict = DatasetDict({\"train\": train_ds, \"val\": val_ds, \"test\": test_ds})"
   ]
  },
  {
   "cell_type": "code",
   "execution_count": 26,
   "id": "d1093d9b",
   "metadata": {
    "execution": {
     "iopub.execute_input": "2025-08-07T09:53:57.636917Z",
     "iopub.status.busy": "2025-08-07T09:53:57.636654Z",
     "iopub.status.idle": "2025-08-07T09:53:57.640883Z",
     "shell.execute_reply": "2025-08-07T09:53:57.640093Z",
     "shell.execute_reply.started": "2025-08-07T09:53:57.636898Z"
    },
    "trusted": true
   },
   "outputs": [],
   "source": [
    "def preprocess_function(examples):\n",
    "    return tokenizer(examples[\"text\"], truncation=True)"
   ]
  },
  {
   "cell_type": "code",
   "execution_count": null,
   "id": "28b155d4",
   "metadata": {
    "execution": {
     "iopub.execute_input": "2025-08-07T09:53:59.469084Z",
     "iopub.status.busy": "2025-08-07T09:53:59.468815Z",
     "iopub.status.idle": "2025-08-07T09:54:03.426936Z",
     "shell.execute_reply": "2025-08-07T09:54:03.426358Z",
     "shell.execute_reply.started": "2025-08-07T09:53:59.469065Z"
    },
    "trusted": true
   },
   "outputs": [],
   "source": [
    "tokenized_data = dataset_dict.map(preprocess_function, batched=True)\n",
    "data_collator = DataCollatorWithPadding(tokenizer=tokenizer)"
   ]
  },
  {
   "cell_type": "code",
   "execution_count": null,
   "id": "d47a6f0a",
   "metadata": {
    "execution": {
     "iopub.execute_input": "2025-08-07T09:54:06.017387Z",
     "iopub.status.busy": "2025-08-07T09:54:06.016756Z",
     "iopub.status.idle": "2025-08-07T09:54:07.371715Z",
     "shell.execute_reply": "2025-08-07T09:54:07.371175Z",
     "shell.execute_reply.started": "2025-08-07T09:54:06.017360Z"
    },
    "trusted": true
   },
   "outputs": [],
   "source": [
    "accuracy = evaluate.load(\"accuracy\")"
   ]
  },
  {
   "cell_type": "code",
   "execution_count": 30,
   "id": "ba411e73",
   "metadata": {
    "execution": {
     "iopub.execute_input": "2025-08-07T09:54:37.849047Z",
     "iopub.status.busy": "2025-08-07T09:54:37.848474Z",
     "iopub.status.idle": "2025-08-07T09:54:37.853604Z",
     "shell.execute_reply": "2025-08-07T09:54:37.853035Z",
     "shell.execute_reply.started": "2025-08-07T09:54:37.849023Z"
    },
    "trusted": true
   },
   "outputs": [],
   "source": [
    "def compute_metrics(eval_pred):\n",
    "    logits, labels = eval_pred\n",
    "    predictions = np.argmax(logits, axis=1)\n",
    "    accuracy_res = accuracy.compute(predictions=predictions, references=labels)\n",
    "    return {\"accuracy\" : accuracy_res[\"accuracy\"]}"
   ]
  },
  {
   "cell_type": "code",
   "execution_count": 31,
   "id": "aa2ff485",
   "metadata": {
    "execution": {
     "iopub.execute_input": "2025-08-07T09:54:40.054049Z",
     "iopub.status.busy": "2025-08-07T09:54:40.053784Z",
     "iopub.status.idle": "2025-08-07T09:54:40.082411Z",
     "shell.execute_reply": "2025-08-07T09:54:40.081655Z",
     "shell.execute_reply.started": "2025-08-07T09:54:40.054030Z"
    },
    "trusted": true
   },
   "outputs": [],
   "source": [
    "lr = 2e-4\n",
    "batch_sz = 32\n",
    "epoch = 3\n",
    "\n",
    "training_args = TrainingArguments(\n",
    "    output_dir=\"bert-spam-ham-classifier-2\",\n",
    "    per_device_train_batch_size=batch_sz,\n",
    "    per_device_eval_batch_size=batch_sz,\n",
    "    num_train_epochs=epoch,\n",
    "    eval_strategy=\"epoch\",\n",
    "    logging_strategy=\"epoch\",\n",
    "    save_strategy=\"epoch\",\n",
    "    load_best_model_at_end=True,\n",
    "\n",
    "    learning_rate=lr,\n",
    "    report_to=\"none\"\n",
    ")"
   ]
  },
  {
   "cell_type": "code",
   "execution_count": null,
   "id": "0afa8a23",
   "metadata": {
    "execution": {
     "iopub.execute_input": "2025-08-07T09:54:41.950707Z",
     "iopub.status.busy": "2025-08-07T09:54:41.949954Z",
     "iopub.status.idle": "2025-08-07T09:54:42.288393Z",
     "shell.execute_reply": "2025-08-07T09:54:42.287770Z",
     "shell.execute_reply.started": "2025-08-07T09:54:41.950680Z"
    },
    "trusted": true
   },
   "outputs": [],
   "source": [
    "trainer = Trainer(\n",
    "    model=model,\n",
    "    args=training_args,\n",
    "    train_dataset=tokenized_data[\"train\"],\n",
    "    eval_dataset=tokenized_data[\"val\"],\n",
    "    tokenizer=tokenizer,\n",
    "    data_collator=data_collator,\n",
    "    compute_metrics=compute_metrics\n",
    ")"
   ]
  },
  {
   "cell_type": "code",
   "execution_count": 34,
   "id": "25102a1c",
   "metadata": {
    "execution": {
     "iopub.execute_input": "2025-08-07T09:55:06.439355Z",
     "iopub.status.busy": "2025-08-07T09:55:06.439036Z",
     "iopub.status.idle": "2025-08-07T09:58:23.922868Z",
     "shell.execute_reply": "2025-08-07T09:58:23.922119Z",
     "shell.execute_reply.started": "2025-08-07T09:55:06.439327Z"
    },
    "trusted": true
   },
   "outputs": [
    {
     "data": {
      "text/html": [
       "\n",
       "    <div>\n",
       "      \n",
       "      <progress value='189' max='189' style='width:300px; height:20px; vertical-align: middle;'></progress>\n",
       "      [189/189 03:15, Epoch 3/3]\n",
       "    </div>\n",
       "    <table border=\"1\" class=\"dataframe\">\n",
       "  <thead>\n",
       " <tr style=\"text-align: left;\">\n",
       "      <th>Epoch</th>\n",
       "      <th>Training Loss</th>\n",
       "      <th>Validation Loss</th>\n",
       "      <th>Accuracy</th>\n",
       "    </tr>\n",
       "  </thead>\n",
       "  <tbody>\n",
       "    <tr>\n",
       "      <td>1</td>\n",
       "      <td>0.523100</td>\n",
       "      <td>0.389421</td>\n",
       "      <td>0.844000</td>\n",
       "    </tr>\n",
       "    <tr>\n",
       "      <td>2</td>\n",
       "      <td>0.360100</td>\n",
       "      <td>0.300885</td>\n",
       "      <td>0.889500</td>\n",
       "    </tr>\n",
       "    <tr>\n",
       "      <td>3</td>\n",
       "      <td>0.315600</td>\n",
       "      <td>0.289297</td>\n",
       "      <td>0.887500</td>\n",
       "    </tr>\n",
       "  </tbody>\n",
       "</table><p>"
      ],
      "text/plain": [
       "<IPython.core.display.HTML object>"
      ]
     },
     "metadata": {},
     "output_type": "display_data"
    },
    {
     "data": {
      "text/plain": [
       "TrainOutput(global_step=189, training_loss=0.399616867146164, metrics={'train_runtime': 196.9385, 'train_samples_per_second': 30.466, 'train_steps_per_second': 0.96, 'total_flos': 1578666332160000.0, 'train_loss': 0.399616867146164, 'epoch': 3.0})"
      ]
     },
     "execution_count": 34,
     "metadata": {},
     "output_type": "execute_result"
    }
   ],
   "source": [
    "trainer.train()"
   ]
  },
  {
   "cell_type": "code",
   "execution_count": null,
   "id": "4db755da-6c39-47af-8f11-a6f56c2826bc",
   "metadata": {
    "execution": {
     "iopub.execute_input": "2025-08-07T09:54:56.069520Z",
     "iopub.status.busy": "2025-08-07T09:54:56.069079Z",
     "iopub.status.idle": "2025-08-07T09:55:00.021505Z",
     "shell.execute_reply": "2025-08-07T09:55:00.020758Z",
     "shell.execute_reply.started": "2025-08-07T09:54:56.069493Z"
    },
    "trusted": true
   },
   "outputs": [],
   "source": [
    "#%pip3 install tqdm==4.62.1 \n",
    "#kaggle has problems with outputing trainer's progress bar"
   ]
  },
  {
   "cell_type": "markdown",
   "id": "5edd7fec-5edb-44dc-8340-3f5419c8fedd",
   "metadata": {},
   "source": [
    "### Testing"
   ]
  },
  {
   "cell_type": "code",
   "execution_count": 36,
   "id": "a8b225b4-d8a6-4ae8-858f-31e3516c32f1",
   "metadata": {
    "execution": {
     "iopub.execute_input": "2025-08-07T09:59:58.256468Z",
     "iopub.status.busy": "2025-08-07T09:59:58.255995Z",
     "iopub.status.idle": "2025-08-07T10:00:29.555162Z",
     "shell.execute_reply": "2025-08-07T10:00:29.554609Z",
     "shell.execute_reply.started": "2025-08-07T09:59:58.256447Z"
    },
    "trusted": true
   },
   "outputs": [
    {
     "data": {
      "text/html": [],
      "text/plain": [
       "<IPython.core.display.HTML object>"
      ]
     },
     "metadata": {},
     "output_type": "display_data"
    }
   ],
   "source": [
    "test_results = trainer.predict(tokenized_data[\"test\"])"
   ]
  },
  {
   "cell_type": "code",
   "execution_count": 37,
   "id": "66109575-0834-4545-8a95-1e58064be163",
   "metadata": {
    "execution": {
     "iopub.execute_input": "2025-08-07T10:00:32.760396Z",
     "iopub.status.busy": "2025-08-07T10:00:32.759653Z",
     "iopub.status.idle": "2025-08-07T10:00:32.764949Z",
     "shell.execute_reply": "2025-08-07T10:00:32.764334Z",
     "shell.execute_reply.started": "2025-08-07T10:00:32.760368Z"
    },
    "trusted": true
   },
   "outputs": [
    {
     "data": {
      "text/plain": [
       "{'test_loss': 0.2932717502117157,\n",
       " 'test_accuracy': 0.8825,\n",
       " 'test_runtime': 31.2901,\n",
       " 'test_samples_per_second': 63.918,\n",
       " 'test_steps_per_second': 2.013}"
      ]
     },
     "execution_count": 37,
     "metadata": {},
     "output_type": "execute_result"
    }
   ],
   "source": [
    "test_results.metrics"
   ]
  }
 ],
 "metadata": {
  "kaggle": {
   "accelerator": "gpu",
   "dataSources": [
    {
     "datasetId": 4598363,
     "sourceId": 7843142,
     "sourceType": "datasetVersion"
    },
    {
     "datasetId": 3954721,
     "sourceId": 6883298,
     "sourceType": "datasetVersion"
    }
   ],
   "isGpuEnabled": true,
   "isInternetEnabled": true,
   "language": "python",
   "sourceType": "notebook"
  },
  "kernelspec": {
   "display_name": "Python 3",
   "language": "python",
   "name": "python3"
  },
  "language_info": {
   "codemirror_mode": {
    "name": "ipython",
    "version": 3
   },
   "file_extension": ".py",
   "mimetype": "text/x-python",
   "name": "python",
   "nbconvert_exporter": "python",
   "pygments_lexer": "ipython3",
   "version": "3.11.13"
  }
 },
 "nbformat": 4,
 "nbformat_minor": 5
}
