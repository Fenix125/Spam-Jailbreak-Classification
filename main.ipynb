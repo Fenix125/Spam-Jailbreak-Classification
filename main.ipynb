{
 "cells": [
  {
   "cell_type": "markdown",
   "id": "aafe08c1",
   "metadata": {},
   "source": [
    "# Spam/Jailbreak Classification"
   ]
  },
  {
   "cell_type": "markdown",
   "id": "2cc6f56d",
   "metadata": {},
   "source": [
    "---"
   ]
  },
  {
   "cell_type": "markdown",
   "id": "34285d6a",
   "metadata": {},
   "source": [
    "## Dependencies"
   ]
  },
  {
   "cell_type": "markdown",
   "id": "05f6c012",
   "metadata": {},
   "source": [
    "### Modules"
   ]
  },
  {
   "cell_type": "code",
   "execution_count": null,
   "id": "625b99bf",
   "metadata": {},
   "outputs": [],
   "source": [
    "%pip install fastai"
   ]
  },
  {
   "cell_type": "code",
   "execution_count": null,
   "id": "14fd29c4",
   "metadata": {},
   "outputs": [],
   "source": [
    "%pip install torch"
   ]
  },
  {
   "cell_type": "code",
   "execution_count": null,
   "id": "a8175e02",
   "metadata": {},
   "outputs": [],
   "source": [
    "%pip install transformers"
   ]
  },
  {
   "cell_type": "code",
   "execution_count": null,
   "id": "6d77f79d",
   "metadata": {},
   "outputs": [],
   "source": [
    "%pip install datasets"
   ]
  },
  {
   "cell_type": "code",
   "execution_count": null,
   "id": "58094829",
   "metadata": {},
   "outputs": [],
   "source": [
    "%pip install tokenizers"
   ]
  },
  {
   "cell_type": "code",
   "execution_count": null,
   "id": "dbaad766",
   "metadata": {},
   "outputs": [],
   "source": [
    "%pip install scikit-learn"
   ]
  },
  {
   "cell_type": "code",
   "execution_count": null,
   "id": "fe56c459",
   "metadata": {},
   "outputs": [],
   "source": [
    "%pip install matplotlib"
   ]
  },
  {
   "cell_type": "code",
   "execution_count": null,
   "id": "e0c32b0d",
   "metadata": {},
   "outputs": [],
   "source": [
    "%pip install spacy"
   ]
  },
  {
   "cell_type": "markdown",
   "id": "420228d9",
   "metadata": {},
   "source": [
    "### Imports"
   ]
  },
  {
   "cell_type": "code",
   "execution_count": 76,
   "id": "28831d0c",
   "metadata": {},
   "outputs": [
    {
     "name": "stderr",
     "output_type": "stream",
     "text": [
      "/Users/admin/Desktop/Spam-Jailbreak-Classification/.venv/lib/python3.12/site-packages/tqdm/auto.py:21: TqdmWarning: IProgress not found. Please update jupyter and ipywidgets. See https://ipywidgets.readthedocs.io/en/stable/user_install.html\n",
      "  from .autonotebook import tqdm as notebook_tqdm\n"
     ]
    }
   ],
   "source": [
    "import pandas as pd\n",
    "from sklearn.model_selection import train_test_split\n",
    "from fastai.text.all import *\n",
    "from transformers import AutoTokenizer"
   ]
  },
  {
   "cell_type": "markdown",
   "id": "90ebf3ce",
   "metadata": {},
   "source": [
    "---"
   ]
  },
  {
   "cell_type": "markdown",
   "id": "e2f53494",
   "metadata": {},
   "source": [
    "## Data"
   ]
  },
  {
   "cell_type": "markdown",
   "id": "46ac66b2",
   "metadata": {},
   "source": [
    "190K+ Spam | Ham Email Dataset for Classification: https://www.kaggle.com/datasets/meruvulikith/190k-spam-ham-email-dataset-for-classification\n",
    "\n",
    "Emails for spam or ham classification (Trec 2007): https://www.kaggle.com/datasets/bayes2003/emails-for-spam-or-ham-classification-trec-2007?select=email_text.csv"
   ]
  },
  {
   "cell_type": "markdown",
   "id": "7ffc409f",
   "metadata": {},
   "source": [
    "### Filtering"
   ]
  },
  {
   "cell_type": "code",
   "execution_count": 17,
   "id": "2cb2d475",
   "metadata": {},
   "outputs": [],
   "source": [
    "df_a = pd.read_csv(\"data/email_text.csv\")\n",
    "df_b = pd.read_csv(\"data/spam_Emails_data.csv\")"
   ]
  },
  {
   "cell_type": "code",
   "execution_count": 28,
   "id": "15d9be6a",
   "metadata": {},
   "outputs": [],
   "source": [
    "df_a['label'] = df_a['label'].map({1: 'spam', 0: 'ham'})\n",
    "df_b['label'] = df_b['label'].str.strip().str.lower()"
   ]
  },
  {
   "cell_type": "code",
   "execution_count": 33,
   "id": "ca778a39",
   "metadata": {},
   "outputs": [
    {
     "data": {
      "text/plain": [
       "array(['spam', 'ham'], dtype=object)"
      ]
     },
     "execution_count": 33,
     "metadata": {},
     "output_type": "execute_result"
    }
   ],
   "source": [
    "df_b['label'].unique()"
   ]
  },
  {
   "cell_type": "code",
   "execution_count": 34,
   "id": "ae897513",
   "metadata": {},
   "outputs": [
    {
     "data": {
      "text/html": [
       "<div>\n",
       "<style scoped>\n",
       "    .dataframe tbody tr th:only-of-type {\n",
       "        vertical-align: middle;\n",
       "    }\n",
       "\n",
       "    .dataframe tbody tr th {\n",
       "        vertical-align: top;\n",
       "    }\n",
       "\n",
       "    .dataframe thead th {\n",
       "        text-align: right;\n",
       "    }\n",
       "</style>\n",
       "<table border=\"1\" class=\"dataframe\">\n",
       "  <thead>\n",
       "    <tr style=\"text-align: right;\">\n",
       "      <th></th>\n",
       "      <th>label</th>\n",
       "      <th>text</th>\n",
       "    </tr>\n",
       "  </thead>\n",
       "  <tbody>\n",
       "    <tr>\n",
       "      <th>0</th>\n",
       "      <td>spam</td>\n",
       "      <td>do you feel the pressure to perform and not ri...</td>\n",
       "    </tr>\n",
       "    <tr>\n",
       "      <th>1</th>\n",
       "      <td>ham</td>\n",
       "      <td>hi i've just updated from the gulus and i chec...</td>\n",
       "    </tr>\n",
       "    <tr>\n",
       "      <th>2</th>\n",
       "      <td>spam</td>\n",
       "      <td>mega authenticv i a g r a discount pricec i a ...</td>\n",
       "    </tr>\n",
       "    <tr>\n",
       "      <th>3</th>\n",
       "      <td>spam</td>\n",
       "      <td>hey billy it was really fun going out the othe...</td>\n",
       "    </tr>\n",
       "    <tr>\n",
       "      <th>4</th>\n",
       "      <td>spam</td>\n",
       "      <td>system of the home it will have the capabiliti...</td>\n",
       "    </tr>\n",
       "    <tr>\n",
       "      <th>...</th>\n",
       "      <td>...</td>\n",
       "      <td>...</td>\n",
       "    </tr>\n",
       "    <tr>\n",
       "      <th>247515</th>\n",
       "      <td>ham</td>\n",
       "      <td>on escapenumber escapenumber escapenumber rob ...</td>\n",
       "    </tr>\n",
       "    <tr>\n",
       "      <th>247516</th>\n",
       "      <td>spam</td>\n",
       "      <td>we have everything you need escapelong cialesc...</td>\n",
       "    </tr>\n",
       "    <tr>\n",
       "      <th>247517</th>\n",
       "      <td>ham</td>\n",
       "      <td>hi quick question say i have a date variable i...</td>\n",
       "    </tr>\n",
       "    <tr>\n",
       "      <th>247518</th>\n",
       "      <td>spam</td>\n",
       "      <td>thank you for your loan request which we recie...</td>\n",
       "    </tr>\n",
       "    <tr>\n",
       "      <th>247519</th>\n",
       "      <td>ham</td>\n",
       "      <td>this is an automatically generated delivery st...</td>\n",
       "    </tr>\n",
       "  </tbody>\n",
       "</table>\n",
       "<p>247520 rows × 2 columns</p>\n",
       "</div>"
      ],
      "text/plain": [
       "       label                                               text\n",
       "0       spam  do you feel the pressure to perform and not ri...\n",
       "1        ham  hi i've just updated from the gulus and i chec...\n",
       "2       spam  mega authenticv i a g r a discount pricec i a ...\n",
       "3       spam  hey billy it was really fun going out the othe...\n",
       "4       spam  system of the home it will have the capabiliti...\n",
       "...      ...                                                ...\n",
       "247515   ham  on escapenumber escapenumber escapenumber rob ...\n",
       "247516  spam  we have everything you need escapelong cialesc...\n",
       "247517   ham  hi quick question say i have a date variable i...\n",
       "247518  spam  thank you for your loan request which we recie...\n",
       "247519   ham  this is an automatically generated delivery st...\n",
       "\n",
       "[247520 rows x 2 columns]"
      ]
     },
     "execution_count": 34,
     "metadata": {},
     "output_type": "execute_result"
    }
   ],
   "source": [
    "merged = pd.concat([df_a[['label', 'text']], df_b[['label', 'text']]], ignore_index=True)\n",
    "merged"
   ]
  },
  {
   "cell_type": "code",
   "execution_count": 36,
   "id": "44f0920f",
   "metadata": {},
   "outputs": [
    {
     "data": {
      "text/plain": [
       "array(['spam', 'ham'], dtype=object)"
      ]
     },
     "execution_count": 36,
     "metadata": {},
     "output_type": "execute_result"
    }
   ],
   "source": [
    "merged['label'].unique()"
   ]
  },
  {
   "cell_type": "code",
   "execution_count": 41,
   "id": "970e172f",
   "metadata": {},
   "outputs": [
    {
     "data": {
      "text/plain": [
       "array(['do you feel the pressure to perform and not rising to the occasion try v ia gr a your anxiety will be a thing of the past and you will be back to your old self ',\n",
       "       \"hi i've just updated from the gulus and i check on other mirrors it seems there is a little typo in debian readme file example http gulus usherbrooke ca debian readme ftp ftp fr debian org debian readme testing or lenny access this release through dists testing the current tested development snapshot is named etch packages which have been tested in unstable and passed automated tests propogate to this release etch should be replace by lenny like in the readme html yan morin consultant en logiciel libre yan morin savoirfairelinux com escapenumber escapenumber escapenumber to unsubscribe email to debian mirrors request lists debian org with a subject of unsubscribe trouble contact listmaster lists debian org\",\n",
       "       'mega authenticv i a g r a discount pricec i a l i s discount pricedo not miss it click here http www moujsjkhchum com',\n",
       "       ...,\n",
       "       'sorry but once again tim has discovered a bug in the conversion of the truequote data and has requested us to remain out of the files while they correct the program and rerun the job this should be complete by escapenumber at which time i will spot check the data and give the ok as to whether we can use the files in the meantime if you could please try to update the progress reports with any data that you may have completed it will be greatly appreciated thanks kathy',\n",
       "       \"thank you for your loan request which we recieved on escapenumber escapenumber escapenumber we'd like to inform you that we are accepting your application bad credit ok we are ready to give you a escapenumber escapenumber loan for a low month payment approval process will take only escapenumber minute please visit the confirmation link below and fill out our short escapenumber second form http www fastrefi biz a grabadora\",\n",
       "       'this is an automatically generated delivery status notification your message has been successfully relayed to the following recipients but the requested delivery status notifications may not be generated by the destination paulconnolly llgm com escapelong aol com ashley brown harvard edu inline attachment follows from to ashley brown harvard edu escapelong aol com paulconnolly llgm com cc roan michael date friday october escapenumber escapenumber escapenumber escapenumber escapenumber gmt subject ashley we would prefer given the schedules to hold a conference call on wednesday pm with a group of marketers generators seems like the easiest way to discuss with everyone it would be great to have a paper from ng earlier in the week here is our list of recommended people probably best to have ng or you call to invite rather than enron to highlight your interest in brokering a deal in the midwest exelon jack crowley escapenumber escapenumber escapenumber constellation harvey reed escapenumber escapenumber escapenumber edison mission energy reem fahey escapenumber escapenumber escapenumber reliant john orr escapenumber escapenumber escapenumber duke mike gildea escapenumber escapenumber escapenumber or lee barrett escapenumber escapenumber escapenumber mirant jim mayhew escapenumber escapenumber escapenumber pg e richard doying escapenumber escapenumber escapenumber cinergy dennis flaherty thanks jim'],\n",
       "      shape=(193849,), dtype=object)"
      ]
     },
     "execution_count": 41,
     "metadata": {},
     "output_type": "execute_result"
    }
   ],
   "source": [
    "merged['text'].unique()"
   ]
  },
  {
   "cell_type": "code",
   "execution_count": 42,
   "id": "838c7f67",
   "metadata": {},
   "outputs": [],
   "source": [
    "merged = merged.drop_duplicates().reset_index(drop=True)"
   ]
  },
  {
   "cell_type": "code",
   "execution_count": 59,
   "id": "111ee1f8",
   "metadata": {},
   "outputs": [
    {
     "data": {
      "text/html": [
       "<div>\n",
       "<style scoped>\n",
       "    .dataframe tbody tr th:only-of-type {\n",
       "        vertical-align: middle;\n",
       "    }\n",
       "\n",
       "    .dataframe tbody tr th {\n",
       "        vertical-align: top;\n",
       "    }\n",
       "\n",
       "    .dataframe thead th {\n",
       "        text-align: right;\n",
       "    }\n",
       "</style>\n",
       "<table border=\"1\" class=\"dataframe\">\n",
       "  <thead>\n",
       "    <tr style=\"text-align: right;\">\n",
       "      <th></th>\n",
       "      <th>label</th>\n",
       "      <th>text</th>\n",
       "    </tr>\n",
       "  </thead>\n",
       "  <tbody>\n",
       "    <tr>\n",
       "      <th>count</th>\n",
       "      <td>193852</td>\n",
       "      <td>193850</td>\n",
       "    </tr>\n",
       "    <tr>\n",
       "      <th>unique</th>\n",
       "      <td>2</td>\n",
       "      <td>193848</td>\n",
       "    </tr>\n",
       "    <tr>\n",
       "      <th>top</th>\n",
       "      <td>ham</td>\n",
       "      <td>hi</td>\n",
       "    </tr>\n",
       "    <tr>\n",
       "      <th>freq</th>\n",
       "      <td>102160</td>\n",
       "      <td>2</td>\n",
       "    </tr>\n",
       "  </tbody>\n",
       "</table>\n",
       "</div>"
      ],
      "text/plain": [
       "         label    text\n",
       "count   193852  193850\n",
       "unique       2  193848\n",
       "top        ham      hi\n",
       "freq    102160       2"
      ]
     },
     "execution_count": 59,
     "metadata": {},
     "output_type": "execute_result"
    }
   ],
   "source": [
    "merged.describe()"
   ]
  },
  {
   "cell_type": "code",
   "execution_count": 62,
   "id": "fa2cf3bd",
   "metadata": {},
   "outputs": [],
   "source": [
    "merged = merged.dropna(subset=['text']).reset_index(drop=True)\n",
    "merged = merged.drop_duplicates(subset=['text']).reset_index(drop=True)"
   ]
  },
  {
   "cell_type": "code",
   "execution_count": 63,
   "id": "44ef2ea1",
   "metadata": {},
   "outputs": [
    {
     "data": {
      "text/html": [
       "<div>\n",
       "<style scoped>\n",
       "    .dataframe tbody tr th:only-of-type {\n",
       "        vertical-align: middle;\n",
       "    }\n",
       "\n",
       "    .dataframe tbody tr th {\n",
       "        vertical-align: top;\n",
       "    }\n",
       "\n",
       "    .dataframe thead th {\n",
       "        text-align: right;\n",
       "    }\n",
       "</style>\n",
       "<table border=\"1\" class=\"dataframe\">\n",
       "  <thead>\n",
       "    <tr style=\"text-align: right;\">\n",
       "      <th></th>\n",
       "      <th>label</th>\n",
       "      <th>text</th>\n",
       "    </tr>\n",
       "  </thead>\n",
       "  <tbody>\n",
       "    <tr>\n",
       "      <th>count</th>\n",
       "      <td>193848</td>\n",
       "      <td>193848</td>\n",
       "    </tr>\n",
       "    <tr>\n",
       "      <th>unique</th>\n",
       "      <td>2</td>\n",
       "      <td>193848</td>\n",
       "    </tr>\n",
       "    <tr>\n",
       "      <th>top</th>\n",
       "      <td>ham</td>\n",
       "      <td>do you feel the pressure to perform and not ri...</td>\n",
       "    </tr>\n",
       "    <tr>\n",
       "      <th>freq</th>\n",
       "      <td>102158</td>\n",
       "      <td>1</td>\n",
       "    </tr>\n",
       "  </tbody>\n",
       "</table>\n",
       "</div>"
      ],
      "text/plain": [
       "         label                                               text\n",
       "count   193848                                             193848\n",
       "unique       2                                             193848\n",
       "top        ham  do you feel the pressure to perform and not ri...\n",
       "freq    102158                                                  1"
      ]
     },
     "execution_count": 63,
     "metadata": {},
     "output_type": "execute_result"
    }
   ],
   "source": [
    "merged.describe()"
   ]
  },
  {
   "cell_type": "code",
   "execution_count": 64,
   "id": "114f99a6",
   "metadata": {},
   "outputs": [],
   "source": [
    "merged.to_csv(\"data/merged_spam_ham.csv\", index=False)"
   ]
  },
  {
   "cell_type": "markdown",
   "id": "9629f2e1",
   "metadata": {},
   "source": [
    "### Splitting"
   ]
  },
  {
   "cell_type": "code",
   "execution_count": 74,
   "id": "aaf78eb6",
   "metadata": {},
   "outputs": [],
   "source": [
    "train, temp = train_test_split(\n",
    "    merged,\n",
    "    train_size=0.8,\n",
    "    stratify=merged['label'],  \n",
    "    shuffle=True,\n",
    ")\n",
    "\n",
    "val, test = train_test_split(\n",
    "    temp,\n",
    "    test_size=0.5,\n",
    "    stratify=temp['label'],\n",
    "    shuffle=True\n",
    ")\n",
    "\n",
    "label_map = {'ham':0, 'spam':1}\n",
    "\n",
    "train['label'] = train['label'].map(label_map)\n",
    "val['label'] = val['label'].map(label_map)\n",
    "test['label']  = test['label'].map(label_map)\n",
    "train = train.reset_index(drop=True)\n",
    "val = val.reset_index(drop=True)\n",
    "test = test.reset_index(drop=True)"
   ]
  },
  {
   "cell_type": "code",
   "execution_count": 75,
   "id": "48fa1798",
   "metadata": {},
   "outputs": [],
   "source": [
    "train.to_csv(\"filtered_data/train/spam_ham_train.csv\", index=False)\n",
    "val.to_csv(\"filtered_data/validation/spam_ham_val.csv\", index=False)\n",
    "test.to_csv(\"filtered_data/test/spam_ham_test.csv\", index=False)"
   ]
  },
  {
   "cell_type": "markdown",
   "id": "bd550e11",
   "metadata": {},
   "source": [
    "---"
   ]
  },
  {
   "cell_type": "markdown",
   "id": "94fb18d0",
   "metadata": {},
   "source": [
    "## Classifier"
   ]
  },
  {
   "cell_type": "code",
   "execution_count": null,
   "id": "8447c5f3",
   "metadata": {},
   "outputs": [],
   "source": []
  },
  {
   "cell_type": "code",
   "execution_count": null,
   "id": "54a09c26",
   "metadata": {},
   "outputs": [],
   "source": []
  }
 ],
 "metadata": {
  "kernelspec": {
   "display_name": ".venv",
   "language": "python",
   "name": "python3"
  },
  "language_info": {
   "codemirror_mode": {
    "name": "ipython",
    "version": 3
   },
   "file_extension": ".py",
   "mimetype": "text/x-python",
   "name": "python",
   "nbconvert_exporter": "python",
   "pygments_lexer": "ipython3",
   "version": "3.12.4"
  }
 },
 "nbformat": 4,
 "nbformat_minor": 5
}
