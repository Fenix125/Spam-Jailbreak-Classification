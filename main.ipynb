{
 "cells": [
  {
   "cell_type": "markdown",
   "metadata": {},
   "source": [
    "# Spam/Jailbreak Classification"
   ]
  },
  {
   "cell_type": "markdown",
   "metadata": {},
   "source": [
    "---"
   ]
  },
  {
   "cell_type": "markdown",
   "metadata": {},
   "source": [
    "## Dependencies"
   ]
  },
  {
   "cell_type": "markdown",
   "metadata": {},
   "source": [
    "### Modules"
   ]
  },
  {
   "cell_type": "code",
   "execution_count": null,
   "metadata": {
    "trusted": true
   },
   "outputs": [],
   "source": [
    "%pip install fastai"
   ]
  },
  {
   "cell_type": "code",
   "execution_count": null,
   "metadata": {
    "trusted": true
   },
   "outputs": [],
   "source": [
    "%pip install torch"
   ]
  },
  {
   "cell_type": "code",
   "execution_count": null,
   "metadata": {
    "trusted": true
   },
   "outputs": [],
   "source": [
    "%pip install transformers"
   ]
  },
  {
   "cell_type": "code",
   "execution_count": null,
   "metadata": {
    "trusted": true
   },
   "outputs": [],
   "source": [
    "%pip install datasets"
   ]
  },
  {
   "cell_type": "code",
   "execution_count": null,
   "metadata": {
    "trusted": true
   },
   "outputs": [],
   "source": [
    "%pip install tokenizers"
   ]
  },
  {
   "cell_type": "code",
   "execution_count": null,
   "metadata": {
    "trusted": true
   },
   "outputs": [],
   "source": [
    "%pip install scikit-learn"
   ]
  },
  {
   "cell_type": "code",
   "execution_count": null,
   "metadata": {
    "trusted": true
   },
   "outputs": [],
   "source": [
    "%pip install matplotlib"
   ]
  },
  {
   "cell_type": "code",
   "execution_count": null,
   "metadata": {
    "trusted": true
   },
   "outputs": [],
   "source": [
    "%pip install spacy"
   ]
  },
  {
   "cell_type": "code",
   "execution_count": null,
   "metadata": {
    "trusted": true
   },
   "outputs": [],
   "source": [
    "%pip install evaluate"
   ]
  },
  {
   "cell_type": "code",
   "execution_count": null,
   "metadata": {
    "trusted": true
   },
   "outputs": [],
   "source": [
    "%pip install accelerate"
   ]
  },
  {
   "cell_type": "markdown",
   "metadata": {},
   "source": [
    "### Imports"
   ]
  },
  {
   "cell_type": "code",
   "execution_count": 54,
   "metadata": {
    "execution": {
     "iopub.execute_input": "2025-08-07T11:54:24.571092Z",
     "iopub.status.busy": "2025-08-07T11:54:24.570813Z",
     "iopub.status.idle": "2025-08-07T11:54:24.588915Z",
     "shell.execute_reply": "2025-08-07T11:54:24.588208Z",
     "shell.execute_reply.started": "2025-08-07T11:54:24.571069Z"
    },
    "trusted": true
   },
   "outputs": [],
   "source": [
    "import pandas as pd\n",
    "import numpy as np\n",
    "from sklearn.model_selection import train_test_split\n",
    "from fastai.text.all import *\n",
    "from transformers import AutoTokenizer, AutoModelForSequenceClassification, TrainingArguments, Trainer, DataCollatorWithPadding\n",
    "from datasets import Dataset, DatasetDict\n",
    "import numpy as np\n",
    "import evaluate\n",
    "import os"
   ]
  },
  {
   "cell_type": "markdown",
   "metadata": {},
   "source": [
    "---"
   ]
  },
  {
   "cell_type": "markdown",
   "metadata": {},
   "source": [
    "## Data"
   ]
  },
  {
   "cell_type": "markdown",
   "metadata": {},
   "source": [
    "190K+ Spam | Ham Email Dataset for Classification: https://www.kaggle.com/datasets/meruvulikith/190k-spam-ham-email-dataset-for-classification\n",
    "\n",
    "Emails for spam or ham classification (Trec 2007): https://www.kaggle.com/datasets/bayes2003/emails-for-spam-or-ham-classification-trec-2007?select=email_text.csv"
   ]
  },
  {
   "cell_type": "markdown",
   "metadata": {},
   "source": [
    "### Filtering"
   ]
  },
  {
   "cell_type": "code",
   "execution_count": null,
   "metadata": {
    "execution": {
     "iopub.execute_input": "2025-08-07T09:47:29.966000Z",
     "iopub.status.busy": "2025-08-07T09:47:29.964834Z",
     "iopub.status.idle": "2025-08-07T09:47:29.970515Z",
     "shell.execute_reply": "2025-08-07T09:47:29.969841Z",
     "shell.execute_reply.started": "2025-08-07T09:47:29.965965Z"
    },
    "trusted": true
   },
   "outputs": [],
   "source": [
    "directory = \"data\"\n",
    "try:\n",
    "    os.mkdir(directory)\n",
    "    print(f\"Directory '{directory}' created successfully.\")\n",
    "except FileExistsError:\n",
    "    print(f\"Directory '{directory}' already exists.\")"
   ]
  },
  {
   "cell_type": "markdown",
   "metadata": {},
   "source": [
    "Download 2 datasets into \"data\" folder"
   ]
  },
  {
   "cell_type": "code",
   "execution_count": null,
   "metadata": {
    "execution": {
     "iopub.execute_input": "2025-08-07T09:51:45.554744Z",
     "iopub.status.busy": "2025-08-07T09:51:45.553889Z",
     "iopub.status.idle": "2025-08-07T09:51:50.574335Z",
     "shell.execute_reply": "2025-08-07T09:51:50.573566Z",
     "shell.execute_reply.started": "2025-08-07T09:51:45.554716Z"
    },
    "trusted": true
   },
   "outputs": [],
   "source": [
    "# df_a = pd.read_csv(\"data/email_text.csv\")\n",
    "# df_b = pd.read_csv(\"data/spam_Emails_data.csv\")\n",
    "\n",
    "#kaggle \n",
    "df_a = pd.read_csv(\"/kaggle/input/emails-for-spam-or-ham-classification-trec-2007/email_text.csv\")\n",
    "df_b = pd.read_csv(\"/kaggle/input/190k-spam-ham-email-dataset-for-classification/spam_Emails_data.csv\")"
   ]
  },
  {
   "cell_type": "code",
   "execution_count": null,
   "metadata": {
    "execution": {
     "iopub.execute_input": "2025-08-07T09:51:53.420862Z",
     "iopub.status.busy": "2025-08-07T09:51:53.420583Z",
     "iopub.status.idle": "2025-08-07T09:51:53.441829Z",
     "shell.execute_reply": "2025-08-07T09:51:53.441033Z",
     "shell.execute_reply.started": "2025-08-07T09:51:53.420841Z"
    },
    "trusted": true
   },
   "outputs": [],
   "source": [
    "df_b['label'] = df_b['label'].map({\"Spam\": 1, \"Ham\": 0})"
   ]
  },
  {
   "cell_type": "code",
   "execution_count": null,
   "metadata": {
    "execution": {
     "iopub.execute_input": "2025-08-07T09:51:57.424756Z",
     "iopub.status.busy": "2025-08-07T09:51:57.424162Z",
     "iopub.status.idle": "2025-08-07T09:51:57.433761Z",
     "shell.execute_reply": "2025-08-07T09:51:57.433165Z",
     "shell.execute_reply.started": "2025-08-07T09:51:57.424730Z"
    },
    "trusted": true
   },
   "outputs": [],
   "source": [
    "df_b['label'].unique()"
   ]
  },
  {
   "cell_type": "code",
   "execution_count": null,
   "metadata": {
    "execution": {
     "iopub.execute_input": "2025-08-07T09:51:58.910977Z",
     "iopub.status.busy": "2025-08-07T09:51:58.910062Z",
     "iopub.status.idle": "2025-08-07T09:51:58.950006Z",
     "shell.execute_reply": "2025-08-07T09:51:58.949347Z",
     "shell.execute_reply.started": "2025-08-07T09:51:58.910940Z"
    },
    "trusted": true
   },
   "outputs": [],
   "source": [
    "merged = pd.concat([df_a[['label', 'text']], df_b[['label', 'text']]], ignore_index=True)\n",
    "merged"
   ]
  },
  {
   "cell_type": "code",
   "execution_count": null,
   "metadata": {
    "execution": {
     "iopub.execute_input": "2025-08-07T09:52:02.575734Z",
     "iopub.status.busy": "2025-08-07T09:52:02.575470Z",
     "iopub.status.idle": "2025-08-07T09:52:02.581885Z",
     "shell.execute_reply": "2025-08-07T09:52:02.581193Z",
     "shell.execute_reply.started": "2025-08-07T09:52:02.575715Z"
    },
    "trusted": true
   },
   "outputs": [],
   "source": [
    "merged['label'].unique()"
   ]
  },
  {
   "cell_type": "code",
   "execution_count": null,
   "metadata": {
    "execution": {
     "iopub.execute_input": "2025-08-07T09:52:03.707933Z",
     "iopub.status.busy": "2025-08-07T09:52:03.707678Z",
     "iopub.status.idle": "2025-08-07T09:52:03.949998Z",
     "shell.execute_reply": "2025-08-07T09:52:03.949284Z",
     "shell.execute_reply.started": "2025-08-07T09:52:03.707914Z"
    },
    "trusted": true
   },
   "outputs": [],
   "source": [
    "merged['text'].unique().shape"
   ]
  },
  {
   "cell_type": "code",
   "execution_count": null,
   "metadata": {
    "execution": {
     "iopub.execute_input": "2025-08-07T09:52:05.784019Z",
     "iopub.status.busy": "2025-08-07T09:52:05.783456Z",
     "iopub.status.idle": "2025-08-07T09:52:05.905900Z",
     "shell.execute_reply": "2025-08-07T09:52:05.905341Z",
     "shell.execute_reply.started": "2025-08-07T09:52:05.783996Z"
    },
    "trusted": true
   },
   "outputs": [],
   "source": [
    "merged = merged.drop_duplicates().reset_index(drop=True)"
   ]
  },
  {
   "cell_type": "code",
   "execution_count": null,
   "metadata": {
    "execution": {
     "iopub.execute_input": "2025-08-07T09:52:07.489726Z",
     "iopub.status.busy": "2025-08-07T09:52:07.489044Z",
     "iopub.status.idle": "2025-08-07T09:52:07.577985Z",
     "shell.execute_reply": "2025-08-07T09:52:07.577451Z",
     "shell.execute_reply.started": "2025-08-07T09:52:07.489702Z"
    },
    "trusted": true
   },
   "outputs": [],
   "source": [
    "merged = merged.dropna(subset=['text']).reset_index(drop=True)\n",
    "merged = merged.drop_duplicates(subset=['text']).reset_index(drop=True)"
   ]
  },
  {
   "cell_type": "code",
   "execution_count": null,
   "metadata": {
    "execution": {
     "iopub.execute_input": "2025-08-07T09:52:09.305406Z",
     "iopub.status.busy": "2025-08-07T09:52:09.304723Z",
     "iopub.status.idle": "2025-08-07T09:52:18.363132Z",
     "shell.execute_reply": "2025-08-07T09:52:18.362206Z",
     "shell.execute_reply.started": "2025-08-07T09:52:09.305380Z"
    },
    "trusted": true
   },
   "outputs": [],
   "source": [
    "merged.to_csv(\"data/merged_spam_ham.csv\", index=False)"
   ]
  },
  {
   "cell_type": "markdown",
   "metadata": {},
   "source": [
    "### Splitting"
   ]
  },
  {
   "cell_type": "code",
   "execution_count": 61,
   "metadata": {
    "execution": {
     "iopub.execute_input": "2025-08-07T11:54:56.815006Z",
     "iopub.status.busy": "2025-08-07T11:54:56.814752Z",
     "iopub.status.idle": "2025-08-07T11:54:56.974703Z",
     "shell.execute_reply": "2025-08-07T11:54:56.974112Z",
     "shell.execute_reply.started": "2025-08-07T11:54:56.814987Z"
    },
    "trusted": true
   },
   "outputs": [],
   "source": [
    "train_val, test = train_test_split(\n",
    "    merged,\n",
    "    train_size=0.9,\n",
    "    stratify=merged['label'],  \n",
    "    shuffle=True,\n",
    "    random_state=42\n",
    ")\n",
    "train, val = train_test_split(\n",
    "    train_val,\n",
    "    train_size=0.8,\n",
    "    stratify=train_val['label'],  \n",
    "    shuffle=True,\n",
    "    random_state=42\n",
    ")\n",
    "\n",
    "train = train.reset_index(drop=True) #72%\n",
    "val = val.reset_index(drop=True) #18%\n",
    "test = test.reset_index(drop=True) #10%\n"
   ]
  },
  {
   "cell_type": "code",
   "execution_count": null,
   "metadata": {
    "execution": {
     "iopub.execute_input": "2025-08-07T09:52:35.003325Z",
     "iopub.status.busy": "2025-08-07T09:52:35.002818Z",
     "iopub.status.idle": "2025-08-07T09:52:35.008112Z",
     "shell.execute_reply": "2025-08-07T09:52:35.007484Z",
     "shell.execute_reply.started": "2025-08-07T09:52:35.003276Z"
    },
    "trusted": true
   },
   "outputs": [],
   "source": [
    "directory = \"filtered_data\"\n",
    "try:\n",
    "    os.mkdir(directory)\n",
    "    print(f\"Directory '{directory}' created successfully.\")\n",
    "except FileExistsError:\n",
    "    print(f\"Directory '{directory}' already exists.\")"
   ]
  },
  {
   "cell_type": "code",
   "execution_count": null,
   "metadata": {
    "execution": {
     "iopub.execute_input": "2025-08-07T09:52:37.305096Z",
     "iopub.status.busy": "2025-08-07T09:52:37.304824Z",
     "iopub.status.idle": "2025-08-07T09:52:46.458935Z",
     "shell.execute_reply": "2025-08-07T09:52:46.458400Z",
     "shell.execute_reply.started": "2025-08-07T09:52:37.305077Z"
    },
    "trusted": true
   },
   "outputs": [],
   "source": [
    "train.to_csv(\"filtered_data/spam_ham_train.csv\", index=False)\n",
    "val.to_csv(\"filtered_data/spam_ham_val.csv\", index=False)\n",
    "test.to_csv(\"filtered_data/spam_ham_test.csv\", index=False)"
   ]
  },
  {
   "cell_type": "markdown",
   "metadata": {},
   "source": [
    "---"
   ]
  },
  {
   "cell_type": "code",
   "execution_count": null,
   "metadata": {
    "execution": {
     "iopub.execute_input": "2025-08-07T09:52:53.486636Z",
     "iopub.status.busy": "2025-08-07T09:52:53.485896Z",
     "iopub.status.idle": "2025-08-07T09:52:57.461280Z",
     "shell.execute_reply": "2025-08-07T09:52:57.460719Z",
     "shell.execute_reply.started": "2025-08-07T09:52:53.486608Z"
    },
    "trusted": true
   },
   "outputs": [],
   "source": [
    "train = pd.read_csv(\"filtered_data/spam_ham_train.csv\")\n",
    "val = pd.read_csv(\"filtered_data/spam_ham_val.csv\")\n",
    "test = pd.read_csv(\"filtered_data/spam_ham_test.csv\")"
   ]
  },
  {
   "cell_type": "markdown",
   "metadata": {},
   "source": [
    "## Classifier"
   ]
  },
  {
   "cell_type": "code",
   "execution_count": null,
   "metadata": {
    "execution": {
     "iopub.execute_input": "2025-08-07T09:53:05.475123Z",
     "iopub.status.busy": "2025-08-07T09:53:05.474273Z",
     "iopub.status.idle": "2025-08-07T09:53:13.137965Z",
     "shell.execute_reply": "2025-08-07T09:53:13.137471Z",
     "shell.execute_reply.started": "2025-08-07T09:53:05.475089Z"
    },
    "trusted": true
   },
   "outputs": [],
   "source": [
    "model_name = \"bert-base-uncased\" #test cased/uncased\n",
    "tokenizer = AutoTokenizer.from_pretrained(model_name)\n",
    "model = AutoModelForSequenceClassification.from_pretrained(model_name, num_labels=2)"
   ]
  },
  {
   "cell_type": "code",
   "execution_count": null,
   "metadata": {
    "execution": {
     "iopub.execute_input": "2025-08-07T09:53:15.610176Z",
     "iopub.status.busy": "2025-08-07T09:53:15.609611Z",
     "iopub.status.idle": "2025-08-07T09:53:15.615143Z",
     "shell.execute_reply": "2025-08-07T09:53:15.614447Z",
     "shell.execute_reply.started": "2025-08-07T09:53:15.610154Z"
    },
    "trusted": true
   },
   "outputs": [],
   "source": [
    "for name, param in model.base_model.named_parameters():\n",
    "    param.requires_grad = False\n",
    "\n",
    "for name, param in model.base_model.named_parameters():\n",
    "    if \"pooler\" in name:\n",
    "        param.requires_grad = True"
   ]
  },
  {
   "cell_type": "code",
   "execution_count": 64,
   "metadata": {
    "execution": {
     "iopub.execute_input": "2025-08-07T11:55:36.249315Z",
     "iopub.status.busy": "2025-08-07T11:55:36.248623Z",
     "iopub.status.idle": "2025-08-07T11:55:36.268971Z",
     "shell.execute_reply": "2025-08-07T11:55:36.268422Z",
     "shell.execute_reply.started": "2025-08-07T11:55:36.249275Z"
    },
    "trusted": true
   },
   "outputs": [],
   "source": [
    "reduced_train = train.sample(n=20000, random_state=42)\n",
    "reduced_val = val.sample(n=20000, random_state=42)\n",
    "reduced_test = test.sample(n=19000, random_state=42)"
   ]
  },
  {
   "cell_type": "code",
   "execution_count": 65,
   "metadata": {
    "execution": {
     "iopub.execute_input": "2025-08-07T11:55:37.810562Z",
     "iopub.status.busy": "2025-08-07T11:55:37.809962Z",
     "iopub.status.idle": "2025-08-07T11:55:38.814827Z",
     "shell.execute_reply": "2025-08-07T11:55:38.814262Z",
     "shell.execute_reply.started": "2025-08-07T11:55:37.810534Z"
    },
    "trusted": true
   },
   "outputs": [],
   "source": [
    "train_ds = Dataset.from_pandas(reduced_train)\n",
    "val_ds = Dataset.from_pandas(reduced_val)\n",
    "test_ds = Dataset.from_pandas(reduced_test)"
   ]
  },
  {
   "cell_type": "code",
   "execution_count": 66,
   "metadata": {
    "execution": {
     "iopub.execute_input": "2025-08-07T11:55:40.547055Z",
     "iopub.status.busy": "2025-08-07T11:55:40.546368Z",
     "iopub.status.idle": "2025-08-07T11:55:40.550777Z",
     "shell.execute_reply": "2025-08-07T11:55:40.550009Z",
     "shell.execute_reply.started": "2025-08-07T11:55:40.547030Z"
    },
    "trusted": true
   },
   "outputs": [],
   "source": [
    "dataset_dict = DatasetDict({\"train\": train_ds, \"val\": val_ds, \"test\": test_ds})"
   ]
  },
  {
   "cell_type": "code",
   "execution_count": 67,
   "metadata": {
    "execution": {
     "iopub.execute_input": "2025-08-07T11:55:42.242163Z",
     "iopub.status.busy": "2025-08-07T11:55:42.241593Z",
     "iopub.status.idle": "2025-08-07T11:55:42.245902Z",
     "shell.execute_reply": "2025-08-07T11:55:42.245179Z",
     "shell.execute_reply.started": "2025-08-07T11:55:42.242137Z"
    },
    "trusted": true
   },
   "outputs": [],
   "source": [
    "def preprocess_function(examples):\n",
    "    return tokenizer(examples[\"text\"], truncation=True)"
   ]
  },
  {
   "cell_type": "code",
   "execution_count": null,
   "metadata": {
    "execution": {
     "iopub.execute_input": "2025-08-07T11:55:44.202237Z",
     "iopub.status.busy": "2025-08-07T11:55:44.201966Z",
     "iopub.status.idle": "2025-08-07T11:56:31.397518Z",
     "shell.execute_reply": "2025-08-07T11:56:31.396748Z",
     "shell.execute_reply.started": "2025-08-07T11:55:44.202217Z"
    },
    "trusted": true
   },
   "outputs": [],
   "source": [
    "tokenized_data = dataset_dict.map(preprocess_function, batched=True)\n",
    "data_collator = DataCollatorWithPadding(tokenizer=tokenizer)"
   ]
  },
  {
   "cell_type": "code",
   "execution_count": 69,
   "metadata": {
    "execution": {
     "iopub.execute_input": "2025-08-07T11:56:36.865499Z",
     "iopub.status.busy": "2025-08-07T11:56:36.864955Z",
     "iopub.status.idle": "2025-08-07T11:56:37.962657Z",
     "shell.execute_reply": "2025-08-07T11:56:37.962055Z",
     "shell.execute_reply.started": "2025-08-07T11:56:36.865476Z"
    },
    "trusted": true
   },
   "outputs": [],
   "source": [
    "accuracy = evaluate.load(\"accuracy\")"
   ]
  },
  {
   "cell_type": "code",
   "execution_count": 70,
   "metadata": {
    "execution": {
     "iopub.execute_input": "2025-08-07T11:56:39.634973Z",
     "iopub.status.busy": "2025-08-07T11:56:39.634406Z",
     "iopub.status.idle": "2025-08-07T11:56:39.639105Z",
     "shell.execute_reply": "2025-08-07T11:56:39.638355Z",
     "shell.execute_reply.started": "2025-08-07T11:56:39.634950Z"
    },
    "trusted": true
   },
   "outputs": [],
   "source": [
    "def compute_metrics(eval_pred):\n",
    "    logits, labels = eval_pred\n",
    "    predictions = np.argmax(logits, axis=1)\n",
    "    accuracy_res = accuracy.compute(predictions=predictions, references=labels)\n",
    "    return {\"accuracy\" : accuracy_res[\"accuracy\"]}"
   ]
  },
  {
   "cell_type": "code",
   "execution_count": 74,
   "metadata": {
    "execution": {
     "iopub.execute_input": "2025-08-07T11:57:06.751965Z",
     "iopub.status.busy": "2025-08-07T11:57:06.751687Z",
     "iopub.status.idle": "2025-08-07T11:57:06.779406Z",
     "shell.execute_reply": "2025-08-07T11:57:06.778882Z",
     "shell.execute_reply.started": "2025-08-07T11:57:06.751944Z"
    },
    "trusted": true
   },
   "outputs": [],
   "source": [
    "lr = 1e-4\n",
    "batch_sz = 32\n",
    "epoch = 3\n",
    "wd = 0.01\n",
    "\n",
    "training_args = TrainingArguments(\n",
    "    output_dir=\"bert-spam-ham-classifier-20000\",\n",
    "    per_device_train_batch_size=batch_sz,\n",
    "    per_device_eval_batch_size=batch_sz,\n",
    "    num_train_epochs=epoch,\n",
    "    eval_strategy=\"epoch\",\n",
    "    logging_strategy=\"epoch\",\n",
    "    save_strategy=\"epoch\",\n",
    "    load_best_model_at_end=True,\n",
    "\n",
    "    learning_rate= lr,\n",
    "    weight_decay= wd,\n",
    "    report_to=\"none\"\n",
    ")"
   ]
  },
  {
   "cell_type": "code",
   "execution_count": 75,
   "metadata": {
    "execution": {
     "iopub.execute_input": "2025-08-07T11:57:08.539939Z",
     "iopub.status.busy": "2025-08-07T11:57:08.539674Z",
     "iopub.status.idle": "2025-08-07T11:57:08.553881Z",
     "shell.execute_reply": "2025-08-07T11:57:08.553204Z",
     "shell.execute_reply.started": "2025-08-07T11:57:08.539920Z"
    },
    "trusted": true
   },
   "outputs": [
    {
     "name": "stderr",
     "output_type": "stream",
     "text": [
      "/tmp/ipykernel_36/1459056268.py:1: FutureWarning: `tokenizer` is deprecated and will be removed in version 5.0.0 for `Trainer.__init__`. Use `processing_class` instead.\n",
      "  trainer = Trainer(\n"
     ]
    }
   ],
   "source": [
    "trainer = Trainer(\n",
    "    model=model,\n",
    "    args=training_args,\n",
    "    train_dataset=tokenized_data[\"train\"],\n",
    "    eval_dataset=tokenized_data[\"val\"],\n",
    "    tokenizer=tokenizer,\n",
    "    data_collator=data_collator,\n",
    "    compute_metrics=compute_metrics\n",
    ")"
   ]
  },
  {
   "cell_type": "code",
   "execution_count": 76,
   "metadata": {
    "execution": {
     "iopub.execute_input": "2025-08-07T11:57:10.226263Z",
     "iopub.status.busy": "2025-08-07T11:57:10.225579Z",
     "iopub.status.idle": "2025-08-07T12:29:32.876366Z",
     "shell.execute_reply": "2025-08-07T12:29:32.875771Z",
     "shell.execute_reply.started": "2025-08-07T11:57:10.226242Z"
    },
    "trusted": true
   },
   "outputs": [
    {
     "data": {
      "text/html": [
       "\n",
       "    <div>\n",
       "      \n",
       "      <progress value='1875' max='1875' style='width:300px; height:20px; vertical-align: middle;'></progress>\n",
       "      [1875/1875 32:21, Epoch 3/3]\n",
       "    </div>\n",
       "    <table border=\"1\" class=\"dataframe\">\n",
       "  <thead>\n",
       " <tr style=\"text-align: left;\">\n",
       "      <th>Epoch</th>\n",
       "      <th>Training Loss</th>\n",
       "      <th>Validation Loss</th>\n",
       "      <th>Accuracy</th>\n",
       "    </tr>\n",
       "  </thead>\n",
       "  <tbody>\n",
       "    <tr>\n",
       "      <td>1</td>\n",
       "      <td>0.231100</td>\n",
       "      <td>0.189207</td>\n",
       "      <td>0.926900</td>\n",
       "    </tr>\n",
       "    <tr>\n",
       "      <td>2</td>\n",
       "      <td>0.217200</td>\n",
       "      <td>0.180918</td>\n",
       "      <td>0.928900</td>\n",
       "    </tr>\n",
       "    <tr>\n",
       "      <td>3</td>\n",
       "      <td>0.209900</td>\n",
       "      <td>0.177861</td>\n",
       "      <td>0.929650</td>\n",
       "    </tr>\n",
       "  </tbody>\n",
       "</table><p>"
      ],
      "text/plain": [
       "<IPython.core.display.HTML object>"
      ]
     },
     "metadata": {},
     "output_type": "display_data"
    },
    {
     "data": {
      "text/plain": [
       "TrainOutput(global_step=1875, training_loss=0.21939038899739582, metrics={'train_runtime': 1942.2148, 'train_samples_per_second': 30.893, 'train_steps_per_second': 0.965, 'total_flos': 1.578460776648e+16, 'train_loss': 0.21939038899739582, 'epoch': 3.0})"
      ]
     },
     "execution_count": 76,
     "metadata": {},
     "output_type": "execute_result"
    }
   ],
   "source": [
    "trainer.train()"
   ]
  },
  {
   "cell_type": "code",
   "execution_count": null,
   "metadata": {
    "trusted": true
   },
   "outputs": [],
   "source": [
    "!pip3 install tqdm==4.62.1"
   ]
  },
  {
   "cell_type": "markdown",
   "metadata": {},
   "source": [
    "### Testing"
   ]
  },
  {
   "cell_type": "code",
   "execution_count": 77,
   "metadata": {
    "execution": {
     "iopub.execute_input": "2025-08-07T12:43:43.123690Z",
     "iopub.status.busy": "2025-08-07T12:43:43.123378Z",
     "iopub.status.idle": "2025-08-07T12:48:41.725682Z",
     "shell.execute_reply": "2025-08-07T12:48:41.725036Z",
     "shell.execute_reply.started": "2025-08-07T12:43:43.123670Z"
    },
    "trusted": true
   },
   "outputs": [
    {
     "data": {
      "text/html": [],
      "text/plain": [
       "<IPython.core.display.HTML object>"
      ]
     },
     "metadata": {},
     "output_type": "display_data"
    }
   ],
   "source": [
    "test_results = trainer.predict(tokenized_data[\"test\"])"
   ]
  },
  {
   "cell_type": "code",
   "execution_count": 78,
   "metadata": {
    "execution": {
     "iopub.execute_input": "2025-08-07T12:50:41.646743Z",
     "iopub.status.busy": "2025-08-07T12:50:41.646007Z",
     "iopub.status.idle": "2025-08-07T12:50:41.651265Z",
     "shell.execute_reply": "2025-08-07T12:50:41.650562Z",
     "shell.execute_reply.started": "2025-08-07T12:50:41.646717Z"
    },
    "trusted": true
   },
   "outputs": [
    {
     "data": {
      "text/plain": [
       "{'test_loss': 0.18524383008480072,\n",
       " 'test_accuracy': 0.9298421052631579,\n",
       " 'test_runtime': 298.5916,\n",
       " 'test_samples_per_second': 63.632,\n",
       " 'test_steps_per_second': 1.989}"
      ]
     },
     "execution_count": 78,
     "metadata": {},
     "output_type": "execute_result"
    }
   ],
   "source": [
    "test_results.metrics"
   ]
  },
  {
   "cell_type": "markdown",
   "metadata": {},
   "source": [
    "### Testing learning rate"
   ]
  },
  {
   "cell_type": "code",
   "execution_count": null,
   "metadata": {
    "execution": {
     "iopub.execute_input": "2025-08-07T10:29:33.399756Z",
     "iopub.status.busy": "2025-08-07T10:29:33.398915Z",
     "iopub.status.idle": "2025-08-07T10:48:40.158770Z",
     "shell.execute_reply": "2025-08-07T10:48:40.158027Z",
     "shell.execute_reply.started": "2025-08-07T10:29:33.399720Z"
    },
    "trusted": true
   },
   "outputs": [],
   "source": [
    "results = []\n",
    "\n",
    "batch_sz = 32\n",
    "epoch = 3\n",
    "learning_rates = [1e-5, 2e-5, 3e-5, 5e-5, 1e-4]\n",
    "for lr in learning_rates:\n",
    "    print(f\"Testing learning rate: {lr}\")\n",
    "    \n",
    "    training_args = TrainingArguments(\n",
    "        output_dir=\"bert-spam-ham-classifier-testing-learning-rate\",\n",
    "        per_device_train_batch_size=batch_sz,\n",
    "        per_device_eval_batch_size=batch_sz,\n",
    "        num_train_epochs=epoch,\n",
    "        eval_strategy=\"epoch\",\n",
    "        logging_strategy=\"epoch\",\n",
    "        save_strategy=\"epoch\",\n",
    "        load_best_model_at_end=True,\n",
    "    \n",
    "        learning_rate= lr,\n",
    "        report_to=\"none\"\n",
    "    )\n",
    "\n",
    "    trainer = Trainer(\n",
    "        model=model,\n",
    "        args=training_args,\n",
    "        train_dataset=tokenized_data[\"train\"],\n",
    "        eval_dataset=tokenized_data[\"val\"],\n",
    "        tokenizer=tokenizer,\n",
    "        data_collator=data_collator,\n",
    "        compute_metrics=compute_metrics\n",
    "    )\n",
    "\n",
    "    trainer.train()\n",
    "    test_results = trainer.predict(tokenized_data[\"test\"])\n",
    "\n",
    "    results.append({\"learning_rate\": lr, \n",
    "                    \"loss\": test_results.metrics[\"test_loss\"],\n",
    "                   \"accuracy\": test_results.metrics[\"test_accuracy\"]})\n",
    "\n",
    "\n",
    "\n",
    "print(\"----------------------\")\n",
    "results = sorted(results, key=lambda x: x[\"accuracy\"], reverse=True)\n",
    "print(results)\n",
    "print(\"----------------------\")"
   ]
  },
  {
   "cell_type": "markdown",
   "metadata": {},
   "source": [
    "### Testing weight decay"
   ]
  },
  {
   "cell_type": "code",
   "execution_count": null,
   "metadata": {
    "execution": {
     "iopub.execute_input": "2025-08-07T11:02:58.030271Z",
     "iopub.status.busy": "2025-08-07T11:02:58.029980Z",
     "iopub.status.idle": "2025-08-07T11:22:06.922635Z",
     "shell.execute_reply": "2025-08-07T11:22:06.922009Z",
     "shell.execute_reply.started": "2025-08-07T11:02:58.030250Z"
    },
    "trusted": true
   },
   "outputs": [],
   "source": [
    "results = []\n",
    "lr = 1e-4\n",
    "batch_sz = 32\n",
    "epoch = 3\n",
    "weight_decay_values = [0.0, 0.01, 0.05, 0.1, 0.2]\n",
    "for wd in weight_decay_values:\n",
    "    print(f\"Testing weight decay: {wd}\")\n",
    "    \n",
    "    training_args = TrainingArguments(\n",
    "        output_dir=\"bert-spam-ham-classifier-testing-learning-rate\",\n",
    "        per_device_train_batch_size=batch_sz,\n",
    "        per_device_eval_batch_size=batch_sz,\n",
    "        num_train_epochs=epoch,\n",
    "        eval_strategy=\"epoch\",\n",
    "        logging_strategy=\"epoch\",\n",
    "        save_strategy=\"epoch\",\n",
    "        load_best_model_at_end=True,\n",
    "    \n",
    "        learning_rate= lr,\n",
    "        weight_decay=wd,\n",
    "        report_to=\"none\"\n",
    "    )\n",
    "\n",
    "    trainer = Trainer(\n",
    "        model=model,\n",
    "        args=training_args,\n",
    "        train_dataset=tokenized_data[\"train\"],\n",
    "        eval_dataset=tokenized_data[\"val\"],\n",
    "        tokenizer=tokenizer,\n",
    "        data_collator=data_collator,\n",
    "        compute_metrics=compute_metrics\n",
    "    )\n",
    "\n",
    "    trainer.train()\n",
    "    test_results = trainer.predict(tokenized_data[\"test\"])\n",
    "\n",
    "    results.append({\"weight_decay\": wd, \n",
    "                    \"loss\": test_results.metrics[\"test_loss\"],\n",
    "                   \"accuracy\": test_results.metrics[\"test_accuracy\"]})"
   ]
  },
  {
   "cell_type": "code",
   "execution_count": null,
   "metadata": {
    "execution": {
     "iopub.execute_input": "2025-08-07T11:22:06.923915Z",
     "iopub.status.busy": "2025-08-07T11:22:06.923719Z",
     "iopub.status.idle": "2025-08-07T11:22:06.928233Z",
     "shell.execute_reply": "2025-08-07T11:22:06.927699Z",
     "shell.execute_reply.started": "2025-08-07T11:22:06.923899Z"
    },
    "trusted": true
   },
   "outputs": [],
   "source": [
    "print(\"----------------------\")\n",
    "results = sorted(results, key=lambda x: x[\"accuracy\"], reverse=True)\n",
    "for res in results:\n",
    "    print(res)\n",
    "print(\"----------------------\")"
   ]
  },
  {
   "cell_type": "code",
   "execution_count": null,
   "metadata": {
    "trusted": true
   },
   "outputs": [],
   "source": []
  }
 ],
 "metadata": {
  "kaggle": {
   "accelerator": "none",
   "dataSources": [
    {
     "datasetId": 3954721,
     "sourceId": 6883298,
     "sourceType": "datasetVersion"
    },
    {
     "datasetId": 4598363,
     "sourceId": 7843142,
     "sourceType": "datasetVersion"
    }
   ],
   "isGpuEnabled": false,
   "isInternetEnabled": true,
   "language": "python",
   "sourceType": "notebook"
  },
  "kernelspec": {
   "display_name": "Python 3",
   "language": "python",
   "name": "python3"
  },
  "language_info": {
   "codemirror_mode": {
    "name": "ipython",
    "version": 3
   },
   "file_extension": ".py",
   "mimetype": "text/x-python",
   "name": "python",
   "nbconvert_exporter": "python",
   "pygments_lexer": "ipython3",
   "version": "3.11.13"
  }
 },
 "nbformat": 4,
 "nbformat_minor": 4
}
