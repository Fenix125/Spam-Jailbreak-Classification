{
 "cells": [
  {
   "cell_type": "markdown",
   "id": "5042ca72",
   "metadata": {},
   "source": [
    "# Wrapping the Fine-Tuned Model into an Agentic pipeline (LangChain)"
   ]
  },
  {
   "cell_type": "markdown",
   "id": "fa26cdff",
   "metadata": {},
   "source": [
    "## Dependencies"
   ]
  },
  {
   "cell_type": "markdown",
   "id": "bf730d77",
   "metadata": {},
   "source": [
    "### Modules "
   ]
  },
  {
   "cell_type": "code",
   "execution_count": null,
   "id": "53bd0d66",
   "metadata": {
    "trusted": true
   },
   "outputs": [],
   "source": [
    "%pip install langchain"
   ]
  },
  {
   "cell_type": "code",
   "execution_count": null,
   "id": "d42ee8cd",
   "metadata": {
    "trusted": true
   },
   "outputs": [],
   "source": [
    "%pip install langchain_community"
   ]
  },
  {
   "cell_type": "code",
   "execution_count": null,
   "id": "cbc90810-3530-4275-bb27-c6b72127f0eb",
   "metadata": {
    "trusted": true
   },
   "outputs": [],
   "source": [
    "%pip install langchain-huggingface"
   ]
  },
  {
   "cell_type": "code",
   "execution_count": null,
   "id": "fcbb69bb-aacd-4802-902f-a234a7674dd2",
   "metadata": {
    "trusted": true
   },
   "outputs": [],
   "source": [
    "%pip install -U langchain-huggingface transformers"
   ]
  },
  {
   "cell_type": "code",
   "execution_count": null,
   "id": "5dcf2276-0228-47d8-ad18-968ecb1a2c1d",
   "metadata": {
    "trusted": true
   },
   "outputs": [],
   "source": [
    "%pip install llama_index"
   ]
  },
  {
   "cell_type": "code",
   "execution_count": null,
   "id": "7685bc2e-82a7-4e3a-bd2b-589fd8cba94e",
   "metadata": {
    "trusted": true
   },
   "outputs": [],
   "source": [
    "%pip install llama-index-embeddings-huggingface"
   ]
  },
  {
   "cell_type": "code",
   "execution_count": null,
   "id": "3939becb",
   "metadata": {},
   "outputs": [],
   "source": [
    "%pip install langchain-openai"
   ]
  },
  {
   "cell_type": "code",
   "execution_count": null,
   "id": "8b74dc78",
   "metadata": {},
   "outputs": [],
   "source": [
    "%pip install python-dotenv"
   ]
  },
  {
   "cell_type": "markdown",
   "id": "287a16e1",
   "metadata": {
    "_kg_hide-input": true
   },
   "source": [
    "### Imports"
   ]
  },
  {
   "cell_type": "code",
   "execution_count": 1,
   "id": "6d55ed53",
   "metadata": {
    "execution": {
     "iopub.execute_input": "2025-08-11T14:22:04.370689Z",
     "iopub.status.busy": "2025-08-11T14:22:04.369954Z",
     "iopub.status.idle": "2025-08-11T14:22:04.375377Z",
     "shell.execute_reply": "2025-08-11T14:22:04.374816Z",
     "shell.execute_reply.started": "2025-08-11T14:22:04.370654Z"
    },
    "trusted": true
   },
   "outputs": [
    {
     "name": "stderr",
     "output_type": "stream",
     "text": [
      "/Users/admin/Desktop/Spam-Jailbreak-Classification/.venv/lib/python3.12/site-packages/tqdm/auto.py:21: TqdmWarning: IProgress not found. Please update jupyter and ipywidgets. See https://ipywidgets.readthedocs.io/en/stable/user_install.html\n",
      "  from .autonotebook import tqdm as notebook_tqdm\n"
     ]
    }
   ],
   "source": [
    "from langchain.tools import tool\n",
    "from langchain_openai import ChatOpenAI\n",
    "from langchain.agents import AgentExecutor, create_tool_calling_agent\n",
    "from langchain_core.prompts import ChatPromptTemplate, MessagesPlaceholder\n",
    "from transformers import pipeline, AutoTokenizer, AutoModelForSequenceClassification\n",
    "import torch\n",
    "from langchain.memory import ConversationBufferWindowMemory\n",
    "\n",
    "from llama_index.core import VectorStoreIndex, SimpleDirectoryReader, Settings\n",
    "from llama_index.embeddings.huggingface import HuggingFaceEmbedding\n",
    "from llama_index.core.node_parser import SentenceSplitter\n",
    "from pydantic import BaseModel, Field\n",
    "\n",
    "import os\n",
    "from dotenv import load_dotenv"
   ]
  },
  {
   "cell_type": "code",
   "execution_count": 2,
   "id": "cf3325c3-fe91-41f4-a30e-d9617840c6fe",
   "metadata": {
    "execution": {
     "iopub.execute_input": "2025-08-11T11:59:58.400347Z",
     "iopub.status.busy": "2025-08-11T11:59:58.399428Z",
     "iopub.status.idle": "2025-08-11T11:59:58.403820Z",
     "shell.execute_reply": "2025-08-11T11:59:58.403046Z",
     "shell.execute_reply.started": "2025-08-11T11:59:58.400325Z"
    },
    "trusted": true
   },
   "outputs": [],
   "source": [
    "use_gpu = torch.cuda.is_available()\n",
    "device = 0 if use_gpu else -1"
   ]
  },
  {
   "cell_type": "markdown",
   "id": "1e01e604",
   "metadata": {},
   "source": [
    "## Agent"
   ]
  },
  {
   "cell_type": "markdown",
   "id": "713dc518-4fba-4b27-8c34-50e257e0444e",
   "metadata": {},
   "source": [
    "### Loading models"
   ]
  },
  {
   "cell_type": "code",
   "execution_count": null,
   "id": "95c73365",
   "metadata": {},
   "outputs": [],
   "source": [
    "load_dotenv()"
   ]
  },
  {
   "cell_type": "markdown",
   "id": "07e9b7fe",
   "metadata": {},
   "source": [
    "load your open api key"
   ]
  },
  {
   "cell_type": "code",
   "execution_count": null,
   "id": "521f7523",
   "metadata": {},
   "outputs": [],
   "source": [
    "open_ai_key = os.getenv(\"OPENAI_API_KEY\") "
   ]
  },
  {
   "cell_type": "code",
   "execution_count": null,
   "id": "393737d0",
   "metadata": {
    "execution": {
     "iopub.execute_input": "2025-08-11T12:00:01.432766Z",
     "iopub.status.busy": "2025-08-11T12:00:01.432127Z",
     "iopub.status.idle": "2025-08-11T12:00:22.050841Z",
     "shell.execute_reply": "2025-08-11T12:00:22.049662Z",
     "shell.execute_reply.started": "2025-08-11T12:00:01.432739Z"
    },
    "trusted": true
   },
   "outputs": [],
   "source": [
    "gen_model_path = \"gpt-4o-mini\"\n",
    "llm = ChatOpenAI(\n",
    "    model=gen_model_path,\n",
    "    temperature=0.2,\n",
    "    api_key=open_ai_key\n",
    ")"
   ]
  },
  {
   "cell_type": "code",
   "execution_count": null,
   "id": "8255af67",
   "metadata": {},
   "outputs": [],
   "source": [
    "classifier_path = \"Fenix125/bert-spam-ham-classifier\""
   ]
  },
  {
   "cell_type": "code",
   "execution_count": null,
   "id": "387b5dec",
   "metadata": {
    "execution": {
     "iopub.execute_input": "2025-08-11T12:00:58.085634Z",
     "iopub.status.busy": "2025-08-11T12:00:58.084845Z",
     "iopub.status.idle": "2025-08-11T12:00:58.815665Z",
     "shell.execute_reply": "2025-08-11T12:00:58.814811Z",
     "shell.execute_reply.started": "2025-08-11T12:00:58.085601Z"
    },
    "trusted": true
   },
   "outputs": [],
   "source": [
    "cls_model = AutoModelForSequenceClassification.from_pretrained(classifier_path)\n",
    "cls_tokenizer = AutoTokenizer.from_pretrained(classifier_path)"
   ]
  },
  {
   "cell_type": "code",
   "execution_count": null,
   "id": "03edfa29",
   "metadata": {
    "execution": {
     "iopub.execute_input": "2025-08-11T12:01:01.201034Z",
     "iopub.status.busy": "2025-08-11T12:01:01.200754Z",
     "iopub.status.idle": "2025-08-11T12:01:05.382597Z",
     "shell.execute_reply": "2025-08-11T12:01:05.382008Z",
     "shell.execute_reply.started": "2025-08-11T12:01:01.201013Z"
    },
    "trusted": true
   },
   "outputs": [],
   "source": [
    "clf = pipeline(\"text-classification\", \n",
    "               model=cls_model, \n",
    "               tokenizer=cls_tokenizer,\n",
    "               device=device\n",
    "              )"
   ]
  },
  {
   "cell_type": "code",
   "execution_count": null,
   "id": "fb00cb8b",
   "metadata": {
    "execution": {
     "iopub.execute_input": "2025-08-11T13:36:27.623384Z",
     "iopub.status.busy": "2025-08-11T13:36:27.622701Z",
     "iopub.status.idle": "2025-08-11T13:36:27.639703Z",
     "shell.execute_reply": "2025-08-11T13:36:27.638989Z",
     "shell.execute_reply.started": "2025-08-11T13:36:27.623354Z"
    },
    "trusted": true
   },
   "outputs": [],
   "source": [
    "clf(\"Hello\")"
   ]
  },
  {
   "cell_type": "markdown",
   "id": "dd735cdb",
   "metadata": {},
   "source": [
    "### Tools"
   ]
  },
  {
   "cell_type": "markdown",
   "id": "f43b0508-fc5d-46b1-ad15-76c1a10b050d",
   "metadata": {},
   "source": [
    "#### Classifier Tool"
   ]
  },
  {
   "cell_type": "code",
   "execution_count": null,
   "id": "7724947d",
   "metadata": {
    "execution": {
     "iopub.execute_input": "2025-08-11T12:01:18.696134Z",
     "iopub.status.busy": "2025-08-11T12:01:18.695868Z",
     "iopub.status.idle": "2025-08-11T12:01:18.703725Z",
     "shell.execute_reply": "2025-08-11T12:01:18.703086Z",
     "shell.execute_reply.started": "2025-08-11T12:01:18.696113Z"
    },
    "trusted": true
   },
   "outputs": [],
   "source": [
    "class ClassifyArgs(BaseModel):\n",
    "    text: str = Field(description=\"text needed for classification\")\n",
    "\n",
    "@tool(\"classify_spam_ham\", args_schema=ClassifyArgs)\n",
    "def classify_spam_ham(text: str) -> str:\n",
    "    \"\"\"\n",
    "    This tool classifies the given message as spam or ham.\n",
    "    \"\"\"\n",
    "    pred = clf(text)[0][\"label\"]\n",
    "    return \"spam\" if pred == \"LABEL_1\" else \"ham\""
   ]
  },
  {
   "cell_type": "markdown",
   "id": "de517318-927d-4be3-a57a-d7d32ecfd6b9",
   "metadata": {},
   "source": [
    "#### Info retrieval"
   ]
  },
  {
   "cell_type": "code",
   "execution_count": 3,
   "id": "f2d25bf8-3448-4354-8e9d-d54b483d47bf",
   "metadata": {
    "execution": {
     "iopub.execute_input": "2025-08-11T14:39:08.684930Z",
     "iopub.status.busy": "2025-08-11T14:39:08.684669Z",
     "iopub.status.idle": "2025-08-11T14:39:09.867858Z",
     "shell.execute_reply": "2025-08-11T14:39:09.867093Z",
     "shell.execute_reply.started": "2025-08-11T14:39:08.684911Z"
    },
    "trusted": true
   },
   "outputs": [],
   "source": [
    "Settings.embed_model = HuggingFaceEmbedding(\"sentence-transformers/all-MiniLM-L6-v2\")"
   ]
  },
  {
   "cell_type": "code",
   "execution_count": 4,
   "id": "ba8c3a57-9347-4dd1-83f8-f3bf788d1e40",
   "metadata": {
    "execution": {
     "iopub.execute_input": "2025-08-11T14:39:10.565825Z",
     "iopub.status.busy": "2025-08-11T14:39:10.565250Z",
     "iopub.status.idle": "2025-08-11T14:39:10.569371Z",
     "shell.execute_reply": "2025-08-11T14:39:10.568713Z",
     "shell.execute_reply.started": "2025-08-11T14:39:10.565802Z"
    },
    "trusted": true
   },
   "outputs": [],
   "source": [
    "Settings.node_parser = SentenceSplitter(chunk_size=70, chunk_overlap=10)"
   ]
  },
  {
   "cell_type": "code",
   "execution_count": 5,
   "id": "ddb0e773",
   "metadata": {},
   "outputs": [],
   "source": [
    "file_path = \"data/student_bio.txt\""
   ]
  },
  {
   "cell_type": "code",
   "execution_count": 6,
   "id": "50f3f0dd-75f7-4a31-bff8-caf3152df0fb",
   "metadata": {
    "execution": {
     "iopub.execute_input": "2025-08-11T14:56:23.585829Z",
     "iopub.status.busy": "2025-08-11T14:56:23.585189Z",
     "iopub.status.idle": "2025-08-11T14:56:23.594976Z",
     "shell.execute_reply": "2025-08-11T14:56:23.594320Z",
     "shell.execute_reply.started": "2025-08-11T14:56:23.585799Z"
    },
    "trusted": true
   },
   "outputs": [
    {
     "data": {
      "text/plain": [
       "[Document(id_='8f12e405-4b43-4ea5-8364-7828e55fbb54', embedding=None, metadata={'file_path': 'data/student_bio.txt', 'file_name': 'student_bio.txt', 'file_type': 'text/plain', 'file_size': 451, 'creation_date': '2025-08-15', 'last_modified_date': '2025-08-15'}, excluded_embed_metadata_keys=['file_name', 'file_type', 'file_size', 'creation_date', 'last_modified_date', 'last_accessed_date'], excluded_llm_metadata_keys=['file_name', 'file_type', 'file_size', 'creation_date', 'last_modified_date', 'last_accessed_date'], relationships={}, metadata_template='{key}: {value}', metadata_separator='\\n', text_resource=MediaResource(embeddings=None, data=None, text='My name is Mykhailo Ivasiuk. \\nI am from Zarichia, the Ivano-Frankivsk region of Ukraine. \\nI was born in Ibiza, Spain. My dad is Mykhailo, and my mother is Nadiya.\\nI am currently studying at the Ukrainian Catholic University in the Faculty of Applied Sciences, specializing in Computer Science.\\nI am passionate about developing problem-solving skills.\\nI am currently studying a new field for Machine Learning, which I really enjoy.\\nI like going to gym.', path=None, url=None, mimetype=None), image_resource=None, audio_resource=None, video_resource=None, text_template='{metadata_str}\\n\\n{content}')]"
      ]
     },
     "execution_count": 6,
     "metadata": {},
     "output_type": "execute_result"
    }
   ],
   "source": [
    "docs = SimpleDirectoryReader(input_files=[file_path]).load_data()\n",
    "docs"
   ]
  },
  {
   "cell_type": "code",
   "execution_count": 7,
   "id": "6c66db0b-000b-4d97-b512-ff315b5e213f",
   "metadata": {
    "execution": {
     "iopub.execute_input": "2025-08-11T14:56:27.666173Z",
     "iopub.status.busy": "2025-08-11T14:56:27.665634Z",
     "iopub.status.idle": "2025-08-11T14:56:27.681474Z",
     "shell.execute_reply": "2025-08-11T14:56:27.680731Z",
     "shell.execute_reply.started": "2025-08-11T14:56:27.666149Z"
    },
    "trusted": true
   },
   "outputs": [],
   "source": [
    "index = VectorStoreIndex.from_documents(docs)"
   ]
  },
  {
   "cell_type": "code",
   "execution_count": 8,
   "id": "dd39b15b-d589-4cc6-97f0-b2ff7b6beca9",
   "metadata": {
    "execution": {
     "iopub.execute_input": "2025-08-11T14:56:28.559252Z",
     "iopub.status.busy": "2025-08-11T14:56:28.558693Z",
     "iopub.status.idle": "2025-08-11T14:56:28.562331Z",
     "shell.execute_reply": "2025-08-11T14:56:28.561632Z",
     "shell.execute_reply.started": "2025-08-11T14:56:28.559232Z"
    },
    "trusted": true
   },
   "outputs": [],
   "source": [
    "retriever = index.as_retriever(similarity_top_k=5)"
   ]
  },
  {
   "cell_type": "code",
   "execution_count": 9,
   "id": "ef904665",
   "metadata": {},
   "outputs": [
    {
     "data": {
      "text/plain": [
       "llama_index.core.indices.vector_store.retrievers.retriever.VectorIndexRetriever"
      ]
     },
     "execution_count": 9,
     "metadata": {},
     "output_type": "execute_result"
    }
   ],
   "source": [
    "type(retriever)"
   ]
  },
  {
   "cell_type": "code",
   "execution_count": 16,
   "id": "39cb19d3-f570-4ac3-bb6a-f9284c4bf16e",
   "metadata": {
    "execution": {
     "iopub.execute_input": "2025-08-11T14:56:29.254436Z",
     "iopub.status.busy": "2025-08-11T14:56:29.253542Z",
     "iopub.status.idle": "2025-08-11T14:56:29.268300Z",
     "shell.execute_reply": "2025-08-11T14:56:29.267462Z",
     "shell.execute_reply.started": "2025-08-11T14:56:29.254407Z"
    },
    "trusted": true
   },
   "outputs": [],
   "source": [
    "nodes = retriever.retrieve(\"parents\")\n",
    "context = \".\".join(n.node.get_content() for n in nodes)"
   ]
  },
  {
   "cell_type": "code",
   "execution_count": 17,
   "id": "3b5c0d8c-43dc-43cd-80fd-1ad3ea28cf56",
   "metadata": {
    "execution": {
     "iopub.execute_input": "2025-08-11T14:56:29.903858Z",
     "iopub.status.busy": "2025-08-11T14:56:29.903364Z",
     "iopub.status.idle": "2025-08-11T14:56:29.907685Z",
     "shell.execute_reply": "2025-08-11T14:56:29.906874Z",
     "shell.execute_reply.started": "2025-08-11T14:56:29.903837Z"
    },
    "trusted": true
   },
   "outputs": [
    {
     "name": "stdout",
     "output_type": "stream",
     "text": [
      "Node ID: 5292ffee-9897-4410-90b8-b89feff8c527\n",
      "Text: My name is Mykhailo Ivasiuk.  I am from Zarichia, the Ivano-\n",
      "Frankivsk region of Ukraine.  I was born in Ibiza, Spain. My dad is\n",
      "Mykhailo, and my mother is Nadiya.\n",
      "Score:  0.135\n",
      "\n",
      "Node ID: eb636851-0f37-4447-9053-339c6c48dc75\n",
      "Text: I am currently studying at the Ukrainian Catholic University in\n",
      "the Faculty of Applied Sciences, specializing in Computer Science. I\n",
      "am passionate about developing problem-solving skills. I am currently\n",
      "studying a new field for Machine Learning, which I really enjoy. I\n",
      "like going to gym.\n",
      "Score:  0.106\n",
      "\n"
     ]
    }
   ],
   "source": [
    "for n in nodes:\n",
    "    print(n)"
   ]
  },
  {
   "cell_type": "code",
   "execution_count": null,
   "id": "ec7e39ba-21b0-4ff8-b4b6-dd9557f965ee",
   "metadata": {
    "execution": {
     "iopub.execute_input": "2025-08-11T14:56:31.155000Z",
     "iopub.status.busy": "2025-08-11T14:56:31.154738Z",
     "iopub.status.idle": "2025-08-11T14:56:31.159288Z",
     "shell.execute_reply": "2025-08-11T14:56:31.158695Z",
     "shell.execute_reply.started": "2025-08-11T14:56:31.154980Z"
    },
    "trusted": true
   },
   "outputs": [],
   "source": [
    "context"
   ]
  },
  {
   "cell_type": "code",
   "execution_count": null,
   "id": "0d40d7e6-ebca-4bf6-a4a6-dca8e609c320",
   "metadata": {
    "execution": {
     "iopub.execute_input": "2025-08-11T14:56:32.552398Z",
     "iopub.status.busy": "2025-08-11T14:56:32.551864Z",
     "iopub.status.idle": "2025-08-11T14:56:32.558479Z",
     "shell.execute_reply": "2025-08-11T14:56:32.557823Z",
     "shell.execute_reply.started": "2025-08-11T14:56:32.552373Z"
    },
    "trusted": true
   },
   "outputs": [],
   "source": [
    "class SearchInfoArgs(BaseModel):\n",
    "    query: str = Field(description=\"a query of user for looking down the information about Mykhailo\")\n",
    "\n",
    "@tool(\"search_info_about_Mykhailo_Ivasiuk\", args_schema=SearchInfoArgs)\n",
    "def search_info(query: str) -> str:\n",
    "    \"\"\"\n",
    "    This tool searches for the biography of Mykhailo Ivasiuk and returns relevant information.\n",
    "    Returns concatenated text of all matching documents, or an empty string if no results found.\n",
    "    \"\"\"\n",
    "    nodes = retriever.retrieve(query)\n",
    "    if not nodes:\n",
    "        return \"No information found.\"\n",
    "    context = \"\\n\\n\".join(n.node.get_content() for n in nodes)\n",
    "    return context"
   ]
  },
  {
   "cell_type": "code",
   "execution_count": null,
   "id": "69bb9d7f-6e8a-4d5c-92fd-e3ef2161bfcb",
   "metadata": {
    "execution": {
     "iopub.execute_input": "2025-08-11T14:56:34.081462Z",
     "iopub.status.busy": "2025-08-11T14:56:34.081153Z",
     "iopub.status.idle": "2025-08-11T14:56:34.085122Z",
     "shell.execute_reply": "2025-08-11T14:56:34.084361Z",
     "shell.execute_reply.started": "2025-08-11T14:56:34.081441Z"
    },
    "trusted": true
   },
   "outputs": [],
   "source": [
    "tools = [classify_spam_ham, search_info]"
   ]
  },
  {
   "cell_type": "markdown",
   "id": "8723b1a2-0921-4229-bf83-18ca0f30bb0e",
   "metadata": {},
   "source": [
    "### Implementing agent"
   ]
  },
  {
   "cell_type": "code",
   "execution_count": null,
   "id": "616798cb",
   "metadata": {
    "execution": {
     "iopub.execute_input": "2025-08-11T14:56:36.178527Z",
     "iopub.status.busy": "2025-08-11T14:56:36.177895Z",
     "iopub.status.idle": "2025-08-11T14:56:36.181871Z",
     "shell.execute_reply": "2025-08-11T14:56:36.181111Z",
     "shell.execute_reply.started": "2025-08-11T14:56:36.178501Z"
    },
    "trusted": true
   },
   "outputs": [],
   "source": [
    "system = \"\"\"\n",
    "You are a helpful terminal assistant.\n",
    "\n",
    "RULES:\n",
    "- Call the \"classify_spam_ham\" tool if the user EXPLICITLY asks to classify spam or ham,\n",
    "    OR they use trigger phrases like: \"classify\", \"is this spam\", \"spam or ham\",\n",
    "    \"label this\", \"check for spam\", or the input starts with \"Classify this:\" or \"Classify:\".\n",
    "    When you do call this tool, after it returns, output EXACTLY the tool's result\n",
    "    in lowercase (\"spam\" or \"ham\"), with some extra words saying its a spam or ham\n",
    "- If the user asks anything related to Mykhailo Ivasiuk's biography, for example queries like:\n",
    "    \"Who is Mykhailo Ivasiuk?\", \"Tell me about Mykhailo Ivasiuk\", \"What does Mykhailo study?\",\n",
    "    call the \"search_info_about_Mykhailo_Ivasiuk\" tool to with the given query to fetch his biography details,\n",
    "    process them to look more natural and human, and return the result.\n",
    "- If the user sends a greeting or small talk (e.g., \"hello\", \"hi\"), DO NOT call any tool.\n",
    "- If a user asks a general question that doesn't match either tool, provide a neutral response.\n",
    "\"\"\""
   ]
  },
  {
   "cell_type": "code",
   "execution_count": null,
   "id": "0cd7e8b6-899f-481e-8382-b9547267b470",
   "metadata": {
    "execution": {
     "iopub.execute_input": "2025-08-11T14:56:36.805202Z",
     "iopub.status.busy": "2025-08-11T14:56:36.804705Z",
     "iopub.status.idle": "2025-08-11T14:56:36.808698Z",
     "shell.execute_reply": "2025-08-11T14:56:36.808018Z",
     "shell.execute_reply.started": "2025-08-11T14:56:36.805180Z"
    },
    "trusted": true
   },
   "outputs": [],
   "source": [
    "prompt = ChatPromptTemplate.from_messages([\n",
    "    (\"system\", system),\n",
    "    MessagesPlaceholder(\"chat_history\"),      \n",
    "    (\"human\", \"{input}\"),                     \n",
    "    MessagesPlaceholder(\"agent_scratchpad\"),\n",
    "])"
   ]
  },
  {
   "cell_type": "code",
   "execution_count": null,
   "id": "4db8189b-0ec2-4da1-8019-07185b4cfd28",
   "metadata": {
    "execution": {
     "iopub.execute_input": "2025-08-11T14:56:37.644546Z",
     "iopub.status.busy": "2025-08-11T14:56:37.643789Z",
     "iopub.status.idle": "2025-08-11T14:56:37.652683Z",
     "shell.execute_reply": "2025-08-11T14:56:37.651941Z",
     "shell.execute_reply.started": "2025-08-11T14:56:37.644524Z"
    },
    "trusted": true
   },
   "outputs": [],
   "source": [
    "agent = create_tool_calling_agent(llm, tools, prompt)"
   ]
  },
  {
   "cell_type": "code",
   "execution_count": null,
   "id": "1065b458-cdfc-4446-98f5-6cf009cb8874",
   "metadata": {
    "execution": {
     "iopub.execute_input": "2025-08-11T14:56:38.219049Z",
     "iopub.status.busy": "2025-08-11T14:56:38.218498Z",
     "iopub.status.idle": "2025-08-11T14:56:38.222351Z",
     "shell.execute_reply": "2025-08-11T14:56:38.221572Z",
     "shell.execute_reply.started": "2025-08-11T14:56:38.219030Z"
    },
    "trusted": true
   },
   "outputs": [],
   "source": [
    "memory = ConversationBufferWindowMemory(\n",
    "    k=20,\n",
    "    return_messages=True,\n",
    "    memory_key=\"chat_history\",\n",
    "    output_key=\"output\"\n",
    ")"
   ]
  },
  {
   "cell_type": "markdown",
   "id": "e6466904",
   "metadata": {},
   "source": [
    "debug"
   ]
  },
  {
   "cell_type": "code",
   "execution_count": null,
   "id": "515d9396",
   "metadata": {},
   "outputs": [],
   "source": [
    "from langchain.globals import set_verbose, set_debug\n",
    "\n",
    "on = False\n",
    "set_debug(on)\n",
    "set_verbose(on)"
   ]
  },
  {
   "cell_type": "code",
   "execution_count": null,
   "id": "9e192446",
   "metadata": {
    "execution": {
     "iopub.execute_input": "2025-08-11T14:56:39.314174Z",
     "iopub.status.busy": "2025-08-11T14:56:39.313631Z",
     "iopub.status.idle": "2025-08-11T14:56:39.317535Z",
     "shell.execute_reply": "2025-08-11T14:56:39.316896Z",
     "shell.execute_reply.started": "2025-08-11T14:56:39.314152Z"
    },
    "trusted": true
   },
   "outputs": [],
   "source": [
    "agent_exec = AgentExecutor(agent=agent, \n",
    "                           tools=tools,\n",
    "                           memory=memory,\n",
    "                           verbose=True,\n",
    "                           memory_key=\"chat_history\",\n",
    "                           return_intermediate_steps=True)"
   ]
  },
  {
   "cell_type": "code",
   "execution_count": null,
   "id": "ef54ac04",
   "metadata": {},
   "outputs": [],
   "source": [
    "res = agent_exec.invoke({\"input\": \"Hello\"})\n",
    "print(res[\"output\"])"
   ]
  },
  {
   "cell_type": "code",
   "execution_count": null,
   "id": "9e71a560",
   "metadata": {
    "execution": {
     "iopub.execute_input": "2025-08-11T14:56:40.352318Z",
     "iopub.status.busy": "2025-08-11T14:56:40.351717Z",
     "iopub.status.idle": "2025-08-11T14:56:40.525190Z",
     "shell.execute_reply": "2025-08-11T14:56:40.524438Z",
     "shell.execute_reply.started": "2025-08-11T14:56:40.352285Z"
    },
    "trusted": true
   },
   "outputs": [],
   "source": [
    "res = agent_exec.invoke({\"input\": \"Classify: hello click here\"})\n",
    "res"
   ]
  },
  {
   "cell_type": "code",
   "execution_count": null,
   "id": "66c47c64",
   "metadata": {
    "execution": {
     "iopub.execute_input": "2025-08-11T14:48:06.781033Z",
     "iopub.status.busy": "2025-08-11T14:48:06.780450Z",
     "iopub.status.idle": "2025-08-11T14:48:09.522710Z",
     "shell.execute_reply": "2025-08-11T14:48:09.522030Z",
     "shell.execute_reply.started": "2025-08-11T14:48:06.781006Z"
    },
    "trusted": true
   },
   "outputs": [],
   "source": [
    "res = agent_exec.invoke({\"input\": \"Who is Michael Jordan?\"})\n",
    "print(res[\"output\"])"
   ]
  },
  {
   "cell_type": "code",
   "execution_count": null,
   "id": "6a85e482-7955-42ee-b455-68e22b2fef6a",
   "metadata": {
    "execution": {
     "iopub.execute_input": "2025-08-11T14:48:11.111692Z",
     "iopub.status.busy": "2025-08-11T14:48:11.111440Z",
     "iopub.status.idle": "2025-08-11T14:48:12.729292Z",
     "shell.execute_reply": "2025-08-11T14:48:12.728663Z",
     "shell.execute_reply.started": "2025-08-11T14:48:11.111673Z"
    },
    "trusted": true
   },
   "outputs": [],
   "source": [
    "res = agent_exec.invoke({\"input\": \"What's my name?\"})\n",
    "print(res[\"output\"])"
   ]
  },
  {
   "cell_type": "code",
   "execution_count": null,
   "id": "3832a464-a574-42c7-9f67-66c48679f7af",
   "metadata": {
    "execution": {
     "iopub.execute_input": "2025-08-11T14:48:14.208098Z",
     "iopub.status.busy": "2025-08-11T14:48:14.207836Z",
     "iopub.status.idle": "2025-08-11T14:48:15.054032Z",
     "shell.execute_reply": "2025-08-11T14:48:15.053288Z",
     "shell.execute_reply.started": "2025-08-11T14:48:14.208079Z"
    },
    "trusted": true
   },
   "outputs": [],
   "source": [
    "res = agent_exec.invoke({\"input\": \"my name is Bob\"})\n",
    "print(res[\"output\"])"
   ]
  },
  {
   "cell_type": "code",
   "execution_count": null,
   "id": "1b2df33f-b015-442e-94bf-845585c3915c",
   "metadata": {
    "execution": {
     "iopub.execute_input": "2025-08-11T14:48:15.962978Z",
     "iopub.status.busy": "2025-08-11T14:48:15.962417Z",
     "iopub.status.idle": "2025-08-11T14:48:16.352620Z",
     "shell.execute_reply": "2025-08-11T14:48:16.351952Z",
     "shell.execute_reply.started": "2025-08-11T14:48:15.962954Z"
    },
    "trusted": true
   },
   "outputs": [],
   "source": [
    "res = agent_exec.invoke({\"input\": \"What's my name?\"})\n",
    "print(res[\"output\"])"
   ]
  },
  {
   "cell_type": "code",
   "execution_count": null,
   "id": "64b53637-4044-434e-8c89-f39e10301e5a",
   "metadata": {
    "execution": {
     "iopub.execute_input": "2025-08-11T14:42:22.213590Z",
     "iopub.status.busy": "2025-08-11T14:42:22.213306Z",
     "iopub.status.idle": "2025-08-11T14:42:23.440454Z",
     "shell.execute_reply": "2025-08-11T14:42:23.439663Z",
     "shell.execute_reply.started": "2025-08-11T14:42:22.213571Z"
    },
    "trusted": true
   },
   "outputs": [],
   "source": [
    "res = agent_exec.invoke({\"input\": \"What's my favorite color?\"})\n",
    "print(res[\"output\"])"
   ]
  },
  {
   "cell_type": "code",
   "execution_count": null,
   "id": "6dab17de-da93-4f81-94f9-11b2c71ec985",
   "metadata": {
    "execution": {
     "iopub.execute_input": "2025-08-11T14:42:25.023216Z",
     "iopub.status.busy": "2025-08-11T14:42:25.022923Z",
     "iopub.status.idle": "2025-08-11T14:42:26.343807Z",
     "shell.execute_reply": "2025-08-11T14:42:26.342392Z",
     "shell.execute_reply.started": "2025-08-11T14:42:25.023194Z"
    },
    "trusted": true
   },
   "outputs": [],
   "source": [
    "res = agent_exec.invoke({\"input\": \"My favorite color is yellow\"})\n",
    "print(res[\"output\"])"
   ]
  },
  {
   "cell_type": "code",
   "execution_count": null,
   "id": "dcd52c41-de53-4418-a9ab-47b2a49596f5",
   "metadata": {
    "execution": {
     "iopub.execute_input": "2025-08-11T14:42:28.126201Z",
     "iopub.status.busy": "2025-08-11T14:42:28.125739Z",
     "iopub.status.idle": "2025-08-11T14:42:28.763691Z",
     "shell.execute_reply": "2025-08-11T14:42:28.763042Z",
     "shell.execute_reply.started": "2025-08-11T14:42:28.126181Z"
    },
    "trusted": true
   },
   "outputs": [],
   "source": [
    "res = agent_exec.invoke({\"input\": \"What's my favorite color?\"})\n",
    "print(res[\"output\"])"
   ]
  },
  {
   "cell_type": "code",
   "execution_count": null,
   "id": "4f3bec4d",
   "metadata": {},
   "outputs": [],
   "source": [
    "res = agent_exec.invoke({\"input\": \"Does Mykhailo has parents\"})\n",
    "print(res[\"output\"])"
   ]
  },
  {
   "cell_type": "code",
   "execution_count": null,
   "id": "dbfebfa9-74a4-443e-b3a0-47f4eec1e62b",
   "metadata": {
    "execution": {
     "iopub.execute_input": "2025-08-11T13:20:35.534425Z",
     "iopub.status.busy": "2025-08-11T13:20:35.533843Z",
     "iopub.status.idle": "2025-08-11T13:20:35.539785Z",
     "shell.execute_reply": "2025-08-11T13:20:35.539027Z",
     "shell.execute_reply.started": "2025-08-11T13:20:35.534403Z"
    },
    "trusted": true
   },
   "outputs": [],
   "source": [
    "res"
   ]
  },
  {
   "cell_type": "code",
   "execution_count": null,
   "id": "a3de1f89",
   "metadata": {},
   "outputs": [],
   "source": []
  }
 ],
 "metadata": {
  "kaggle": {
   "accelerator": "gpu",
   "dataSources": [
    {
     "datasetId": 8043412,
     "sourceId": 12725625,
     "sourceType": "datasetVersion"
    },
    {
     "datasetId": 8050161,
     "sourceId": 12735560,
     "sourceType": "datasetVersion"
    }
   ],
   "isGpuEnabled": true,
   "isInternetEnabled": true,
   "language": "python",
   "sourceType": "notebook"
  },
  "kernelspec": {
   "display_name": ".venv",
   "language": "python",
   "name": "python3"
  },
  "language_info": {
   "codemirror_mode": {
    "name": "ipython",
    "version": 3
   },
   "file_extension": ".py",
   "mimetype": "text/x-python",
   "name": "python",
   "nbconvert_exporter": "python",
   "pygments_lexer": "ipython3",
   "version": "3.12.4"
  }
 },
 "nbformat": 4,
 "nbformat_minor": 5
}
