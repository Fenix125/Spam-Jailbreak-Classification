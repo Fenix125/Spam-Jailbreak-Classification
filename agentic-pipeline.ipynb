{
 "cells": [
  {
   "cell_type": "markdown",
   "id": "5042ca72",
   "metadata": {},
   "source": [
    "# Wrapping the Fine-Tuned Model into an Agentic pipeline (LangChain)"
   ]
  },
  {
   "cell_type": "markdown",
   "id": "fa26cdff",
   "metadata": {},
   "source": [
    "## Dependencies"
   ]
  },
  {
   "cell_type": "markdown",
   "id": "bf730d77",
   "metadata": {},
   "source": [
    "### Modules "
   ]
  },
  {
   "cell_type": "code",
   "execution_count": null,
   "id": "53bd0d66",
   "metadata": {
    "trusted": true
   },
   "outputs": [],
   "source": [
    "%pip install langchain"
   ]
  },
  {
   "cell_type": "code",
   "execution_count": null,
   "id": "d42ee8cd",
   "metadata": {
    "trusted": true
   },
   "outputs": [],
   "source": [
    "%pip install langchain_community"
   ]
  },
  {
   "cell_type": "code",
   "execution_count": null,
   "id": "cbc90810-3530-4275-bb27-c6b72127f0eb",
   "metadata": {
    "trusted": true
   },
   "outputs": [],
   "source": [
    "%pip install langchain-huggingface"
   ]
  },
  {
   "cell_type": "code",
   "execution_count": null,
   "id": "fcbb69bb-aacd-4802-902f-a234a7674dd2",
   "metadata": {
    "trusted": true
   },
   "outputs": [],
   "source": [
    "%pip install -U langchain-huggingface transformers"
   ]
  },
  {
   "cell_type": "code",
   "execution_count": null,
   "id": "5dcf2276-0228-47d8-ad18-968ecb1a2c1d",
   "metadata": {
    "trusted": true
   },
   "outputs": [],
   "source": [
    "%pip install llama_index"
   ]
  },
  {
   "cell_type": "code",
   "execution_count": null,
   "id": "7685bc2e-82a7-4e3a-bd2b-589fd8cba94e",
   "metadata": {
    "trusted": true
   },
   "outputs": [],
   "source": [
    "%pip install llama-index-embeddings-huggingface"
   ]
  },
  {
   "cell_type": "code",
   "execution_count": null,
   "id": "3939becb",
   "metadata": {},
   "outputs": [],
   "source": [
    "%pip install langchain-openai"
   ]
  },
  {
   "cell_type": "code",
   "execution_count": null,
   "id": "8b74dc78",
   "metadata": {},
   "outputs": [],
   "source": [
    "%pip install python-dotenv"
   ]
  },
  {
   "cell_type": "markdown",
   "id": "287a16e1",
   "metadata": {
    "_kg_hide-input": true
   },
   "source": [
    "### Imports"
   ]
  },
  {
   "cell_type": "code",
   "execution_count": null,
   "id": "f1cb6b4f-f55a-4d82-976d-8bff80631073",
   "metadata": {
    "execution": {
     "iopub.execute_input": "2025-08-11T11:57:16.120705Z",
     "iopub.status.busy": "2025-08-11T11:57:16.120161Z",
     "iopub.status.idle": "2025-08-11T11:57:16.427322Z",
     "shell.execute_reply": "2025-08-11T11:57:16.426680Z",
     "shell.execute_reply.started": "2025-08-11T11:57:16.120675Z"
    },
    "trusted": true
   },
   "outputs": [],
   "source": [
    "import langchain, langchain_core, langchain_community\n",
    "print(langchain.__version__, langchain_core.__version__, langchain_community.__version__)\n"
   ]
  },
  {
   "cell_type": "code",
   "execution_count": 22,
   "id": "6d55ed53",
   "metadata": {
    "execution": {
     "iopub.execute_input": "2025-08-11T14:22:04.370689Z",
     "iopub.status.busy": "2025-08-11T14:22:04.369954Z",
     "iopub.status.idle": "2025-08-11T14:22:04.375377Z",
     "shell.execute_reply": "2025-08-11T14:22:04.374816Z",
     "shell.execute_reply.started": "2025-08-11T14:22:04.370654Z"
    },
    "trusted": true
   },
   "outputs": [],
   "source": [
    "from langchain.tools import tool\n",
    "from langchain_openai import ChatOpenAI\n",
    "from langchain.agents import AgentExecutor, create_tool_calling_agent\n",
    "from langchain_core.prompts import ChatPromptTemplate, MessagesPlaceholder\n",
    "from langchain_huggingface import HuggingFacePipeline \n",
    "from langchain_huggingface import ChatHuggingFace, HuggingFaceEndpoint\n",
    "from transformers import pipeline, AutoTokenizer, AutoModelForSequenceClassification, AutoModelForCausalLM\n",
    "import torch\n",
    "from langchain.memory import ConversationBufferWindowMemory\n",
    "\n",
    "from llama_index.core import VectorStoreIndex, SimpleDirectoryReader, Settings\n",
    "from llama_index.embeddings.huggingface import HuggingFaceEmbedding\n",
    "from llama_index.core.node_parser import SentenceSplitter\n",
    "from pydantic import BaseModel, Field\n",
    "\n",
    "import os\n",
    "from dotenv import load_dotenv"
   ]
  },
  {
   "cell_type": "code",
   "execution_count": 17,
   "id": "cf3325c3-fe91-41f4-a30e-d9617840c6fe",
   "metadata": {
    "execution": {
     "iopub.execute_input": "2025-08-11T11:59:58.400347Z",
     "iopub.status.busy": "2025-08-11T11:59:58.399428Z",
     "iopub.status.idle": "2025-08-11T11:59:58.403820Z",
     "shell.execute_reply": "2025-08-11T11:59:58.403046Z",
     "shell.execute_reply.started": "2025-08-11T11:59:58.400325Z"
    },
    "trusted": true
   },
   "outputs": [],
   "source": [
    "use_gpu = torch.cuda.is_available()\n",
    "device = 0 if use_gpu else -1"
   ]
  },
  {
   "cell_type": "markdown",
   "id": "1e01e604",
   "metadata": {},
   "source": [
    "## Agent"
   ]
  },
  {
   "cell_type": "markdown",
   "id": "713dc518-4fba-4b27-8c34-50e257e0444e",
   "metadata": {},
   "source": [
    "### Loading models"
   ]
  },
  {
   "cell_type": "code",
   "execution_count": 18,
   "id": "95c73365",
   "metadata": {},
   "outputs": [
    {
     "data": {
      "text/plain": [
       "True"
      ]
     },
     "execution_count": 18,
     "metadata": {},
     "output_type": "execute_result"
    }
   ],
   "source": [
    "load_dotenv()"
   ]
  },
  {
   "cell_type": "code",
   "execution_count": 19,
   "id": "521f7523",
   "metadata": {},
   "outputs": [],
   "source": [
    "open_ai_key = os.getenv(\"OPEN_AI_KEY\") "
   ]
  },
  {
   "cell_type": "code",
   "execution_count": 49,
   "id": "393737d0",
   "metadata": {
    "execution": {
     "iopub.execute_input": "2025-08-11T12:00:01.432766Z",
     "iopub.status.busy": "2025-08-11T12:00:01.432127Z",
     "iopub.status.idle": "2025-08-11T12:00:22.050841Z",
     "shell.execute_reply": "2025-08-11T12:00:22.049662Z",
     "shell.execute_reply.started": "2025-08-11T12:00:01.432739Z"
    },
    "trusted": true
   },
   "outputs": [],
   "source": [
    "gen_model_path = \"gpt-4o-mini\"\n",
    "llm = ChatOpenAI(\n",
    "    model=\"gpt-4o-mini\",\n",
    "    temperature=0.2,\n",
    "    api_key=open_ai_key\n",
    ")"
   ]
  },
  {
   "cell_type": "markdown",
   "id": "66cb2a9a",
   "metadata": {},
   "source": [
    "kaggle"
   ]
  },
  {
   "cell_type": "code",
   "execution_count": null,
   "id": "8255af67",
   "metadata": {},
   "outputs": [],
   "source": [
    "classifier_path = \"/kaggle/input/classifier-model/bert-spam-ham-classifier-full_dataset/checkpoint-13086\""
   ]
  },
  {
   "cell_type": "markdown",
   "id": "38a032ba",
   "metadata": {},
   "source": [
    "local"
   ]
  },
  {
   "cell_type": "code",
   "execution_count": 26,
   "id": "3ddc63ff",
   "metadata": {},
   "outputs": [],
   "source": [
    "classifier_path = \"bert-spam-ham-classifier-full_dataset/checkpoint-13086\""
   ]
  },
  {
   "cell_type": "code",
   "execution_count": 27,
   "id": "387b5dec",
   "metadata": {
    "execution": {
     "iopub.execute_input": "2025-08-11T12:00:58.085634Z",
     "iopub.status.busy": "2025-08-11T12:00:58.084845Z",
     "iopub.status.idle": "2025-08-11T12:00:58.815665Z",
     "shell.execute_reply": "2025-08-11T12:00:58.814811Z",
     "shell.execute_reply.started": "2025-08-11T12:00:58.085601Z"
    },
    "trusted": true
   },
   "outputs": [],
   "source": [
    "cls_model = AutoModelForSequenceClassification.from_pretrained(classifier_path)\n",
    "cls_tokenizer = AutoTokenizer.from_pretrained(classifier_path)"
   ]
  },
  {
   "cell_type": "code",
   "execution_count": 28,
   "id": "03edfa29",
   "metadata": {
    "execution": {
     "iopub.execute_input": "2025-08-11T12:01:01.201034Z",
     "iopub.status.busy": "2025-08-11T12:01:01.200754Z",
     "iopub.status.idle": "2025-08-11T12:01:05.382597Z",
     "shell.execute_reply": "2025-08-11T12:01:05.382008Z",
     "shell.execute_reply.started": "2025-08-11T12:01:01.201013Z"
    },
    "trusted": true
   },
   "outputs": [
    {
     "name": "stderr",
     "output_type": "stream",
     "text": [
      "Device set to use cpu\n"
     ]
    }
   ],
   "source": [
    "clf = pipeline(\"text-classification\", \n",
    "               model=cls_model, \n",
    "               tokenizer=cls_tokenizer,\n",
    "               device=device\n",
    "              )"
   ]
  },
  {
   "cell_type": "code",
   "execution_count": 29,
   "id": "fb00cb8b",
   "metadata": {
    "execution": {
     "iopub.execute_input": "2025-08-11T13:36:27.623384Z",
     "iopub.status.busy": "2025-08-11T13:36:27.622701Z",
     "iopub.status.idle": "2025-08-11T13:36:27.639703Z",
     "shell.execute_reply": "2025-08-11T13:36:27.638989Z",
     "shell.execute_reply.started": "2025-08-11T13:36:27.623354Z"
    },
    "trusted": true
   },
   "outputs": [
    {
     "data": {
      "text/plain": [
       "[{'label': 'LABEL_1', 'score': 0.6220691204071045}]"
      ]
     },
     "execution_count": 29,
     "metadata": {},
     "output_type": "execute_result"
    }
   ],
   "source": [
    "clf(\"hello click here\")"
   ]
  },
  {
   "cell_type": "markdown",
   "id": "dd735cdb",
   "metadata": {},
   "source": [
    "### Tools"
   ]
  },
  {
   "cell_type": "markdown",
   "id": "f43b0508-fc5d-46b1-ad15-76c1a10b050d",
   "metadata": {},
   "source": [
    "#### Classifier Tool"
   ]
  },
  {
   "cell_type": "code",
   "execution_count": 30,
   "id": "7724947d",
   "metadata": {
    "execution": {
     "iopub.execute_input": "2025-08-11T12:01:18.696134Z",
     "iopub.status.busy": "2025-08-11T12:01:18.695868Z",
     "iopub.status.idle": "2025-08-11T12:01:18.703725Z",
     "shell.execute_reply": "2025-08-11T12:01:18.703086Z",
     "shell.execute_reply.started": "2025-08-11T12:01:18.696113Z"
    },
    "trusted": true
   },
   "outputs": [],
   "source": [
    "class ClassifyArgs(BaseModel):\n",
    "    text: str = Field(description=\"text needed for classification\")\n",
    "\n",
    "@tool(\"classify_spam_ham\", args_schema=ClassifyArgs)\n",
    "def classify_spam_ham(text: str) -> str:\n",
    "    \"\"\"\n",
    "    This tool classifies the given message as spam or ham.\n",
    "    \"\"\"\n",
    "    print(f\"Searching for query: {text}\")\n",
    "    pred = clf(text)[0][\"label\"]\n",
    "    return \"spam\" if pred == \"LABEL_1\" else \"ham\""
   ]
  },
  {
   "cell_type": "markdown",
   "id": "de517318-927d-4be3-a57a-d7d32ecfd6b9",
   "metadata": {},
   "source": [
    "#### Info retrieval"
   ]
  },
  {
   "cell_type": "code",
   "execution_count": 31,
   "id": "f2d25bf8-3448-4354-8e9d-d54b483d47bf",
   "metadata": {
    "execution": {
     "iopub.execute_input": "2025-08-11T14:39:08.684930Z",
     "iopub.status.busy": "2025-08-11T14:39:08.684669Z",
     "iopub.status.idle": "2025-08-11T14:39:09.867858Z",
     "shell.execute_reply": "2025-08-11T14:39:09.867093Z",
     "shell.execute_reply.started": "2025-08-11T14:39:08.684911Z"
    },
    "trusted": true
   },
   "outputs": [],
   "source": [
    "Settings.embed_model = HuggingFaceEmbedding(\"sentence-transformers/all-MiniLM-L6-v2\")"
   ]
  },
  {
   "cell_type": "code",
   "execution_count": 32,
   "id": "ba8c3a57-9347-4dd1-83f8-f3bf788d1e40",
   "metadata": {
    "execution": {
     "iopub.execute_input": "2025-08-11T14:39:10.565825Z",
     "iopub.status.busy": "2025-08-11T14:39:10.565250Z",
     "iopub.status.idle": "2025-08-11T14:39:10.569371Z",
     "shell.execute_reply": "2025-08-11T14:39:10.568713Z",
     "shell.execute_reply.started": "2025-08-11T14:39:10.565802Z"
    },
    "trusted": true
   },
   "outputs": [],
   "source": [
    "Settings.node_parser = SentenceSplitter(chunk_size=50, chunk_overlap=10)"
   ]
  },
  {
   "cell_type": "markdown",
   "id": "900f112a",
   "metadata": {},
   "source": [
    "kaggle"
   ]
  },
  {
   "cell_type": "code",
   "execution_count": null,
   "id": "67dad153",
   "metadata": {},
   "outputs": [],
   "source": [
    "file_path = \"/kaggle/input/student-bio/student_bio.txt\""
   ]
  },
  {
   "cell_type": "markdown",
   "id": "8da4f4dd",
   "metadata": {},
   "source": [
    "local"
   ]
  },
  {
   "cell_type": "code",
   "execution_count": 33,
   "id": "ddb0e773",
   "metadata": {},
   "outputs": [],
   "source": [
    "file_path = \"student_bio.txt\""
   ]
  },
  {
   "cell_type": "code",
   "execution_count": 34,
   "id": "50f3f0dd-75f7-4a31-bff8-caf3152df0fb",
   "metadata": {
    "execution": {
     "iopub.execute_input": "2025-08-11T14:56:23.585829Z",
     "iopub.status.busy": "2025-08-11T14:56:23.585189Z",
     "iopub.status.idle": "2025-08-11T14:56:23.594976Z",
     "shell.execute_reply": "2025-08-11T14:56:23.594320Z",
     "shell.execute_reply.started": "2025-08-11T14:56:23.585799Z"
    },
    "trusted": true
   },
   "outputs": [
    {
     "data": {
      "text/plain": [
       "[Document(id_='3b9df5ce-7948-481e-8efb-f1e82028537f', embedding=None, metadata={'file_path': 'student_bio.txt', 'file_name': 'student_bio.txt', 'file_type': 'text/plain', 'file_size': 451, 'creation_date': '2025-08-12', 'last_modified_date': '2025-08-12'}, excluded_embed_metadata_keys=['file_name', 'file_type', 'file_size', 'creation_date', 'last_modified_date', 'last_accessed_date'], excluded_llm_metadata_keys=['file_name', 'file_type', 'file_size', 'creation_date', 'last_modified_date', 'last_accessed_date'], relationships={}, metadata_template='{key}: {value}', metadata_separator='\\n', text_resource=MediaResource(embeddings=None, data=None, text='My name is Mykhailo Ivasiuk. \\nI am from Zarichia, the Ivano-Frankivsk region of Ukraine. \\nI was born in Ibiza, Spain. My dad is Mykhailo, and my mother is Nadiya.\\nI am currently studying at the Ukrainian Catholic University in the Faculty of Applied Sciences, specializing in Computer Science.\\nI am passionate about developing problem-solving skills.\\nI am currently studying a new field for Machine Learning, which I really enjoy.\\nI like going to gym.', path=None, url=None, mimetype=None), image_resource=None, audio_resource=None, video_resource=None, text_template='{metadata_str}\\n\\n{content}')]"
      ]
     },
     "execution_count": 34,
     "metadata": {},
     "output_type": "execute_result"
    }
   ],
   "source": [
    "docs = SimpleDirectoryReader(input_files=[file_path]).load_data()\n",
    "docs"
   ]
  },
  {
   "cell_type": "code",
   "execution_count": 35,
   "id": "6c66db0b-000b-4d97-b512-ff315b5e213f",
   "metadata": {
    "execution": {
     "iopub.execute_input": "2025-08-11T14:56:27.666173Z",
     "iopub.status.busy": "2025-08-11T14:56:27.665634Z",
     "iopub.status.idle": "2025-08-11T14:56:27.681474Z",
     "shell.execute_reply": "2025-08-11T14:56:27.680731Z",
     "shell.execute_reply.started": "2025-08-11T14:56:27.666149Z"
    },
    "trusted": true
   },
   "outputs": [
    {
     "name": "stdout",
     "output_type": "stream",
     "text": [
      "Metadata length (6) is close to chunk size (50). Resulting chunks are less than 50 tokens. Consider increasing the chunk size or decreasing the size of your metadata to avoid this.\n"
     ]
    },
    {
     "name": "stderr",
     "output_type": "stream",
     "text": [
      "huggingface/tokenizers: The current process just got forked, after parallelism has already been used. Disabling parallelism to avoid deadlocks...\n",
      "To disable this warning, you can either:\n",
      "\t- Avoid using `tokenizers` before the fork if possible\n",
      "\t- Explicitly set the environment variable TOKENIZERS_PARALLELISM=(true | false)\n"
     ]
    }
   ],
   "source": [
    "index = VectorStoreIndex.from_documents(docs)"
   ]
  },
  {
   "cell_type": "code",
   "execution_count": 36,
   "id": "dd39b15b-d589-4cc6-97f0-b2ff7b6beca9",
   "metadata": {
    "execution": {
     "iopub.execute_input": "2025-08-11T14:56:28.559252Z",
     "iopub.status.busy": "2025-08-11T14:56:28.558693Z",
     "iopub.status.idle": "2025-08-11T14:56:28.562331Z",
     "shell.execute_reply": "2025-08-11T14:56:28.561632Z",
     "shell.execute_reply.started": "2025-08-11T14:56:28.559232Z"
    },
    "trusted": true
   },
   "outputs": [],
   "source": [
    "retriever = index.as_retriever(similarity_top_k=5)"
   ]
  },
  {
   "cell_type": "code",
   "execution_count": 37,
   "id": "39cb19d3-f570-4ac3-bb6a-f9284c4bf16e",
   "metadata": {
    "execution": {
     "iopub.execute_input": "2025-08-11T14:56:29.254436Z",
     "iopub.status.busy": "2025-08-11T14:56:29.253542Z",
     "iopub.status.idle": "2025-08-11T14:56:29.268300Z",
     "shell.execute_reply": "2025-08-11T14:56:29.267462Z",
     "shell.execute_reply.started": "2025-08-11T14:56:29.254407Z"
    },
    "trusted": true
   },
   "outputs": [],
   "source": [
    "nodes = retriever.retrieve(\"What does Mykhailo Ivasiuk study\")\n",
    "context = \".\".join(n.node.get_content() for n in nodes)"
   ]
  },
  {
   "cell_type": "code",
   "execution_count": 38,
   "id": "3b5c0d8c-43dc-43cd-80fd-1ad3ea28cf56",
   "metadata": {
    "execution": {
     "iopub.execute_input": "2025-08-11T14:56:29.903858Z",
     "iopub.status.busy": "2025-08-11T14:56:29.903364Z",
     "iopub.status.idle": "2025-08-11T14:56:29.907685Z",
     "shell.execute_reply": "2025-08-11T14:56:29.906874Z",
     "shell.execute_reply.started": "2025-08-11T14:56:29.903837Z"
    },
    "trusted": true
   },
   "outputs": [
    {
     "name": "stdout",
     "output_type": "stream",
     "text": [
      "Node ID: 83b2af3d-96fe-488b-9c01-9db0e47f243c\n",
      "Text: My name is Mykhailo Ivasiuk.  I am from Zarichia, the Ivano-\n",
      "Frankivsk region of Ukraine.  I was born in Ibiza, Spain.\n",
      "Score:  0.497\n",
      "\n",
      "Node ID: a7e4ecb0-84d0-4577-9262-0ef3990c74dc\n",
      "Text: I was born in Ibiza, Spain. My dad is Mykhailo, and my mother is\n",
      "Nadiya.\n",
      "Score:  0.277\n",
      "\n",
      "Node ID: 226205e2-fec8-451c-9309-a7b501e0bfc9\n",
      "Text: I am currently studying at the Ukrainian Catholic University in\n",
      "the Faculty of Applied Sciences, specializing in Computer Science. I\n",
      "am passionate about developing problem-solving skills.\n",
      "Score:  0.170\n",
      "\n",
      "Node ID: 5f0be92a-de46-4561-a9d6-b9ee872155bb\n",
      "Text: I am passionate about developing problem-solving skills. I am\n",
      "currently studying a new field for Machine Learning, which I really\n",
      "enjoy. I like going to gym.\n",
      "Score:  0.132\n",
      "\n"
     ]
    }
   ],
   "source": [
    "for n in nodes:\n",
    "    print(n)"
   ]
  },
  {
   "cell_type": "code",
   "execution_count": 39,
   "id": "ec7e39ba-21b0-4ff8-b4b6-dd9557f965ee",
   "metadata": {
    "execution": {
     "iopub.execute_input": "2025-08-11T14:56:31.155000Z",
     "iopub.status.busy": "2025-08-11T14:56:31.154738Z",
     "iopub.status.idle": "2025-08-11T14:56:31.159288Z",
     "shell.execute_reply": "2025-08-11T14:56:31.158695Z",
     "shell.execute_reply.started": "2025-08-11T14:56:31.154980Z"
    },
    "trusted": true
   },
   "outputs": [
    {
     "data": {
      "text/plain": [
       "'My name is Mykhailo Ivasiuk. \\nI am from Zarichia, the Ivano-Frankivsk region of Ukraine. \\nI was born in Ibiza, Spain..I was born in Ibiza, Spain. My dad is Mykhailo, and my mother is Nadiya..I am currently studying at the Ukrainian Catholic University in the Faculty of Applied Sciences, specializing in Computer Science.\\nI am passionate about developing problem-solving skills..I am passionate about developing problem-solving skills.\\nI am currently studying a new field for Machine Learning, which I really enjoy.\\nI like going to gym.'"
      ]
     },
     "execution_count": 39,
     "metadata": {},
     "output_type": "execute_result"
    }
   ],
   "source": [
    "context"
   ]
  },
  {
   "cell_type": "code",
   "execution_count": 40,
   "id": "0d40d7e6-ebca-4bf6-a4a6-dca8e609c320",
   "metadata": {
    "execution": {
     "iopub.execute_input": "2025-08-11T14:56:32.552398Z",
     "iopub.status.busy": "2025-08-11T14:56:32.551864Z",
     "iopub.status.idle": "2025-08-11T14:56:32.558479Z",
     "shell.execute_reply": "2025-08-11T14:56:32.557823Z",
     "shell.execute_reply.started": "2025-08-11T14:56:32.552373Z"
    },
    "trusted": true
   },
   "outputs": [],
   "source": [
    "class SearchInfoArgs(BaseModel):\n",
    "    query: str = Field(description=\"a query of user for looking down the information about Mykhailo\")\n",
    "\n",
    "@tool(\"search_info_about_Mykhailo_Ivasiuk\", args_schema=SearchInfoArgs)\n",
    "def search_info(query: str) -> str:\n",
    "    \"\"\"\n",
    "    This tool searches for the biography of Mykhailo Ivasiuk and returns relevant information.\n",
    "    Returns concatenated text of all matching documents, or an empty string if no results found.\n",
    "    \"\"\"\n",
    "    print(f\"Searching for query: {query}\")\n",
    "    nodes = retriever.retrieve(query)\n",
    "    if not nodes:\n",
    "        return \"No information found.\"\n",
    "    context = \".\".join(n.node.get_content() for n in nodes)\n",
    "    return context"
   ]
  },
  {
   "cell_type": "code",
   "execution_count": 41,
   "id": "69bb9d7f-6e8a-4d5c-92fd-e3ef2161bfcb",
   "metadata": {
    "execution": {
     "iopub.execute_input": "2025-08-11T14:56:34.081462Z",
     "iopub.status.busy": "2025-08-11T14:56:34.081153Z",
     "iopub.status.idle": "2025-08-11T14:56:34.085122Z",
     "shell.execute_reply": "2025-08-11T14:56:34.084361Z",
     "shell.execute_reply.started": "2025-08-11T14:56:34.081441Z"
    },
    "trusted": true
   },
   "outputs": [],
   "source": [
    "tools = [classify_spam_ham, search_info]"
   ]
  },
  {
   "cell_type": "markdown",
   "id": "8723b1a2-0921-4229-bf83-18ca0f30bb0e",
   "metadata": {},
   "source": [
    "### Implementing agent"
   ]
  },
  {
   "cell_type": "code",
   "execution_count": null,
   "id": "616798cb",
   "metadata": {
    "execution": {
     "iopub.execute_input": "2025-08-11T14:56:36.178527Z",
     "iopub.status.busy": "2025-08-11T14:56:36.177895Z",
     "iopub.status.idle": "2025-08-11T14:56:36.181871Z",
     "shell.execute_reply": "2025-08-11T14:56:36.181111Z",
     "shell.execute_reply.started": "2025-08-11T14:56:36.178501Z"
    },
    "trusted": true
   },
   "outputs": [],
   "source": [
    "system = \"\"\"\n",
    "You are a helpful terminal assistant.\n",
    "\n",
    "RULES:\n",
    "- Call the \"classify_spam_ham\" tool if the user EXPLICITLY asks to classify spam or ham,\n",
    "    OR they use trigger phrases like: \"classify\", \"is this spam\", \"spam or ham\",\n",
    "    \"label this\", \"check for spam\", or the input starts with \"Classify this:\" or \"Classify:\".\n",
    "    When you do call this tool, after it returns, output EXACTLY the tool's result\n",
    "    in lowercase (\"spam\" or \"ham\"), with some extra words saying its a spam or ham\n",
    "- If the user asks anything related to Mykhailo Ivasiuk's biography, for example queries like:\n",
    "    \"Who is Mykhailo Ivasiuk?\", \"Tell me about Mykhailo Ivasiuk\", \"What does Mykhailo study?\",\n",
    "    call the \"search_info_about_Mykhailo_Ivasiuk\" tool to with the given query to fetch his biography details,\n",
    "    process them to look more natural and human, and return the result.\n",
    "- If the user sends a greeting or small talk (e.g., \"hello\", \"hi\"), DO NOT call any tool.\n",
    "- If a user asks a general question that doesn't match either tool, provide a neutral response.\n",
    "\"\"\""
   ]
  },
  {
   "cell_type": "code",
   "execution_count": 43,
   "id": "0cd7e8b6-899f-481e-8382-b9547267b470",
   "metadata": {
    "execution": {
     "iopub.execute_input": "2025-08-11T14:56:36.805202Z",
     "iopub.status.busy": "2025-08-11T14:56:36.804705Z",
     "iopub.status.idle": "2025-08-11T14:56:36.808698Z",
     "shell.execute_reply": "2025-08-11T14:56:36.808018Z",
     "shell.execute_reply.started": "2025-08-11T14:56:36.805180Z"
    },
    "trusted": true
   },
   "outputs": [],
   "source": [
    "prompt = ChatPromptTemplate.from_messages([\n",
    "    (\"system\", system),\n",
    "    MessagesPlaceholder(\"chat_history\"),      \n",
    "    (\"human\", \"{input}\"),                     \n",
    "    MessagesPlaceholder(\"agent_scratchpad\"),\n",
    "])"
   ]
  },
  {
   "cell_type": "code",
   "execution_count": 50,
   "id": "4db8189b-0ec2-4da1-8019-07185b4cfd28",
   "metadata": {
    "execution": {
     "iopub.execute_input": "2025-08-11T14:56:37.644546Z",
     "iopub.status.busy": "2025-08-11T14:56:37.643789Z",
     "iopub.status.idle": "2025-08-11T14:56:37.652683Z",
     "shell.execute_reply": "2025-08-11T14:56:37.651941Z",
     "shell.execute_reply.started": "2025-08-11T14:56:37.644524Z"
    },
    "trusted": true
   },
   "outputs": [],
   "source": [
    "agent = create_tool_calling_agent(llm, tools, prompt)"
   ]
  },
  {
   "cell_type": "code",
   "execution_count": 51,
   "id": "1065b458-cdfc-4446-98f5-6cf009cb8874",
   "metadata": {
    "execution": {
     "iopub.execute_input": "2025-08-11T14:56:38.219049Z",
     "iopub.status.busy": "2025-08-11T14:56:38.218498Z",
     "iopub.status.idle": "2025-08-11T14:56:38.222351Z",
     "shell.execute_reply": "2025-08-11T14:56:38.221572Z",
     "shell.execute_reply.started": "2025-08-11T14:56:38.219030Z"
    },
    "trusted": true
   },
   "outputs": [],
   "source": [
    "memory = ConversationBufferWindowMemory(\n",
    "    k=20,\n",
    "    return_messages=True,\n",
    "    memory_key=\"chat_history\",\n",
    "    output_key=\"output\"\n",
    ")"
   ]
  },
  {
   "cell_type": "markdown",
   "id": "e6466904",
   "metadata": {},
   "source": [
    "debug"
   ]
  },
  {
   "cell_type": "code",
   "execution_count": 46,
   "id": "515d9396",
   "metadata": {},
   "outputs": [],
   "source": [
    "from langchain.globals import set_verbose, set_debug\n",
    "\n",
    "on = False\n",
    "set_debug(on)\n",
    "set_verbose(on)"
   ]
  },
  {
   "cell_type": "code",
   "execution_count": 52,
   "id": "9e192446",
   "metadata": {
    "execution": {
     "iopub.execute_input": "2025-08-11T14:56:39.314174Z",
     "iopub.status.busy": "2025-08-11T14:56:39.313631Z",
     "iopub.status.idle": "2025-08-11T14:56:39.317535Z",
     "shell.execute_reply": "2025-08-11T14:56:39.316896Z",
     "shell.execute_reply.started": "2025-08-11T14:56:39.314152Z"
    },
    "trusted": true
   },
   "outputs": [],
   "source": [
    "agent_exec = AgentExecutor(agent=agent, \n",
    "                           tools=tools,\n",
    "                           memory=memory,\n",
    "                           verbose=True,\n",
    "                           memory_key=\"chat_history\",\n",
    "                           return_intermediate_steps=True)"
   ]
  },
  {
   "cell_type": "code",
   "execution_count": 53,
   "id": "ef54ac04",
   "metadata": {},
   "outputs": [
    {
     "name": "stdout",
     "output_type": "stream",
     "text": [
      "\n",
      "\n",
      "\u001b[1m> Entering new AgentExecutor chain...\u001b[0m\n",
      "\u001b[32;1m\u001b[1;3mHi there! How can I assist you today?\u001b[0m\n",
      "\n",
      "\u001b[1m> Finished chain.\u001b[0m\n",
      "Hi there! How can I assist you today?\n"
     ]
    }
   ],
   "source": [
    "res = agent_exec.invoke({\"input\": \"Hello\"})\n",
    "print(res[\"output\"])"
   ]
  },
  {
   "cell_type": "code",
   "execution_count": 54,
   "id": "9e71a560",
   "metadata": {
    "execution": {
     "iopub.execute_input": "2025-08-11T14:56:40.352318Z",
     "iopub.status.busy": "2025-08-11T14:56:40.351717Z",
     "iopub.status.idle": "2025-08-11T14:56:40.525190Z",
     "shell.execute_reply": "2025-08-11T14:56:40.524438Z",
     "shell.execute_reply.started": "2025-08-11T14:56:40.352285Z"
    },
    "trusted": true
   },
   "outputs": [
    {
     "name": "stdout",
     "output_type": "stream",
     "text": [
      "\n",
      "\n",
      "\u001b[1m> Entering new AgentExecutor chain...\u001b[0m\n",
      "\u001b[32;1m\u001b[1;3m\n",
      "Invoking: `classify_spam_ham` with `{'text': 'hello click here'}`\n",
      "\n",
      "\n",
      "\u001b[0mSearching for query: hello click here\n",
      "\u001b[36;1m\u001b[1;3mspam\u001b[0m\u001b[32;1m\u001b[1;3mThe message is classified as spam.\u001b[0m\n",
      "\n",
      "\u001b[1m> Finished chain.\u001b[0m\n"
     ]
    },
    {
     "data": {
      "text/plain": [
       "{'input': 'Classify: hello click here',\n",
       " 'chat_history': [HumanMessage(content='Hello', additional_kwargs={}, response_metadata={}),\n",
       "  AIMessage(content='Hi there! How can I assist you today?', additional_kwargs={}, response_metadata={})],\n",
       " 'output': 'The message is classified as spam.',\n",
       " 'intermediate_steps': [(ToolAgentAction(tool='classify_spam_ham', tool_input={'text': 'hello click here'}, log=\"\\nInvoking: `classify_spam_ham` with `{'text': 'hello click here'}`\\n\\n\\n\", message_log=[AIMessageChunk(content='', additional_kwargs={'tool_calls': [{'index': 0, 'id': 'call_Ai8gVwOe8PZO1SypRLHlTy8P', 'function': {'arguments': '{\"text\":\"hello click here\"}', 'name': 'classify_spam_ham'}, 'type': 'function'}]}, response_metadata={'finish_reason': 'tool_calls', 'model_name': 'gpt-4o-mini-2024-07-18', 'system_fingerprint': 'fp_34a54ae93c', 'service_tier': 'default'}, id='run--364b92df-84ef-4286-9955-2cae9b26d93d', tool_calls=[{'name': 'classify_spam_ham', 'args': {'text': 'hello click here'}, 'id': 'call_Ai8gVwOe8PZO1SypRLHlTy8P', 'type': 'tool_call'}], tool_call_chunks=[{'name': 'classify_spam_ham', 'args': '{\"text\":\"hello click here\"}', 'id': 'call_Ai8gVwOe8PZO1SypRLHlTy8P', 'index': 0, 'type': 'tool_call_chunk'}])], tool_call_id='call_Ai8gVwOe8PZO1SypRLHlTy8P'),\n",
       "   'spam')]}"
      ]
     },
     "execution_count": 54,
     "metadata": {},
     "output_type": "execute_result"
    }
   ],
   "source": [
    "res = agent_exec.invoke({\"input\": \"Classify: hello click here\"})\n",
    "res"
   ]
  },
  {
   "cell_type": "code",
   "execution_count": 55,
   "id": "66c47c64",
   "metadata": {
    "execution": {
     "iopub.execute_input": "2025-08-11T14:48:06.781033Z",
     "iopub.status.busy": "2025-08-11T14:48:06.780450Z",
     "iopub.status.idle": "2025-08-11T14:48:09.522710Z",
     "shell.execute_reply": "2025-08-11T14:48:09.522030Z",
     "shell.execute_reply.started": "2025-08-11T14:48:06.781006Z"
    },
    "trusted": true
   },
   "outputs": [
    {
     "name": "stdout",
     "output_type": "stream",
     "text": [
      "\n",
      "\n",
      "\u001b[1m> Entering new AgentExecutor chain...\u001b[0m\n",
      "\u001b[32;1m\u001b[1;3mMichael Jordan is a former professional basketball player widely regarded as one of the greatest basketball players of all time. He played the majority of his career for the Chicago Bulls in the NBA, where he won six championships and earned numerous accolades, including five Most Valuable Player (MVP) awards. Known for his scoring ability, athleticism, and competitive spirit, Jordan became a global icon and helped popularize the NBA worldwide. After retiring from basketball, he became a successful businessman and is the principal owner of the Charlotte Hornets, an NBA team.\u001b[0m\n",
      "\n",
      "\u001b[1m> Finished chain.\u001b[0m\n",
      "Michael Jordan is a former professional basketball player widely regarded as one of the greatest basketball players of all time. He played the majority of his career for the Chicago Bulls in the NBA, where he won six championships and earned numerous accolades, including five Most Valuable Player (MVP) awards. Known for his scoring ability, athleticism, and competitive spirit, Jordan became a global icon and helped popularize the NBA worldwide. After retiring from basketball, he became a successful businessman and is the principal owner of the Charlotte Hornets, an NBA team.\n"
     ]
    }
   ],
   "source": [
    "res = agent_exec.invoke({\"input\": \"Who is Michael Jordan?\"})\n",
    "print(res[\"output\"])"
   ]
  },
  {
   "cell_type": "code",
   "execution_count": 56,
   "id": "6a85e482-7955-42ee-b455-68e22b2fef6a",
   "metadata": {
    "execution": {
     "iopub.execute_input": "2025-08-11T14:48:11.111692Z",
     "iopub.status.busy": "2025-08-11T14:48:11.111440Z",
     "iopub.status.idle": "2025-08-11T14:48:12.729292Z",
     "shell.execute_reply": "2025-08-11T14:48:12.728663Z",
     "shell.execute_reply.started": "2025-08-11T14:48:11.111673Z"
    },
    "trusted": true
   },
   "outputs": [
    {
     "name": "stdout",
     "output_type": "stream",
     "text": [
      "\n",
      "\n",
      "\u001b[1m> Entering new AgentExecutor chain...\u001b[0m\n",
      "\u001b[32;1m\u001b[1;3mI'm sorry, but I don't have access to your name or personal information. If you'd like to share your name, feel free to do so!\u001b[0m\n",
      "\n",
      "\u001b[1m> Finished chain.\u001b[0m\n",
      "I'm sorry, but I don't have access to your name or personal information. If you'd like to share your name, feel free to do so!\n"
     ]
    }
   ],
   "source": [
    "res = agent_exec.invoke({\"input\": \"What's my name?\"})\n",
    "print(res[\"output\"])"
   ]
  },
  {
   "cell_type": "code",
   "execution_count": 57,
   "id": "3832a464-a574-42c7-9f67-66c48679f7af",
   "metadata": {
    "execution": {
     "iopub.execute_input": "2025-08-11T14:48:14.208098Z",
     "iopub.status.busy": "2025-08-11T14:48:14.207836Z",
     "iopub.status.idle": "2025-08-11T14:48:15.054032Z",
     "shell.execute_reply": "2025-08-11T14:48:15.053288Z",
     "shell.execute_reply.started": "2025-08-11T14:48:14.208079Z"
    },
    "trusted": true
   },
   "outputs": [
    {
     "name": "stdout",
     "output_type": "stream",
     "text": [
      "\n",
      "\n",
      "\u001b[1m> Entering new AgentExecutor chain...\u001b[0m\n",
      "\u001b[32;1m\u001b[1;3mNice to meet you, Bob! How can I assist you today?\u001b[0m\n",
      "\n",
      "\u001b[1m> Finished chain.\u001b[0m\n",
      "Nice to meet you, Bob! How can I assist you today?\n"
     ]
    }
   ],
   "source": [
    "res = agent_exec.invoke({\"input\": \"my name is Bob\"})\n",
    "print(res[\"output\"])"
   ]
  },
  {
   "cell_type": "code",
   "execution_count": 58,
   "id": "1b2df33f-b015-442e-94bf-845585c3915c",
   "metadata": {
    "execution": {
     "iopub.execute_input": "2025-08-11T14:48:15.962978Z",
     "iopub.status.busy": "2025-08-11T14:48:15.962417Z",
     "iopub.status.idle": "2025-08-11T14:48:16.352620Z",
     "shell.execute_reply": "2025-08-11T14:48:16.351952Z",
     "shell.execute_reply.started": "2025-08-11T14:48:15.962954Z"
    },
    "trusted": true
   },
   "outputs": [
    {
     "name": "stdout",
     "output_type": "stream",
     "text": [
      "\n",
      "\n",
      "\u001b[1m> Entering new AgentExecutor chain...\u001b[0m\n",
      "\u001b[32;1m\u001b[1;3mYour name is Bob. How can I help you today, Bob?\u001b[0m\n",
      "\n",
      "\u001b[1m> Finished chain.\u001b[0m\n",
      "Your name is Bob. How can I help you today, Bob?\n"
     ]
    }
   ],
   "source": [
    "res = agent_exec.invoke({\"input\": \"What's my name?\"})\n",
    "print(res[\"output\"])"
   ]
  },
  {
   "cell_type": "code",
   "execution_count": 59,
   "id": "64b53637-4044-434e-8c89-f39e10301e5a",
   "metadata": {
    "execution": {
     "iopub.execute_input": "2025-08-11T14:42:22.213590Z",
     "iopub.status.busy": "2025-08-11T14:42:22.213306Z",
     "iopub.status.idle": "2025-08-11T14:42:23.440454Z",
     "shell.execute_reply": "2025-08-11T14:42:23.439663Z",
     "shell.execute_reply.started": "2025-08-11T14:42:22.213571Z"
    },
    "trusted": true
   },
   "outputs": [
    {
     "name": "stdout",
     "output_type": "stream",
     "text": [
      "\n",
      "\n",
      "\u001b[1m> Entering new AgentExecutor chain...\u001b[0m\n",
      "\u001b[32;1m\u001b[1;3mI don't know your favorite color, Bob. If you'd like to share it, feel free!\u001b[0m\n",
      "\n",
      "\u001b[1m> Finished chain.\u001b[0m\n",
      "I don't know your favorite color, Bob. If you'd like to share it, feel free!\n"
     ]
    }
   ],
   "source": [
    "res = agent_exec.invoke({\"input\": \"What's my favorite color?\"})\n",
    "print(res[\"output\"])"
   ]
  },
  {
   "cell_type": "code",
   "execution_count": 60,
   "id": "6dab17de-da93-4f81-94f9-11b2c71ec985",
   "metadata": {
    "execution": {
     "iopub.execute_input": "2025-08-11T14:42:25.023216Z",
     "iopub.status.busy": "2025-08-11T14:42:25.022923Z",
     "iopub.status.idle": "2025-08-11T14:42:26.343807Z",
     "shell.execute_reply": "2025-08-11T14:42:26.342392Z",
     "shell.execute_reply.started": "2025-08-11T14:42:25.023194Z"
    },
    "trusted": true
   },
   "outputs": [
    {
     "name": "stdout",
     "output_type": "stream",
     "text": [
      "\n",
      "\n",
      "\u001b[1m> Entering new AgentExecutor chain...\u001b[0m\n",
      "\u001b[32;1m\u001b[1;3mThat's great, Bob! Yellow is a bright and cheerful color. How can I assist you further today?\u001b[0m\n",
      "\n",
      "\u001b[1m> Finished chain.\u001b[0m\n",
      "That's great, Bob! Yellow is a bright and cheerful color. How can I assist you further today?\n"
     ]
    }
   ],
   "source": [
    "res = agent_exec.invoke({\"input\": \"My favorite color is yellow\"})\n",
    "print(res[\"output\"])"
   ]
  },
  {
   "cell_type": "code",
   "execution_count": 61,
   "id": "dcd52c41-de53-4418-a9ab-47b2a49596f5",
   "metadata": {
    "execution": {
     "iopub.execute_input": "2025-08-11T14:42:28.126201Z",
     "iopub.status.busy": "2025-08-11T14:42:28.125739Z",
     "iopub.status.idle": "2025-08-11T14:42:28.763691Z",
     "shell.execute_reply": "2025-08-11T14:42:28.763042Z",
     "shell.execute_reply.started": "2025-08-11T14:42:28.126181Z"
    },
    "trusted": true
   },
   "outputs": [
    {
     "name": "stdout",
     "output_type": "stream",
     "text": [
      "\n",
      "\n",
      "\u001b[1m> Entering new AgentExecutor chain...\u001b[0m\n",
      "\u001b[32;1m\u001b[1;3mYour favorite color is yellow. Would you like to talk about anything else, Bob?\u001b[0m\n",
      "\n",
      "\u001b[1m> Finished chain.\u001b[0m\n",
      "Your favorite color is yellow. Would you like to talk about anything else, Bob?\n"
     ]
    }
   ],
   "source": [
    "res = agent_exec.invoke({\"input\": \"What's my favorite color?\"})\n",
    "print(res[\"output\"])"
   ]
  },
  {
   "cell_type": "code",
   "execution_count": 62,
   "id": "4f3bec4d",
   "metadata": {},
   "outputs": [
    {
     "name": "stdout",
     "output_type": "stream",
     "text": [
      "\n",
      "\n",
      "\u001b[1m> Entering new AgentExecutor chain...\u001b[0m\n",
      "\u001b[32;1m\u001b[1;3m\n",
      "Invoking: `search_info_about_Mykhailo_Ivasiuk` with `{'query': 'Where was Mykhailo Ivasiuk born?'}`\n",
      "\n",
      "\n",
      "\u001b[0mSearching for query: Where was Mykhailo Ivasiuk born?\n",
      "\u001b[33;1m\u001b[1;3mMy name is Mykhailo Ivasiuk. \n",
      "I am from Zarichia, the Ivano-Frankivsk region of Ukraine. \n",
      "I was born in Ibiza, Spain..I was born in Ibiza, Spain. My dad is Mykhailo, and my mother is Nadiya..I am currently studying at the Ukrainian Catholic University in the Faculty of Applied Sciences, specializing in Computer Science.\n",
      "I am passionate about developing problem-solving skills..I am passionate about developing problem-solving skills.\n",
      "I am currently studying a new field for Machine Learning, which I really enjoy.\n",
      "I like going to gym.\u001b[0m\u001b[32;1m\u001b[1;3mMykhailo Ivasiuk was born in Ibiza, Spain, but he is originally from Zarichia, located in the Ivano-Frankivsk region of Ukraine. If you have any more questions about him or anything else, feel free to ask!\u001b[0m\n",
      "\n",
      "\u001b[1m> Finished chain.\u001b[0m\n",
      "Mykhailo Ivasiuk was born in Ibiza, Spain, but he is originally from Zarichia, located in the Ivano-Frankivsk region of Ukraine. If you have any more questions about him or anything else, feel free to ask!\n"
     ]
    }
   ],
   "source": [
    "res = agent_exec.invoke({\"input\": \"Provide information about where Mykhailo was born\"})\n",
    "print(res[\"output\"])"
   ]
  },
  {
   "cell_type": "code",
   "execution_count": 63,
   "id": "dbfebfa9-74a4-443e-b3a0-47f4eec1e62b",
   "metadata": {
    "execution": {
     "iopub.execute_input": "2025-08-11T13:20:35.534425Z",
     "iopub.status.busy": "2025-08-11T13:20:35.533843Z",
     "iopub.status.idle": "2025-08-11T13:20:35.539785Z",
     "shell.execute_reply": "2025-08-11T13:20:35.539027Z",
     "shell.execute_reply.started": "2025-08-11T13:20:35.534403Z"
    },
    "trusted": true
   },
   "outputs": [
    {
     "data": {
      "text/plain": [
       "{'input': 'Provide information about where Mykhailo was born',\n",
       " 'chat_history': [HumanMessage(content='Hello', additional_kwargs={}, response_metadata={}),\n",
       "  AIMessage(content='Hi there! How can I assist you today?', additional_kwargs={}, response_metadata={}),\n",
       "  HumanMessage(content='Classify: hello click here', additional_kwargs={}, response_metadata={}),\n",
       "  AIMessage(content='The message is classified as spam.', additional_kwargs={}, response_metadata={}),\n",
       "  HumanMessage(content='Who is Michael Jordan?', additional_kwargs={}, response_metadata={}),\n",
       "  AIMessage(content='Michael Jordan is a former professional basketball player widely regarded as one of the greatest basketball players of all time. He played the majority of his career for the Chicago Bulls in the NBA, where he won six championships and earned numerous accolades, including five Most Valuable Player (MVP) awards. Known for his scoring ability, athleticism, and competitive spirit, Jordan became a global icon and helped popularize the NBA worldwide. After retiring from basketball, he became a successful businessman and is the principal owner of the Charlotte Hornets, an NBA team.', additional_kwargs={}, response_metadata={}),\n",
       "  HumanMessage(content=\"What's my name?\", additional_kwargs={}, response_metadata={}),\n",
       "  AIMessage(content=\"I'm sorry, but I don't have access to your name or personal information. If you'd like to share your name, feel free to do so!\", additional_kwargs={}, response_metadata={}),\n",
       "  HumanMessage(content='my name is Bob', additional_kwargs={}, response_metadata={}),\n",
       "  AIMessage(content='Nice to meet you, Bob! How can I assist you today?', additional_kwargs={}, response_metadata={}),\n",
       "  HumanMessage(content=\"What's my name?\", additional_kwargs={}, response_metadata={}),\n",
       "  AIMessage(content='Your name is Bob. How can I help you today, Bob?', additional_kwargs={}, response_metadata={}),\n",
       "  HumanMessage(content=\"What's my favorite color?\", additional_kwargs={}, response_metadata={}),\n",
       "  AIMessage(content=\"I don't know your favorite color, Bob. If you'd like to share it, feel free!\", additional_kwargs={}, response_metadata={}),\n",
       "  HumanMessage(content='My favorite color is yellow', additional_kwargs={}, response_metadata={}),\n",
       "  AIMessage(content=\"That's great, Bob! Yellow is a bright and cheerful color. How can I assist you further today?\", additional_kwargs={}, response_metadata={}),\n",
       "  HumanMessage(content=\"What's my favorite color?\", additional_kwargs={}, response_metadata={}),\n",
       "  AIMessage(content='Your favorite color is yellow. Would you like to talk about anything else, Bob?', additional_kwargs={}, response_metadata={})],\n",
       " 'output': 'Mykhailo Ivasiuk was born in Ibiza, Spain, but he is originally from Zarichia, located in the Ivano-Frankivsk region of Ukraine. If you have any more questions about him or anything else, feel free to ask!',\n",
       " 'intermediate_steps': [(ToolAgentAction(tool='search_info_about_Mykhailo_Ivasiuk', tool_input={'query': 'Where was Mykhailo Ivasiuk born?'}, log=\"\\nInvoking: `search_info_about_Mykhailo_Ivasiuk` with `{'query': 'Where was Mykhailo Ivasiuk born?'}`\\n\\n\\n\", message_log=[AIMessageChunk(content='', additional_kwargs={'tool_calls': [{'index': 0, 'id': 'call_pqycuuFT5NTE9KGrg6MDr098', 'function': {'arguments': '{\"query\":\"Where was Mykhailo Ivasiuk born?\"}', 'name': 'search_info_about_Mykhailo_Ivasiuk'}, 'type': 'function'}]}, response_metadata={'finish_reason': 'tool_calls', 'model_name': 'gpt-4o-mini-2024-07-18', 'system_fingerprint': 'fp_34a54ae93c', 'service_tier': 'default'}, id='run--cf75a6e6-09a3-44f9-8252-f9d2a51b8881', tool_calls=[{'name': 'search_info_about_Mykhailo_Ivasiuk', 'args': {'query': 'Where was Mykhailo Ivasiuk born?'}, 'id': 'call_pqycuuFT5NTE9KGrg6MDr098', 'type': 'tool_call'}], tool_call_chunks=[{'name': 'search_info_about_Mykhailo_Ivasiuk', 'args': '{\"query\":\"Where was Mykhailo Ivasiuk born?\"}', 'id': 'call_pqycuuFT5NTE9KGrg6MDr098', 'index': 0, 'type': 'tool_call_chunk'}])], tool_call_id='call_pqycuuFT5NTE9KGrg6MDr098'),\n",
       "   'My name is Mykhailo Ivasiuk. \\nI am from Zarichia, the Ivano-Frankivsk region of Ukraine. \\nI was born in Ibiza, Spain..I was born in Ibiza, Spain. My dad is Mykhailo, and my mother is Nadiya..I am currently studying at the Ukrainian Catholic University in the Faculty of Applied Sciences, specializing in Computer Science.\\nI am passionate about developing problem-solving skills..I am passionate about developing problem-solving skills.\\nI am currently studying a new field for Machine Learning, which I really enjoy.\\nI like going to gym.')]}"
      ]
     },
     "execution_count": 63,
     "metadata": {},
     "output_type": "execute_result"
    }
   ],
   "source": [
    "res"
   ]
  },
  {
   "cell_type": "code",
   "execution_count": null,
   "id": "100415ff-bb4e-400f-b8af-7eafdeb8f012",
   "metadata": {
    "trusted": true
   },
   "outputs": [],
   "source": []
  }
 ],
 "metadata": {
  "kaggle": {
   "accelerator": "gpu",
   "dataSources": [
    {
     "datasetId": 8043412,
     "sourceId": 12725625,
     "sourceType": "datasetVersion"
    },
    {
     "datasetId": 8050161,
     "sourceId": 12735560,
     "sourceType": "datasetVersion"
    }
   ],
   "isGpuEnabled": true,
   "isInternetEnabled": true,
   "language": "python",
   "sourceType": "notebook"
  },
  "kernelspec": {
   "display_name": ".venv",
   "language": "python",
   "name": "python3"
  },
  "language_info": {
   "codemirror_mode": {
    "name": "ipython",
    "version": 3
   },
   "file_extension": ".py",
   "mimetype": "text/x-python",
   "name": "python",
   "nbconvert_exporter": "python",
   "pygments_lexer": "ipython3",
   "version": "3.12.4"
  }
 },
 "nbformat": 4,
 "nbformat_minor": 5
}
